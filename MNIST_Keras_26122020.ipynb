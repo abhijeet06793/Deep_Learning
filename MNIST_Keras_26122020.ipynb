{
 "cells": [
  {
   "cell_type": "markdown",
   "metadata": {},
   "source": [
    "# Keras - MNIST dataset"
   ]
  },
  {
   "cell_type": "markdown",
   "metadata": {},
   "source": [
    "### Importing the libraries"
   ]
  },
  {
   "cell_type": "code",
   "execution_count": 67,
   "metadata": {},
   "outputs": [
    {
     "name": "stdout",
     "output_type": "stream",
     "text": [
      "2.4.0\n"
     ]
    }
   ],
   "source": [
    "import tensorflow as tf\n",
    "print(tf.__version__)\n",
    "from tensorflow import keras\n",
    "import pandas as pd\n",
    "import numpy as np\n",
    "from tensorflow.keras import Sequential\n",
    "from tensorflow.keras.layers import Dense"
   ]
  },
  {
   "cell_type": "markdown",
   "metadata": {},
   "source": [
    "### Basis EDA on dataset"
   ]
  },
  {
   "cell_type": "code",
   "execution_count": 3,
   "metadata": {},
   "outputs": [
    {
     "name": "stdout",
     "output_type": "stream",
     "text": [
      "Downloading data from https://storage.googleapis.com/tensorflow/tf-keras-datasets/mnist.npz\n",
      "11493376/11490434 [==============================] - 8s 1us/step\n",
      "The shape of x_train is (60000, 28, 28)\n",
      "The shape of y_train is (60000,)\n",
      "The shape of x_test is (10000, 28, 28)\n",
      "The shape of y_train is (10000,)\n"
     ]
    }
   ],
   "source": [
    "(x_train, y_train), (x_test, y_test) = keras.datasets.mnist.load_data()\n",
    "\n",
    "print(\"The shape of x_train is\",x_train.shape)\n",
    "print(\"The shape of y_train is\",y_train.shape)\n",
    "print(\"The shape of x_test is\",x_test.shape)\n",
    "print(\"The shape of y_train is\",y_test.shape)"
   ]
  },
  {
   "cell_type": "code",
   "execution_count": 6,
   "metadata": {},
   "outputs": [
    {
     "name": "stdout",
     "output_type": "stream",
     "text": [
      "The dtype of x_train is <class 'numpy.ndarray'>\n",
      "The dtype of y_train is <class 'numpy.ndarray'>\n",
      "The dtype of x_test is <class 'numpy.ndarray'>\n",
      "The dtype of y_train is <class 'numpy.ndarray'>\n"
     ]
    }
   ],
   "source": [
    "print(\"The dtype of x_train is\",type(x_train))\n",
    "print(\"The dtype of y_train is\",type(y_train))\n",
    "print(\"The dtype of x_test is\",type(x_test))\n",
    "print(\"The dtype of y_train is\",type(y_test))"
   ]
  },
  {
   "cell_type": "code",
   "execution_count": 24,
   "metadata": {},
   "outputs": [
    {
     "name": "stdout",
     "output_type": "stream",
     "text": [
      "Number of training examples : 60000 and each image is of shape ( 28 , 28 )\n",
      "Number of training examples : 10000 and each image is of shape ( 28 , 28 )\n"
     ]
    }
   ],
   "source": [
    "print(\"Number of training examples :\", x_train.shape[0], \"and each image is of shape (\", x_train.shape[1],\",\",x_train.shape[2],\")\")\n",
    "print(\"Number of training examples :\", x_test.shape[0], \"and each image is of shape (\", x_test.shape[1],\",\",x_test.shape[2],\")\")"
   ]
  },
  {
   "cell_type": "markdown",
   "metadata": {},
   "source": [
    "### Preprocessing of data"
   ]
  },
  {
   "cell_type": "code",
   "execution_count": 25,
   "metadata": {},
   "outputs": [
    {
     "name": "stdout",
     "output_type": "stream",
     "text": [
      "The reshape of x_train is (60000, 784)\n",
      "The reshape of x_test is (10000, 784)\n"
     ]
    }
   ],
   "source": [
    "# The input shape its 2 dimensional vector for each image we have a (28*28) vector\n",
    "# we will convert the (28*28) vector into single dimensional vector of 1 * 784\n",
    "\n",
    "x_train = x_train.reshape((x_train.shape[0], x_train.shape[1]*x_train.shape[2]))\n",
    "x_test = x_test.reshape((x_test.shape[0], x_test.shape[1]*x_test.shape[2]))\n",
    "print(\"The reshape of x_train is\",x_train.shape)\n",
    "print(\"The reshape of x_test is\",x_test.shape)"
   ]
  },
  {
   "cell_type": "code",
   "execution_count": 51,
   "metadata": {},
   "outputs": [
    {
     "name": "stdout",
     "output_type": "stream",
     "text": [
      "The reshape of y_train is (60000, 10)\n",
      "The reshape of y_test is (10000, 10)\n"
     ]
    }
   ],
   "source": [
    "y_train1 = keras.utils.to_categorical(y_train)\n",
    "y_test1 = keras.utils.to_categorical(y_test)\n",
    "\n",
    "print(\"The reshape of y_train is\",y_train1.shape)\n",
    "print(\"The reshape of y_test is\",y_test1.shape)"
   ]
  },
  {
   "cell_type": "markdown",
   "metadata": {},
   "source": [
    "## Modelling"
   ]
  },
  {
   "cell_type": "markdown",
   "metadata": {},
   "source": [
    "### 1. Input(784) -- Output(10, Softmax)\n",
    "\n",
    "### Parameters :-\n",
    "1. He_nomalization\n",
    "2. Adam optimizer\n",
    "3. Cross_entropy loss"
   ]
  },
  {
   "cell_type": "code",
   "execution_count": 69,
   "metadata": {
    "scrolled": true
   },
   "outputs": [],
   "source": [
    "model = Sequential()\n",
    "model.add(Dense(units = 10, activation='softmax', use_bias = True, input_dim = 784, \\\n",
    "                kernel_initializer=tf.keras.initializers.he_normal(), bias_initializer=tf.keras.initializers.random_normal()))"
   ]
  },
  {
   "cell_type": "code",
   "execution_count": 70,
   "metadata": {},
   "outputs": [],
   "source": [
    "model.compile(optimizer=tf.keras.optimizers.Adam(), loss = tf.keras.losses.categorical_crossentropy, metrics=['accuracy'])"
   ]
  },
  {
   "cell_type": "code",
   "execution_count": 71,
   "metadata": {},
   "outputs": [
    {
     "name": "stdout",
     "output_type": "stream",
     "text": [
      "Epoch 1/10\n",
      "469/469 [==============================] - 3s 5ms/step - loss: 26.0145 - accuracy: 0.6888 - val_loss: 5.6294 - val_accuracy: 0.8727\n",
      "Epoch 2/10\n",
      "469/469 [==============================] - 2s 4ms/step - loss: 5.0021 - accuracy: 0.8754 - val_loss: 5.1915 - val_accuracy: 0.8572\n",
      "Epoch 3/10\n",
      "469/469 [==============================] - 2s 4ms/step - loss: 4.0522 - accuracy: 0.8798 - val_loss: 3.9586 - val_accuracy: 0.8877\n",
      "Epoch 4/10\n",
      "469/469 [==============================] - 2s 4ms/step - loss: 3.4470 - accuracy: 0.8903 - val_loss: 4.1015 - val_accuracy: 0.8834\n",
      "Epoch 5/10\n",
      "469/469 [==============================] - 2s 3ms/step - loss: 3.2715 - accuracy: 0.8873 - val_loss: 3.6717 - val_accuracy: 0.8821\n",
      "Epoch 6/10\n",
      "469/469 [==============================] - 2s 4ms/step - loss: 2.9066 - accuracy: 0.8937 - val_loss: 3.3708 - val_accuracy: 0.8905\n",
      "Epoch 7/10\n",
      "469/469 [==============================] - 2s 4ms/step - loss: 2.8458 - accuracy: 0.8933 - val_loss: 3.6073 - val_accuracy: 0.8710\n",
      "Epoch 8/10\n",
      "469/469 [==============================] - 2s 4ms/step - loss: 2.7157 - accuracy: 0.8941 - val_loss: 3.0536 - val_accuracy: 0.8896\n",
      "Epoch 9/10\n",
      "469/469 [==============================] - 2s 4ms/step - loss: 2.5944 - accuracy: 0.8933 - val_loss: 3.0822 - val_accuracy: 0.8921\n",
      "Epoch 10/10\n",
      "469/469 [==============================] - 2s 4ms/step - loss: 2.5566 - accuracy: 0.8950 - val_loss: 3.0944 - val_accuracy: 0.8985\n"
     ]
    }
   ],
   "source": [
    "history = model.fit(x= x_train, y= y_train1, batch_size=128, epochs=10, validation_data=(x_test, y_test1))"
   ]
  },
  {
   "cell_type": "code",
   "execution_count": 74,
   "metadata": {},
   "outputs": [
    {
     "name": "stdout",
     "output_type": "stream",
     "text": [
      "Accuracy of the model on test data is: 0.8985000252723694\n"
     ]
    }
   ],
   "source": [
    "score= model.evaluate(x_test, y_test1, verbose=0)\n",
    "#it returns loss value and metric value\n",
    "print(\"Accuracy of the model on test data is:\",score[1])"
   ]
  },
  {
   "cell_type": "code",
   "execution_count": 76,
   "metadata": {},
   "outputs": [
    {
     "data": {
      "image/png": "[encoded data removed]",
      "text/plain": [
       "<Figure size 432x288 with 1 Axes>"
      ]
     },
     "metadata": {
      "needs_background": "light"
     },
     "output_type": "display_data"
    }
   ],
   "source": [
    "train_loss = history.history['loss']\n",
    "test_loss = history.history['val_loss']\n",
    "import matplotlib.pyplot as plt\n",
    "plt.grid(True)\n",
    "plt.plot(range(1,11), train_loss, label=\"train loss\")\n",
    "plt.plot(range(1,11), test_loss, label=\"test loss\")\n",
    "plt.legend()\n",
    "plt.show()"
   ]
  },
  {
   "cell_type": "code",
   "execution_count": 78,
   "metadata": {},
   "outputs": [
    {
     "data": {
      "image/png": "[encoded data removed]",
      "text/plain": [
       "<Figure size 432x288 with 1 Axes>"
      ]
     },
     "metadata": {
      "needs_background": "light"
     },
     "output_type": "display_data"
    }
   ],
   "source": [
    "train_accuracy = history.history['accuracy']\n",
    "test_accuracy = history.history['val_accuracy']\n",
    "import matplotlib.pyplot as plt\n",
    "plt.grid(True)\n",
    "plt.plot(range(1,11), train_accuracy, label=\"train acc\")\n",
    "plt.plot(range(1,11), test_accuracy, label=\"test acc\")\n",
    "plt.legend()\n",
    "plt.show()"
   ]
  },
  {
   "cell_type": "markdown",
   "metadata": {},
   "source": [
    "### 2.  Input(784) ---Layer1(1024, Relu)---Layer2(512, Relu)---Layer3(128,  Relu)---Output(10, Softmax)\n",
    "\n",
    "### Parameters :-\n",
    "1. He_nomalization\n",
    "2. Adam optimizer\n",
    "3. Cross_entropy loss"
   ]
  },
  {
   "cell_type": "code",
   "execution_count": 81,
   "metadata": {},
   "outputs": [],
   "source": [
    "model = Sequential()\n",
    "model.add(Dense(1024, activation='relu', input_dim= 784, kernel_initializer='he_normal', use_bias= True, \\\n",
    "                bias_initializer= tf.keras.initializers.random_normal()))\n",
    "model.add(Dense(512, activation='relu', kernel_initializer='he_normal', use_bias=True))\n",
    "model.add(Dense(128, activation='relu', kernel_initializer='he_normal', use_bias=True))\n",
    "model.add(Dense(10, activation='softmax', kernel_initializer='he_normal', use_bias=True))"
   ]
  },
  {
   "cell_type": "code",
   "execution_count": 82,
   "metadata": {},
   "outputs": [
    {
     "name": "stdout",
     "output_type": "stream",
     "text": [
      "Model: \"sequential_6\"\n",
      "_________________________________________________________________\n",
      "Layer (type)                 Output Shape              Param #   \n",
      "=================================================================\n",
      "dense_7 (Dense)              (None, 1024)              803840    \n",
      "_________________________________________________________________\n",
      "dense_8 (Dense)              (None, 512)               524800    \n",
      "_________________________________________________________________\n",
      "dense_9 (Dense)              (None, 128)               65664     \n",
      "_________________________________________________________________\n",
      "dense_10 (Dense)             (None, 10)                1290      \n",
      "=================================================================\n",
      "Total params: 1,395,594\n",
      "Trainable params: 1,395,594\n",
      "Non-trainable params: 0\n",
      "_________________________________________________________________\n"
     ]
    }
   ],
   "source": [
    "model.summary()"
   ]
  },
  {
   "cell_type": "code",
   "execution_count": 83,
   "metadata": {},
   "outputs": [],
   "source": [
    "model.compile(optimizer='adam', loss=\"categorical_crossentropy\", metrics=['accuracy'])"
   ]
  },
  {
   "cell_type": "code",
   "execution_count": 84,
   "metadata": {},
   "outputs": [
    {
     "name": "stdout",
     "output_type": "stream",
     "text": [
      "Epoch 1/10\n",
      "469/469 [==============================] - 28s 58ms/step - loss: 13.8157 - accuracy: 0.8344 - val_loss: 0.5825 - val_accuracy: 0.9367\n",
      "Epoch 2/10\n",
      "469/469 [==============================] - 25s 53ms/step - loss: 0.3796 - accuracy: 0.9525 - val_loss: 0.3142 - val_accuracy: 0.9552\n",
      "Epoch 3/10\n",
      "469/469 [==============================] - 27s 58ms/step - loss: 0.1571 - accuracy: 0.9713 - val_loss: 0.3136 - val_accuracy: 0.9611\n",
      "Epoch 4/10\n",
      "469/469 [==============================] - 26s 55ms/step - loss: 0.1081 - accuracy: 0.9796 - val_loss: 0.3740 - val_accuracy: 0.9537\n",
      "Epoch 5/10\n",
      "469/469 [==============================] - 27s 57ms/step - loss: 0.1126 - accuracy: 0.9780 - val_loss: 0.3270 - val_accuracy: 0.9516\n",
      "Epoch 6/10\n",
      "469/469 [==============================] - 27s 58ms/step - loss: 0.0965 - accuracy: 0.9803 - val_loss: 0.2731 - val_accuracy: 0.9580\n",
      "Epoch 7/10\n",
      "469/469 [==============================] - 26s 56ms/step - loss: 0.0904 - accuracy: 0.9812 - val_loss: 0.2232 - val_accuracy: 0.9662\n",
      "Epoch 8/10\n",
      "469/469 [==============================] - 26s 56ms/step - loss: 0.0840 - accuracy: 0.9820 - val_loss: 0.2603 - val_accuracy: 0.9646\n",
      "Epoch 9/10\n",
      "469/469 [==============================] - 27s 57ms/step - loss: 0.0848 - accuracy: 0.9826 - val_loss: 0.2286 - val_accuracy: 0.9633\n",
      "Epoch 10/10\n",
      "469/469 [==============================] - 27s 58ms/step - loss: 0.0723 - accuracy: 0.9833 - val_loss: 0.2104 - val_accuracy: 0.9672\n"
     ]
    },
    {
     "data": {
      "text/plain": [
       "<tensorflow.python.keras.callbacks.History at 0x1759c794ef0>"
      ]
     },
     "execution_count": 84,
     "metadata": {},
     "output_type": "execute_result"
    }
   ],
   "source": [
    "model.fit(x=x_train, y=y_train1, batch_size=128, epochs=10, validation_data=(x_test, y_test1))"
   ]
  },
  {
   "cell_type": "code",
   "execution_count": 101,
   "metadata": {},
   "outputs": [
    {
     "name": "stdout",
     "output_type": "stream",
     "text": [
      "Accuracy of the model on test data is: 0.967199981212616\n"
     ]
    }
   ],
   "source": [
    "score= model.evaluate(x_test, y_test1, verbose=0)\n",
    "#it returns loss value and metric value\n",
    "print(\"Accuracy of the model on test data is:\",score[1])"
   ]
  },
  {
   "cell_type": "code",
   "execution_count": 102,
   "metadata": {},
   "outputs": [
    {
     "data": {
      "image/png": "[encoded data removed]",
      "text/plain": [
       "<Figure size 432x288 with 1 Axes>"
      ]
     },
     "metadata": {
      "needs_background": "light"
     },
     "output_type": "display_data"
    }
   ],
   "source": [
    "train_loss = history.history['loss']\n",
    "test_loss = history.history['val_loss']\n",
    "import matplotlib.pyplot as plt\n",
    "plt.grid(True)\n",
    "plt.plot(range(1,11), train_loss, label=\"train loss\")\n",
    "plt.plot(range(1,11), test_loss, label=\"test loss\")\n",
    "plt.legend()\n",
    "plt.show()"
   ]
  },
  {
   "cell_type": "code",
   "execution_count": 103,
   "metadata": {},
   "outputs": [
    {
     "data": {
      "image/png": "[encoded data removed]",
      "text/plain": [
       "<Figure size 432x288 with 1 Axes>"
      ]
     },
     "metadata": {
      "needs_background": "light"
     },
     "output_type": "display_data"
    }
   ],
   "source": [
    "train_accuracy = history.history['accuracy']\n",
    "test_accuracy = history.history['val_accuracy']\n",
    "import matplotlib.pyplot as plt\n",
    "plt.grid(True)\n",
    "plt.plot(range(1,11), train_accuracy, label=\"train acc\")\n",
    "plt.plot(range(1,11), test_accuracy, label=\"test acc\")\n",
    "plt.legend()\n",
    "plt.show()"
   ]
  },
  {
   "cell_type": "markdown",
   "metadata": {},
   "source": [
    "#### Plotting weights of model after model build"
   ]
  },
  {
   "cell_type": "code",
   "execution_count": 104,
   "metadata": {},
   "outputs": [
    {
     "data": {
      "image/png": "[encoded data removed]",
      "text/plain": [
       "<Figure size 1440x432 with 4 Axes>"
      ]
     },
     "metadata": {
      "needs_background": "light"
     },
     "output_type": "display_data"
    }
   ],
   "source": [
    "layer1_wt = model.get_weights()[0].ravel()\n",
    "layer2_wt = model.get_weights()[2].ravel()\n",
    "layer3_wt = model.get_weights()[4].ravel()\n",
    "layer4_wt = model.get_weights()[6].ravel()\n",
    "\n",
    "plt.figure(num = 1, figsize=(20,6))\n",
    "\n",
    "plt.subplot(141)\n",
    "sns.violinplot(y= layer1_wt, color='red')\n",
    "\n",
    "plt.subplot(142)\n",
    "sns.violinplot(y= layer2_wt, color= 'green')\n",
    "\n",
    "plt.subplot(143)\n",
    "sns.violinplot(y= layer3_wt, color= 'yellow')\n",
    "\n",
    "plt.subplot(144)\n",
    "sns.violinplot(y= layer4_wt)\n",
    "\n",
    "plt.show()"
   ]
  },
  {
   "cell_type": "markdown",
   "metadata": {},
   "source": [
    "### 3. Input(784) - BatchNormalization() - Dropout(0.2) - Layer1(1024, Relu) - BatchNormalization() - Dropout(0.2) -Layer2(512, Relu) -BatchNormalization() - Dropout(0.2) - Layer3(128,  Relu) - BatchNormalization() - Dropout(0.2) -Output(10, Softmax)\n",
    "\n",
    "### Parameters :-\n",
    "1. He_nomalization\n",
    "2. Adam optimizer\n",
    "3. Cross_entropy loss\n",
    "\n",
    "#This model includes Dropout as well as BatchNormalization layer also."
   ]
  },
  {
   "cell_type": "code",
   "execution_count": 108,
   "metadata": {},
   "outputs": [],
   "source": [
    "import tensorflow as tf\n",
    "from tensorflow.keras import Sequential\n",
    "from tensorflow.keras.layers import Dense, Dropout, BatchNormalization"
   ]
  },
  {
   "cell_type": "code",
   "execution_count": 158,
   "metadata": {},
   "outputs": [],
   "source": [
    "model = Sequential()\n",
    "\n",
    "model.add(Dense(1024, activation='sigmoid', input_dim = 784, use_bias=True, kernel_initializer='he_normal',\\\n",
    "               bias_initializer= tf.keras.initializers.random_normal()))\n",
    "model.add(BatchNormalization())\n",
    "model.add(Dropout(rate=0.2))\n",
    "\n",
    "model.add(Dense(512, activation='sigmoid',use_bias=True, kernel_initializer='he_normal',\\\n",
    "               bias_initializer= tf.keras.initializers.random_normal()))\n",
    "model.add(BatchNormalization())\n",
    "model.add(Dropout(rate=0.2))\n",
    "\n",
    "model.add(Dense(128, activation='sigmoid',use_bias=True, kernel_initializer='he_normal',\\\n",
    "               bias_initializer= tf.keras.initializers.random_normal()))\n",
    "model.add(BatchNormalization()) #Using BatchNormalization layer at the end\n",
    "model.add(Dropout(rate=0.2))\n",
    "\n",
    "model.add(Dense(10, activation='softmax',use_bias=True, kernel_initializer='he_normal',\n",
    "               bias_initializer= tf.keras.initializers.random_normal()))"
   ]
  },
  {
   "cell_type": "code",
   "execution_count": 154,
   "metadata": {},
   "outputs": [
    {
     "name": "stdout",
     "output_type": "stream",
     "text": [
      "Model: \"sequential_19\"\n",
      "_________________________________________________________________\n",
      "Layer (type)                 Output Shape              Param #   \n",
      "=================================================================\n",
      "dense_47 (Dense)             (None, 1024)              803840    \n",
      "_________________________________________________________________\n",
      "batch_normalization_22 (Batc (None, 1024)              4096      \n",
      "_________________________________________________________________\n",
      "dropout_32 (Dropout)         (None, 1024)              0         \n",
      "_________________________________________________________________\n",
      "dense_48 (Dense)             (None, 512)               524800    \n",
      "_________________________________________________________________\n",
      "batch_normalization_23 (Batc (None, 512)               2048      \n",
      "_________________________________________________________________\n",
      "dropout_33 (Dropout)         (None, 512)               0         \n",
      "_________________________________________________________________\n",
      "dense_49 (Dense)             (None, 128)               65664     \n",
      "_________________________________________________________________\n",
      "batch_normalization_24 (Batc (None, 128)               512       \n",
      "_________________________________________________________________\n",
      "dropout_34 (Dropout)         (None, 128)               0         \n",
      "_________________________________________________________________\n",
      "dense_50 (Dense)             (None, 10)                1290      \n",
      "=================================================================\n",
      "Total params: 1,402,250\n",
      "Trainable params: 1,398,922\n",
      "Non-trainable params: 3,328\n",
      "_________________________________________________________________\n"
     ]
    }
   ],
   "source": [
    "model.summary()"
   ]
  },
  {
   "cell_type": "code",
   "execution_count": 171,
   "metadata": {},
   "outputs": [],
   "source": [
    "model.compile(optimizer='adam', loss='categorical_crossentropy', metrics=['accuracy'])"
   ]
  },
  {
   "cell_type": "code",
   "execution_count": 173,
   "metadata": {},
   "outputs": [
    {
     "name": "stdout",
     "output_type": "stream",
     "text": [
      "Epoch 1/10\n",
      "422/422 [==============================] - 29s 69ms/step - loss: 0.2507 - accuracy: 0.9223 - val_loss: 0.1793 - val_accuracy: 0.9482\n",
      "Epoch 2/10\n",
      "422/422 [==============================] - 29s 70ms/step - loss: 0.2385 - accuracy: 0.9252 - val_loss: 0.1700 - val_accuracy: 0.9482\n",
      "Epoch 3/10\n",
      "422/422 [==============================] - 28s 66ms/step - loss: 0.2342 - accuracy: 0.9268 - val_loss: 0.1492 - val_accuracy: 0.9535\n",
      "Epoch 4/10\n",
      "422/422 [==============================] - 28s 66ms/step - loss: 0.2229 - accuracy: 0.9299 - val_loss: 0.1674 - val_accuracy: 0.9505\n",
      "Epoch 5/10\n",
      "422/422 [==============================] - 28s 66ms/step - loss: 0.2090 - accuracy: 0.9344 - val_loss: 0.1285 - val_accuracy: 0.9613\n",
      "Epoch 6/10\n",
      "422/422 [==============================] - 28s 66ms/step - loss: 0.2102 - accuracy: 0.9328 - val_loss: 0.1634 - val_accuracy: 0.9515\n",
      "Epoch 7/10\n",
      "422/422 [==============================] - 28s 66ms/step - loss: 0.1942 - accuracy: 0.9381 - val_loss: 0.1204 - val_accuracy: 0.9642\n",
      "Epoch 8/10\n",
      "422/422 [==============================] - 28s 66ms/step - loss: 0.1885 - accuracy: 0.9407 - val_loss: 0.1242 - val_accuracy: 0.9620\n",
      "Epoch 9/10\n",
      "422/422 [==============================] - 28s 66ms/step - loss: 0.1833 - accuracy: 0.9417 - val_loss: 0.1316 - val_accuracy: 0.9570\n",
      "Epoch 10/10\n",
      "422/422 [==============================] - 28s 66ms/step - loss: 0.1848 - accuracy: 0.9414 - val_loss: 0.1211 - val_accuracy: 0.9640\n"
     ]
    },
    {
     "data": {
      "text/plain": [
       "<tensorflow.python.keras.callbacks.History at 0x1760a4802e8>"
      ]
     },
     "execution_count": 173,
     "metadata": {},
     "output_type": "execute_result"
    }
   ],
   "source": [
    "model.fit(x_train, y_train1, batch_size=128, epochs=10, validation_split=0.1, workers=-1, shuffle=True, verbose=2)"
   ]
  },
  {
   "cell_type": "code",
   "execution_count": 174,
   "metadata": {},
   "outputs": [
    {
     "name": "stdout",
     "output_type": "stream",
     "text": [
      "Accuracy of the model on test data is: 0.9567000269889832\n"
     ]
    }
   ],
   "source": [
    "score= model.evaluate(x_test, y_test1, verbose=0)\n",
    "#it returns loss value and metric value\n",
    "print(\"Accuracy of the model on test data is:\",score[1])"
   ]
  },
  {
   "cell_type": "code",
   "execution_count": 175,
   "metadata": {},
   "outputs": [
    {
     "data": {
      "image/png": "[encoded data removed]",
      "text/plain": [
       "<Figure size 432x288 with 1 Axes>"
      ]
     },
     "metadata": {
      "needs_background": "light"
     },
     "output_type": "display_data"
    }
   ],
   "source": [
    "train_loss = history.history['loss']\n",
    "test_loss = history.history['val_loss']\n",
    "import matplotlib.pyplot as plt\n",
    "plt.grid(True)\n",
    "plt.plot(range(1,11), train_loss, label=\"train loss\")\n",
    "plt.plot(range(1,11), test_loss, label=\"test loss\")\n",
    "plt.legend()\n",
    "plt.show()"
   ]
  },
  {
   "cell_type": "code",
   "execution_count": 176,
   "metadata": {},
   "outputs": [
    {
     "data": {
      "image/png": "[encoded data removed]",
      "text/plain": [
       "<Figure size 432x288 with 1 Axes>"
      ]
     },
     "metadata": {
      "needs_background": "light"
     },
     "output_type": "display_data"
    }
   ],
   "source": [
    "train_accuracy = history.history['accuracy']\n",
    "test_accuracy = history.history['val_accuracy']\n",
    "import matplotlib.pyplot as plt\n",
    "plt.grid(True)\n",
    "plt.plot(range(1,11), train_accuracy, label=\"train acc\")\n",
    "plt.plot(range(1,11), test_accuracy, label=\"test acc\")\n",
    "plt.legend()\n",
    "plt.show()"
   ]
  },
  {
   "cell_type": "markdown",
   "metadata": {},
   "source": [
    "### Confusion Matrix for the Model"
   ]
  },
  {
   "cell_type": "code",
   "execution_count": 282,
   "metadata": {},
   "outputs": [
    {
     "data": {
      "image/png": "[encoded data removed]",
      "text/plain": [
       "<Figure size 1080x432 with 1 Axes>"
      ]
     },
     "metadata": {
      "needs_background": "light"
     },
     "output_type": "display_data"
    }
   ],
   "source": [
    "from sklearn.metrics import confusion_matrix\n",
    "plt.figure(figsize=(15,6))\n",
    "#model.predict returns the probabilities values\n",
    "sns.heatmap(confusion_matrix(y_test, np.argmax(model.predict(x_test), axis=1)), fmt='d', linecolor='white', linewidths=0.2,\\\n",
    "            annot=True, cmap='coolwarm', cbar=False)\n",
    "plt.title(\"Confusion matrix for MNIST data\")\n",
    "plt.ylabel(\"Predicted Class\")\n",
    "plt.xlabel(\"Actual class\")\n",
    "plt.show()"
   ]
  },
  {
   "cell_type": "markdown",
   "metadata": {},
   "source": [
    "### Saving the model"
   ]
  },
  {
   "cell_type": "code",
   "execution_count": 197,
   "metadata": {},
   "outputs": [],
   "source": [
    "#Check first if the file already exists\n",
    "import os\n",
    "if os.path.isfile(r\"C:\\Users\\user-pc\\AppliedAi\\8.0\\mine\\keras_mnist_model.h5\")==False:\n",
    "    model.save(r\"C:\\Users\\user-pc\\AppliedAi\\8.0\\mine\\keras_mnist_model.h5\")"
   ]
  },
  {
   "cell_type": "markdown",
   "metadata": {},
   "source": [
    "This will save the following :\n",
    "1. The architecture of the model, allowing it to recreate it.\n",
    "2. The weights of the model.\n",
    "3. The training configs(optimizer, loss).\n",
    "4. The state of the model, allowing to resume training from where it is left."
   ]
  },
  {
   "cell_type": "markdown",
   "metadata": {},
   "source": [
    "### Loading the model"
   ]
  },
  {
   "cell_type": "code",
   "execution_count": 201,
   "metadata": {},
   "outputs": [
    {
     "name": "stdout",
     "output_type": "stream",
     "text": [
      "Model: \"sequential_20\"\n",
      "_________________________________________________________________\n",
      "Layer (type)                 Output Shape              Param #   \n",
      "=================================================================\n",
      "dense_51 (Dense)             (None, 1024)              803840    \n",
      "_________________________________________________________________\n",
      "batch_normalization_25 (Batc (None, 1024)              4096      \n",
      "_________________________________________________________________\n",
      "dropout_35 (Dropout)         (None, 1024)              0         \n",
      "_________________________________________________________________\n",
      "dense_52 (Dense)             (None, 512)               524800    \n",
      "_________________________________________________________________\n",
      "batch_normalization_26 (Batc (None, 512)               2048      \n",
      "_________________________________________________________________\n",
      "dropout_36 (Dropout)         (None, 512)               0         \n",
      "_________________________________________________________________\n",
      "dense_53 (Dense)             (None, 128)               65664     \n",
      "_________________________________________________________________\n",
      "batch_normalization_27 (Batc (None, 128)               512       \n",
      "_________________________________________________________________\n",
      "dropout_37 (Dropout)         (None, 128)               0         \n",
      "_________________________________________________________________\n",
      "dense_54 (Dense)             (None, 10)                1290      \n",
      "=================================================================\n",
      "Total params: 1,402,250\n",
      "Trainable params: 1,398,922\n",
      "Non-trainable params: 3,328\n",
      "_________________________________________________________________\n"
     ]
    }
   ],
   "source": [
    "from tensorflow.keras.models import load_model\n",
    "model_load = load_model(r\"C:\\Users\\user-pc\\AppliedAi\\8.0\\mine\\keras_mnist_model.h5\")\n",
    "model_load.summary()"
   ]
  },
  {
   "cell_type": "markdown",
   "metadata": {},
   "source": [
    "### Model to json"
   ]
  },
  {
   "cell_type": "code",
   "execution_count": 221,
   "metadata": {},
   "outputs": [
    {
     "name": "stdout",
     "output_type": "stream",
     "text": [
      "{\n",
      "   \"backend\": \"tensorflow\",\n",
      "   \"class_name\": \"Sequential\",\n",
      "   \"config\": {\n",
      "      \"layers\": [\n",
      "         {\n",
      "            \"class_name\": \"InputLayer\",\n",
      "            \"config\": {\n",
      "               \"batch_input_shape\": [\n",
      "                  null,\n",
      "                  784\n",
      "               ],\n",
      "               \"dtype\": \"float32\",\n",
      "               \"name\": \"dense_51_input\",\n",
      "               \"ragged\": false,\n",
      "               \"sparse\": false\n",
      "            }\n",
      "         },\n",
      "         {\n",
      "            \"class_name\": \"Dense\",\n",
      "            \"config\": {\n",
      "               \"activation\": \"sigmoid\",\n",
      "               \"activity_regularizer\": null,\n",
      "               \"batch_input_shape\": [\n",
      "                  null,\n",
      "                  784\n",
      "               ],\n",
      "               \"bias_constraint\": null,\n",
      "               \"bias_initializer\": {\n",
      "                  \"class_name\": \"RandomNormal\",\n",
      "                  \"config\": {\n",
      "                     \"mean\": 0.0,\n",
      "                     \"seed\": null,\n",
      "                     \"stddev\": 0.05\n",
      "                  }\n",
      "               },\n",
      "               \"bias_regularizer\": null,\n",
      "               \"dtype\": \"float32\",\n",
      "               \"kernel_constraint\": null,\n",
      "               \"kernel_initializer\": {\n",
      "                  \"class_name\": \"HeNormal\",\n",
      "                  \"config\": {\n",
      "                     \"seed\": null\n",
      "                  }\n",
      "               },\n",
      "               \"kernel_regularizer\": null,\n",
      "               \"name\": \"dense_51\",\n",
      "               \"trainable\": true,\n",
      "               \"units\": 1024,\n",
      "               \"use_bias\": true\n",
      "            }\n",
      "         },\n",
      "         {\n",
      "            \"class_name\": \"BatchNormalization\",\n",
      "            \"config\": {\n",
      "               \"axis\": [\n",
      "                  1\n",
      "               ],\n",
      "               \"beta_constraint\": null,\n",
      "               \"beta_initializer\": {\n",
      "                  \"class_name\": \"Zeros\",\n",
      "                  \"config\": {}\n",
      "               },\n",
      "               \"beta_regularizer\": null,\n",
      "               \"center\": true,\n",
      "               \"dtype\": \"float32\",\n",
      "               \"epsilon\": 0.001,\n",
      "               \"gamma_constraint\": null,\n",
      "               \"gamma_initializer\": {\n",
      "                  \"class_name\": \"Ones\",\n",
      "                  \"config\": {}\n",
      "               },\n",
      "               \"gamma_regularizer\": null,\n",
      "               \"momentum\": 0.99,\n",
      "               \"moving_mean_initializer\": {\n",
      "                  \"class_name\": \"Zeros\",\n",
      "                  \"config\": {}\n",
      "               },\n",
      "               \"moving_variance_initializer\": {\n",
      "                  \"class_name\": \"Ones\",\n",
      "                  \"config\": {}\n",
      "               },\n",
      "               \"name\": \"batch_normalization_25\",\n",
      "               \"scale\": true,\n",
      "               \"trainable\": true\n",
      "            }\n",
      "         },\n",
      "         {\n",
      "            \"class_name\": \"Dropout\",\n",
      "            \"config\": {\n",
      "               \"dtype\": \"float32\",\n",
      "               \"name\": \"dropout_35\",\n",
      "               \"noise_shape\": null,\n",
      "               \"rate\": 0.2,\n",
      "               \"seed\": null,\n",
      "               \"trainable\": true\n",
      "            }\n",
      "         },\n",
      "         {\n",
      "            \"class_name\": \"Dense\",\n",
      "            \"config\": {\n",
      "               \"activation\": \"sigmoid\",\n",
      "               \"activity_regularizer\": null,\n",
      "               \"bias_constraint\": null,\n",
      "               \"bias_initializer\": {\n",
      "                  \"class_name\": \"RandomNormal\",\n",
      "                  \"config\": {\n",
      "                     \"mean\": 0.0,\n",
      "                     \"seed\": null,\n",
      "                     \"stddev\": 0.05\n",
      "                  }\n",
      "               },\n",
      "               \"bias_regularizer\": null,\n",
      "               \"dtype\": \"float32\",\n",
      "               \"kernel_constraint\": null,\n",
      "               \"kernel_initializer\": {\n",
      "                  \"class_name\": \"HeNormal\",\n",
      "                  \"config\": {\n",
      "                     \"seed\": null\n",
      "                  }\n",
      "               },\n",
      "               \"kernel_regularizer\": null,\n",
      "               \"name\": \"dense_52\",\n",
      "               \"trainable\": true,\n",
      "               \"units\": 512,\n",
      "               \"use_bias\": true\n",
      "            }\n",
      "         },\n",
      "         {\n",
      "            \"class_name\": \"BatchNormalization\",\n",
      "            \"config\": {\n",
      "               \"axis\": [\n",
      "                  1\n",
      "               ],\n",
      "               \"beta_constraint\": null,\n",
      "               \"beta_initializer\": {\n",
      "                  \"class_name\": \"Zeros\",\n",
      "                  \"config\": {}\n",
      "               },\n",
      "               \"beta_regularizer\": null,\n",
      "               \"center\": true,\n",
      "               \"dtype\": \"float32\",\n",
      "               \"epsilon\": 0.001,\n",
      "               \"gamma_constraint\": null,\n",
      "               \"gamma_initializer\": {\n",
      "                  \"class_name\": \"Ones\",\n",
      "                  \"config\": {}\n",
      "               },\n",
      "               \"gamma_regularizer\": null,\n",
      "               \"momentum\": 0.99,\n",
      "               \"moving_mean_initializer\": {\n",
      "                  \"class_name\": \"Zeros\",\n",
      "                  \"config\": {}\n",
      "               },\n",
      "               \"moving_variance_initializer\": {\n",
      "                  \"class_name\": \"Ones\",\n",
      "                  \"config\": {}\n",
      "               },\n",
      "               \"name\": \"batch_normalization_26\",\n",
      "               \"scale\": true,\n",
      "               \"trainable\": true\n",
      "            }\n",
      "         },\n",
      "         {\n",
      "            \"class_name\": \"Dropout\",\n",
      "            \"config\": {\n",
      "               \"dtype\": \"float32\",\n",
      "               \"name\": \"dropout_36\",\n",
      "               \"noise_shape\": null,\n",
      "               \"rate\": 0.2,\n",
      "               \"seed\": null,\n",
      "               \"trainable\": true\n",
      "            }\n",
      "         },\n",
      "         {\n",
      "            \"class_name\": \"Dense\",\n",
      "            \"config\": {\n",
      "               \"activation\": \"sigmoid\",\n",
      "               \"activity_regularizer\": null,\n",
      "               \"bias_constraint\": null,\n",
      "               \"bias_initializer\": {\n",
      "                  \"class_name\": \"RandomNormal\",\n",
      "                  \"config\": {\n",
      "                     \"mean\": 0.0,\n",
      "                     \"seed\": null,\n",
      "                     \"stddev\": 0.05\n",
      "                  }\n",
      "               },\n",
      "               \"bias_regularizer\": null,\n",
      "               \"dtype\": \"float32\",\n",
      "               \"kernel_constraint\": null,\n",
      "               \"kernel_initializer\": {\n",
      "                  \"class_name\": \"HeNormal\",\n",
      "                  \"config\": {\n",
      "                     \"seed\": null\n",
      "                  }\n",
      "               },\n",
      "               \"kernel_regularizer\": null,\n",
      "               \"name\": \"dense_53\",\n",
      "               \"trainable\": true,\n",
      "               \"units\": 128,\n",
      "               \"use_bias\": true\n",
      "            }\n",
      "         },\n",
      "         {\n",
      "            \"class_name\": \"BatchNormalization\",\n",
      "            \"config\": {\n",
      "               \"axis\": [\n",
      "                  1\n",
      "               ],\n",
      "               \"beta_constraint\": null,\n",
      "               \"beta_initializer\": {\n",
      "                  \"class_name\": \"Zeros\",\n",
      "                  \"config\": {}\n",
      "               },\n",
      "               \"beta_regularizer\": null,\n",
      "               \"center\": true,\n",
      "               \"dtype\": \"float32\",\n",
      "               \"epsilon\": 0.001,\n",
      "               \"gamma_constraint\": null,\n",
      "               \"gamma_initializer\": {\n",
      "                  \"class_name\": \"Ones\",\n",
      "                  \"config\": {}\n",
      "               },\n",
      "               \"gamma_regularizer\": null,\n",
      "               \"momentum\": 0.99,\n",
      "               \"moving_mean_initializer\": {\n",
      "                  \"class_name\": \"Zeros\",\n",
      "                  \"config\": {}\n",
      "               },\n",
      "               \"moving_variance_initializer\": {\n",
      "                  \"class_name\": \"Ones\",\n",
      "                  \"config\": {}\n",
      "               },\n",
      "               \"name\": \"batch_normalization_27\",\n",
      "               \"scale\": true,\n",
      "               \"trainable\": true\n",
      "            }\n",
      "         },\n",
      "         {\n",
      "            \"class_name\": \"Dropout\",\n",
      "            \"config\": {\n",
      "               \"dtype\": \"float32\",\n",
      "               \"name\": \"dropout_37\",\n",
      "               \"noise_shape\": null,\n",
      "               \"rate\": 0.2,\n",
      "               \"seed\": null,\n",
      "               \"trainable\": true\n",
      "            }\n",
      "         },\n",
      "         {\n",
      "            \"class_name\": \"Dense\",\n",
      "            \"config\": {\n",
      "               \"activation\": \"softmax\",\n",
      "               \"activity_regularizer\": null,\n",
      "               \"bias_constraint\": null,\n",
      "               \"bias_initializer\": {\n",
      "                  \"class_name\": \"RandomNormal\",\n",
      "                  \"config\": {\n",
      "                     \"mean\": 0.0,\n",
      "                     \"seed\": null,\n",
      "                     \"stddev\": 0.05\n",
      "                  }\n",
      "               },\n",
      "               \"bias_regularizer\": null,\n",
      "               \"dtype\": \"float32\",\n",
      "               \"kernel_constraint\": null,\n",
      "               \"kernel_initializer\": {\n",
      "                  \"class_name\": \"HeNormal\",\n",
      "                  \"config\": {\n",
      "                     \"seed\": null\n",
      "                  }\n",
      "               },\n",
      "               \"kernel_regularizer\": null,\n",
      "               \"name\": \"dense_54\",\n",
      "               \"trainable\": true,\n",
      "               \"units\": 10,\n",
      "               \"use_bias\": true\n",
      "            }\n",
      "         }\n",
      "      ],\n",
      "      \"name\": \"sequential_20\"\n",
      "   },\n",
      "   \"keras_version\": \"2.4.0\"\n",
      "}\n"
     ]
    }
   ],
   "source": [
    "#Saving the architecture/configuration only as a JSON file and not its weights.\n",
    "\n",
    "import json\n",
    "json_string = model.to_json()\n",
    "parsed = json.loads(json_string)\n",
    "print(json.dumps(parsed, indent=3, sort_keys=True))"
   ]
  },
  {
   "cell_type": "code",
   "execution_count": 220,
   "metadata": {},
   "outputs": [
    {
     "name": "stdout",
     "output_type": "stream",
     "text": [
      "Model: \"sequential_20\"\n",
      "_________________________________________________________________\n",
      "Layer (type)                 Output Shape              Param #   \n",
      "=================================================================\n",
      "dense_51 (Dense)             (None, 1024)              803840    \n",
      "_________________________________________________________________\n",
      "batch_normalization_25 (Batc (None, 1024)              4096      \n",
      "_________________________________________________________________\n",
      "dropout_35 (Dropout)         (None, 1024)              0         \n",
      "_________________________________________________________________\n",
      "dense_52 (Dense)             (None, 512)               524800    \n",
      "_________________________________________________________________\n",
      "batch_normalization_26 (Batc (None, 512)               2048      \n",
      "_________________________________________________________________\n",
      "dropout_36 (Dropout)         (None, 512)               0         \n",
      "_________________________________________________________________\n",
      "dense_53 (Dense)             (None, 128)               65664     \n",
      "_________________________________________________________________\n",
      "batch_normalization_27 (Batc (None, 128)               512       \n",
      "_________________________________________________________________\n",
      "dropout_37 (Dropout)         (None, 128)               0         \n",
      "_________________________________________________________________\n",
      "dense_54 (Dense)             (None, 10)                1290      \n",
      "=================================================================\n",
      "Total params: 1,402,250\n",
      "Trainable params: 1,398,922\n",
      "Non-trainable params: 3,328\n",
      "_________________________________________________________________\n",
      "====================================================================================================\n",
      "None\n"
     ]
    }
   ],
   "source": [
    "#Model construction from json\n",
    "\n",
    "from tensorflow.keras.models import model_from_json\n",
    "\n",
    "model_from_json = model_from_json(json_string)\n",
    "model_from_json.summary()\n",
    "print(\"=\"*100)\n",
    "print(model_from_json.optimizer)\n",
    "\n",
    "#The weights are not updated as well the we need to compile it to get the optimizer as its returning None for optimizer. \n",
    "#Its just saving the architecture"
   ]
  },
  {
   "cell_type": "markdown",
   "metadata": {},
   "source": [
    "# Tensorboard\n",
    "\n",
    "1. We can integrate with tensorboard with various callbacks but we have different thing in callbacks too.\n",
    "\n",
    "https://www.tensorflow.org/api_docs/python/tf/keras/callbacks/TensorBoard"
   ]
  },
  {
   "cell_type": "code",
   "execution_count": 247,
   "metadata": {},
   "outputs": [
    {
     "name": "stdout",
     "output_type": "stream",
     "text": [
      "Epoch 1/10\n",
      "422/422 - 38s - loss: 0.3883 - accuracy: 0.8797 - val_loss: 0.2625 - val_accuracy: 0.9175\n",
      "Epoch 2/10\n",
      "422/422 - 32s - loss: 0.2851 - accuracy: 0.9107 - val_loss: 0.2027 - val_accuracy: 0.9373\n",
      "Epoch 3/10\n",
      "422/422 - 33s - loss: 0.2582 - accuracy: 0.9201 - val_loss: 0.1940 - val_accuracy: 0.9398\n",
      "Epoch 4/10\n",
      "422/422 - 28s - loss: 0.2471 - accuracy: 0.9228 - val_loss: 0.1965 - val_accuracy: 0.9378\n",
      "Epoch 5/10\n",
      "422/422 - 27s - loss: 0.2344 - accuracy: 0.9257 - val_loss: 0.1456 - val_accuracy: 0.9548\n",
      "Epoch 6/10\n",
      "422/422 - 26s - loss: 0.2242 - accuracy: 0.9288 - val_loss: 0.1472 - val_accuracy: 0.9570\n",
      "Epoch 7/10\n",
      "422/422 - 26s - loss: 0.2113 - accuracy: 0.9354 - val_loss: 0.1346 - val_accuracy: 0.9578\n",
      "Epoch 8/10\n",
      "422/422 - 27s - loss: 0.2050 - accuracy: 0.9357 - val_loss: 0.1348 - val_accuracy: 0.9583\n",
      "Epoch 9/10\n",
      "422/422 - 25s - loss: 0.2055 - accuracy: 0.9353 - val_loss: 0.1490 - val_accuracy: 0.9538\n",
      "Epoch 10/10\n",
      "422/422 - 25s - loss: 0.2019 - accuracy: 0.9366 - val_loss: 0.1253 - val_accuracy: 0.9628\n"
     ]
    },
    {
     "data": {
      "text/plain": [
       "<tensorflow.python.keras.callbacks.History at 0x176121a6080>"
      ]
     },
     "execution_count": 247,
     "metadata": {},
     "output_type": "execute_result"
    }
   ],
   "source": [
    "from tensorflow.keras.callbacks import TensorBoard\n",
    "from time import gmtime, strftime\n",
    "model_name = \"mnist_model_{}\".format(strftime(\"%Y%m%d%H%M%S\", gmtime()))\n",
    "\n",
    "#Saving the logs and creating the tensorboard object.\n",
    "tensorboard = TensorBoard(log_dir=r'C:\\Users\\user-pc\\Desktop\\myrepo2\\Mnist_TF\\mnist_logs\\{}'.format(model_name))\n",
    "\n",
    "###########################################################################################################################\n",
    "\n",
    "#training the model\n",
    "\n",
    "model = Sequential()\n",
    "model.add(Dense(1024, activation='sigmoid', input_dim = 784, use_bias=True, kernel_initializer='he_normal',\\\n",
    "               bias_initializer= tf.keras.initializers.random_normal()))\n",
    "model.add(BatchNormalization())\n",
    "model.add(Dropout(rate=0.2))\n",
    "model.add(Dense(512, activation='sigmoid',use_bias=True, kernel_initializer='he_normal',\\\n",
    "               bias_initializer= tf.keras.initializers.random_normal()))\n",
    "model.add(BatchNormalization())\n",
    "model.add(Dropout(rate=0.2))\n",
    "model.add(Dense(128, activation='sigmoid',use_bias=True, kernel_initializer='he_normal',\\\n",
    "               bias_initializer= tf.keras.initializers.random_normal()))\n",
    "model.add(BatchNormalization()) #Using BatchNormalization layer at the end\n",
    "model.add(Dropout(rate=0.2))\n",
    "model.add(Dense(10, activation='softmax',use_bias=True, kernel_initializer='he_normal',\n",
    "               bias_initializer= tf.keras.initializers.random_normal()))\n",
    "\n",
    "\n",
    "model.compile(optimizer='adam', loss='categorical_crossentropy', metrics=['accuracy'])\n",
    "\n",
    "model.fit(x_train, y_train1, batch_size=128, epochs=10, validation_split=0.1, workers=-1, shuffle=True, \\\n",
    "              verbose=2, callbacks=[tensorboard])"
   ]
  },
  {
   "cell_type": "raw",
   "metadata": {},
   "source": [
    "#%load_ext tensorboard\n",
    "%reload_ext tensorboard\n",
    "%tensorboard --logdir= C:/Users/user-pc/Desktop/myrepo2/Mnist_TF/mnist_logs/mnist_model_20201226102708"
   ]
  }
 ],
 "metadata": {
  "kernelspec": {
   "display_name": "Python 3",
   "language": "python",
   "name": "python3"
  },
  "language_info": {
   "codemirror_mode": {
    "name": "ipython",
    "version": 3
   },
   "file_extension": ".py",
   "mimetype": "text/x-python",
   "name": "python",
   "nbconvert_exporter": "python",
   "pygments_lexer": "ipython3",
   "version": "3.6.4"
  }
 },
 "nbformat": 4,
 "nbformat_minor": 2
}
