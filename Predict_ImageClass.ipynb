{
  "nbformat": 4,
  "nbformat_minor": 0,
  "metadata": {
    "colab": {
      "name": "Predict_ImageClass.ipynb",
      "provenance": [],
      "authorship_tag": "ABX9TyMAto/0F8bB+bOU68o6w8WR",
      "include_colab_link": true
    },
    "kernelspec": {
      "name": "python3",
      "display_name": "Python 3"
    }
  },
  "cells": [
    {
      "cell_type": "markdown",
      "metadata": {
        "id": "view-in-github",
        "colab_type": "text"
      },
      "source": [
        "<a href=\"https://colab.research.google.com/github/abhijeet06793/Deep_Learning/blob/master/Predict_ImageClass.ipynb\" target=\"_parent\"><img src=\"https://colab.research.google.com/assets/colab-badge.svg\" alt=\"Open In Colab\"/></a>"
      ]
    },
    {
      "cell_type": "markdown",
      "metadata": {
        "id": "7ko3_OPOZ-3A"
      },
      "source": [
        "# MobileNet"
      ]
    },
    {
      "cell_type": "markdown",
      "metadata": {
        "id": "KNYZQkdEZzwS"
      },
      "source": [
        "**MobileNet** - Its a lightweight Deep CNN network which is smaller and lighter in size than the well known models.\r\n",
        "Mobilenet is a class of low power low latency that can be used for classification, detection and other common CNN that are good for.Band on their small size, theya are considered great deep learning model to be used for Mobile devices.\r\n",
        "\r\n",
        "Note - The size of RAM that Mobilenet occupies is only 17 mb as compared to VGG16 which occupies around 500 mb RAM size. This is beacuse of the amount of weights and biases that we have to laod for VGG16. The VGG16 has 138 milling parameters while the MobileNet has 4.2 million parameters only."
      ]
    },
    {
      "cell_type": "code",
      "metadata": {
        "id": "FquQB-65Z8JS"
      },
      "source": [
        "#Importing libraries\r\n",
        "\r\n",
        "import tensorflow as tf\r\n",
        "import pandas as pd\r\n",
        "import numpy as np\r\n",
        "import matplotlib.pyplot as plt\r\n",
        "from tensorflow.keras.models import Sequential\r\n",
        "from tensorflow.keras.layers import BatchNormalization, Dropout, Dense, Conv2D, MaxPool2D, Flatten, Reshape\r\n",
        "from tensorflow.keras.optimizers import Adam, Adadelta, SGD\r\n",
        "from tensorflow.keras.activations import relu\r\n",
        "from tensorflow.keras.initializers import glorot_normal, glorot_uniform, he_normal, he_uniform, HeNormal, HeUniform\r\n",
        "from tensorflow.keras.preprocessing.image import ImageDataGenerator, array_to_img, img_to_array, load_img\r\n",
        "from tensorflow.keras.utils import to_categorical\r\n",
        "\r\n",
        "from sklearn.metrics import confusion_matrix\r\n",
        "import os\r\n",
        "import random\r\n",
        "import re\r\n",
        "import shutil\r\n",
        "\r\n",
        "import warnings\r\n",
        "warnings.filterwarnings(\"ignore\")"
      ],
      "execution_count": 5,
      "outputs": []
    },
    {
      "cell_type": "markdown",
      "metadata": {
        "id": "XOoy49P8kmgD"
      },
      "source": [
        "### MobileNet Prediction"
      ]
    },
    {
      "cell_type": "code",
      "metadata": {
        "colab": {
          "base_uri": "https://localhost:8080/"
        },
        "id": "zEEBURNoZ8Ln",
        "outputId": "0997a3aa-b006-4c8e-d6e8-56a6ae350a2e"
      },
      "source": [
        "mobilenet_model = tf.keras.applications.mobilenet.MobileNet()\r\n",
        "mobilenet_model.summary()"
      ],
      "execution_count": 3,
      "outputs": [
        {
          "output_type": "stream",
          "text": [
            "Model: \"mobilenet_1.00_224\"\n",
            "_________________________________________________________________\n",
            "Layer (type)                 Output Shape              Param #   \n",
            "=================================================================\n",
            "input_2 (InputLayer)         [(None, 224, 224, 3)]     0         \n",
            "_________________________________________________________________\n",
            "conv1 (Conv2D)               (None, 112, 112, 32)      864       \n",
            "_________________________________________________________________\n",
            "conv1_bn (BatchNormalization (None, 112, 112, 32)      128       \n",
            "_________________________________________________________________\n",
            "conv1_relu (ReLU)            (None, 112, 112, 32)      0         \n",
            "_________________________________________________________________\n",
            "conv_dw_1 (DepthwiseConv2D)  (None, 112, 112, 32)      288       \n",
            "_________________________________________________________________\n",
            "conv_dw_1_bn (BatchNormaliza (None, 112, 112, 32)      128       \n",
            "_________________________________________________________________\n",
            "conv_dw_1_relu (ReLU)        (None, 112, 112, 32)      0         \n",
            "_________________________________________________________________\n",
            "conv_pw_1 (Conv2D)           (None, 112, 112, 64)      2048      \n",
            "_________________________________________________________________\n",
            "conv_pw_1_bn (BatchNormaliza (None, 112, 112, 64)      256       \n",
            "_________________________________________________________________\n",
            "conv_pw_1_relu (ReLU)        (None, 112, 112, 64)      0         \n",
            "_________________________________________________________________\n",
            "conv_pad_2 (ZeroPadding2D)   (None, 113, 113, 64)      0         \n",
            "_________________________________________________________________\n",
            "conv_dw_2 (DepthwiseConv2D)  (None, 56, 56, 64)        576       \n",
            "_________________________________________________________________\n",
            "conv_dw_2_bn (BatchNormaliza (None, 56, 56, 64)        256       \n",
            "_________________________________________________________________\n",
            "conv_dw_2_relu (ReLU)        (None, 56, 56, 64)        0         \n",
            "_________________________________________________________________\n",
            "conv_pw_2 (Conv2D)           (None, 56, 56, 128)       8192      \n",
            "_________________________________________________________________\n",
            "conv_pw_2_bn (BatchNormaliza (None, 56, 56, 128)       512       \n",
            "_________________________________________________________________\n",
            "conv_pw_2_relu (ReLU)        (None, 56, 56, 128)       0         \n",
            "_________________________________________________________________\n",
            "conv_dw_3 (DepthwiseConv2D)  (None, 56, 56, 128)       1152      \n",
            "_________________________________________________________________\n",
            "conv_dw_3_bn (BatchNormaliza (None, 56, 56, 128)       512       \n",
            "_________________________________________________________________\n",
            "conv_dw_3_relu (ReLU)        (None, 56, 56, 128)       0         \n",
            "_________________________________________________________________\n",
            "conv_pw_3 (Conv2D)           (None, 56, 56, 128)       16384     \n",
            "_________________________________________________________________\n",
            "conv_pw_3_bn (BatchNormaliza (None, 56, 56, 128)       512       \n",
            "_________________________________________________________________\n",
            "conv_pw_3_relu (ReLU)        (None, 56, 56, 128)       0         \n",
            "_________________________________________________________________\n",
            "conv_pad_4 (ZeroPadding2D)   (None, 57, 57, 128)       0         \n",
            "_________________________________________________________________\n",
            "conv_dw_4 (DepthwiseConv2D)  (None, 28, 28, 128)       1152      \n",
            "_________________________________________________________________\n",
            "conv_dw_4_bn (BatchNormaliza (None, 28, 28, 128)       512       \n",
            "_________________________________________________________________\n",
            "conv_dw_4_relu (ReLU)        (None, 28, 28, 128)       0         \n",
            "_________________________________________________________________\n",
            "conv_pw_4 (Conv2D)           (None, 28, 28, 256)       32768     \n",
            "_________________________________________________________________\n",
            "conv_pw_4_bn (BatchNormaliza (None, 28, 28, 256)       1024      \n",
            "_________________________________________________________________\n",
            "conv_pw_4_relu (ReLU)        (None, 28, 28, 256)       0         \n",
            "_________________________________________________________________\n",
            "conv_dw_5 (DepthwiseConv2D)  (None, 28, 28, 256)       2304      \n",
            "_________________________________________________________________\n",
            "conv_dw_5_bn (BatchNormaliza (None, 28, 28, 256)       1024      \n",
            "_________________________________________________________________\n",
            "conv_dw_5_relu (ReLU)        (None, 28, 28, 256)       0         \n",
            "_________________________________________________________________\n",
            "conv_pw_5 (Conv2D)           (None, 28, 28, 256)       65536     \n",
            "_________________________________________________________________\n",
            "conv_pw_5_bn (BatchNormaliza (None, 28, 28, 256)       1024      \n",
            "_________________________________________________________________\n",
            "conv_pw_5_relu (ReLU)        (None, 28, 28, 256)       0         \n",
            "_________________________________________________________________\n",
            "conv_pad_6 (ZeroPadding2D)   (None, 29, 29, 256)       0         \n",
            "_________________________________________________________________\n",
            "conv_dw_6 (DepthwiseConv2D)  (None, 14, 14, 256)       2304      \n",
            "_________________________________________________________________\n",
            "conv_dw_6_bn (BatchNormaliza (None, 14, 14, 256)       1024      \n",
            "_________________________________________________________________\n",
            "conv_dw_6_relu (ReLU)        (None, 14, 14, 256)       0         \n",
            "_________________________________________________________________\n",
            "conv_pw_6 (Conv2D)           (None, 14, 14, 512)       131072    \n",
            "_________________________________________________________________\n",
            "conv_pw_6_bn (BatchNormaliza (None, 14, 14, 512)       2048      \n",
            "_________________________________________________________________\n",
            "conv_pw_6_relu (ReLU)        (None, 14, 14, 512)       0         \n",
            "_________________________________________________________________\n",
            "conv_dw_7 (DepthwiseConv2D)  (None, 14, 14, 512)       4608      \n",
            "_________________________________________________________________\n",
            "conv_dw_7_bn (BatchNormaliza (None, 14, 14, 512)       2048      \n",
            "_________________________________________________________________\n",
            "conv_dw_7_relu (ReLU)        (None, 14, 14, 512)       0         \n",
            "_________________________________________________________________\n",
            "conv_pw_7 (Conv2D)           (None, 14, 14, 512)       262144    \n",
            "_________________________________________________________________\n",
            "conv_pw_7_bn (BatchNormaliza (None, 14, 14, 512)       2048      \n",
            "_________________________________________________________________\n",
            "conv_pw_7_relu (ReLU)        (None, 14, 14, 512)       0         \n",
            "_________________________________________________________________\n",
            "conv_dw_8 (DepthwiseConv2D)  (None, 14, 14, 512)       4608      \n",
            "_________________________________________________________________\n",
            "conv_dw_8_bn (BatchNormaliza (None, 14, 14, 512)       2048      \n",
            "_________________________________________________________________\n",
            "conv_dw_8_relu (ReLU)        (None, 14, 14, 512)       0         \n",
            "_________________________________________________________________\n",
            "conv_pw_8 (Conv2D)           (None, 14, 14, 512)       262144    \n",
            "_________________________________________________________________\n",
            "conv_pw_8_bn (BatchNormaliza (None, 14, 14, 512)       2048      \n",
            "_________________________________________________________________\n",
            "conv_pw_8_relu (ReLU)        (None, 14, 14, 512)       0         \n",
            "_________________________________________________________________\n",
            "conv_dw_9 (DepthwiseConv2D)  (None, 14, 14, 512)       4608      \n",
            "_________________________________________________________________\n",
            "conv_dw_9_bn (BatchNormaliza (None, 14, 14, 512)       2048      \n",
            "_________________________________________________________________\n",
            "conv_dw_9_relu (ReLU)        (None, 14, 14, 512)       0         \n",
            "_________________________________________________________________\n",
            "conv_pw_9 (Conv2D)           (None, 14, 14, 512)       262144    \n",
            "_________________________________________________________________\n",
            "conv_pw_9_bn (BatchNormaliza (None, 14, 14, 512)       2048      \n",
            "_________________________________________________________________\n",
            "conv_pw_9_relu (ReLU)        (None, 14, 14, 512)       0         \n",
            "_________________________________________________________________\n",
            "conv_dw_10 (DepthwiseConv2D) (None, 14, 14, 512)       4608      \n",
            "_________________________________________________________________\n",
            "conv_dw_10_bn (BatchNormaliz (None, 14, 14, 512)       2048      \n",
            "_________________________________________________________________\n",
            "conv_dw_10_relu (ReLU)       (None, 14, 14, 512)       0         \n",
            "_________________________________________________________________\n",
            "conv_pw_10 (Conv2D)          (None, 14, 14, 512)       262144    \n",
            "_________________________________________________________________\n",
            "conv_pw_10_bn (BatchNormaliz (None, 14, 14, 512)       2048      \n",
            "_________________________________________________________________\n",
            "conv_pw_10_relu (ReLU)       (None, 14, 14, 512)       0         \n",
            "_________________________________________________________________\n",
            "conv_dw_11 (DepthwiseConv2D) (None, 14, 14, 512)       4608      \n",
            "_________________________________________________________________\n",
            "conv_dw_11_bn (BatchNormaliz (None, 14, 14, 512)       2048      \n",
            "_________________________________________________________________\n",
            "conv_dw_11_relu (ReLU)       (None, 14, 14, 512)       0         \n",
            "_________________________________________________________________\n",
            "conv_pw_11 (Conv2D)          (None, 14, 14, 512)       262144    \n",
            "_________________________________________________________________\n",
            "conv_pw_11_bn (BatchNormaliz (None, 14, 14, 512)       2048      \n",
            "_________________________________________________________________\n",
            "conv_pw_11_relu (ReLU)       (None, 14, 14, 512)       0         \n",
            "_________________________________________________________________\n",
            "conv_pad_12 (ZeroPadding2D)  (None, 15, 15, 512)       0         \n",
            "_________________________________________________________________\n",
            "conv_dw_12 (DepthwiseConv2D) (None, 7, 7, 512)         4608      \n",
            "_________________________________________________________________\n",
            "conv_dw_12_bn (BatchNormaliz (None, 7, 7, 512)         2048      \n",
            "_________________________________________________________________\n",
            "conv_dw_12_relu (ReLU)       (None, 7, 7, 512)         0         \n",
            "_________________________________________________________________\n",
            "conv_pw_12 (Conv2D)          (None, 7, 7, 1024)        524288    \n",
            "_________________________________________________________________\n",
            "conv_pw_12_bn (BatchNormaliz (None, 7, 7, 1024)        4096      \n",
            "_________________________________________________________________\n",
            "conv_pw_12_relu (ReLU)       (None, 7, 7, 1024)        0         \n",
            "_________________________________________________________________\n",
            "conv_dw_13 (DepthwiseConv2D) (None, 7, 7, 1024)        9216      \n",
            "_________________________________________________________________\n",
            "conv_dw_13_bn (BatchNormaliz (None, 7, 7, 1024)        4096      \n",
            "_________________________________________________________________\n",
            "conv_dw_13_relu (ReLU)       (None, 7, 7, 1024)        0         \n",
            "_________________________________________________________________\n",
            "conv_pw_13 (Conv2D)          (None, 7, 7, 1024)        1048576   \n",
            "_________________________________________________________________\n",
            "conv_pw_13_bn (BatchNormaliz (None, 7, 7, 1024)        4096      \n",
            "_________________________________________________________________\n",
            "conv_pw_13_relu (ReLU)       (None, 7, 7, 1024)        0         \n",
            "_________________________________________________________________\n",
            "global_average_pooling2d_1 ( (None, 1024)              0         \n",
            "_________________________________________________________________\n",
            "reshape_1 (Reshape)          (None, 1, 1, 1024)        0         \n",
            "_________________________________________________________________\n",
            "dropout (Dropout)            (None, 1, 1, 1024)        0         \n",
            "_________________________________________________________________\n",
            "conv_preds (Conv2D)          (None, 1, 1, 1000)        1025000   \n",
            "_________________________________________________________________\n",
            "reshape_2 (Reshape)          (None, 1000)              0         \n",
            "_________________________________________________________________\n",
            "predictions (Activation)     (None, 1000)              0         \n",
            "=================================================================\n",
            "Total params: 4,253,864\n",
            "Trainable params: 4,231,976\n",
            "Non-trainable params: 21,888\n",
            "_________________________________________________________________\n"
          ],
          "name": "stdout"
        }
      ]
    },
    {
      "cell_type": "code",
      "metadata": {
        "id": "yzV-G10DZ8PN"
      },
      "source": [
        "# In order to pass the images to Mobilenet we have to do some preprocessing first.\r\n",
        "\r\n",
        "def preprocessing_for_mobilenet(image_file):\r\n",
        "  image_path = '/content/'\r\n",
        "  image = load_img(image_path + image_file, target_size=(224, 224))\r\n",
        "  image_array = img_to_array(image)\r\n",
        "  image_array_expanded_dim = image_array.reshape((1, 224, 224, 3))\r\n",
        "  processed_per_mobilenet = tf.keras.applications.mobilenet.preprocess_input(image_array_expanded_dim)\r\n",
        "  #For mobilenet the preprocessing is scaling the image to [-1,+1] instead of 0-255\r\n",
        "\r\n",
        "  return processed_per_mobilenet\r\n"
      ],
      "execution_count": 6,
      "outputs": []
    },
    {
      "cell_type": "code",
      "metadata": {
        "colab": {
          "resources": {
            "http://localhost:8080/nbextensions/google.colab/files.js": {
              "data": "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",
              "ok": true,
              "headers": [
                [
                  "content-type",
                  "application/javascript"
                ]
              ],
              "status": 200,
              "status_text": ""
            }
          },
          "base_uri": "https://localhost:8080/",
          "height": 106
        },
        "id": "ahTQ9axZZ8Ry",
        "outputId": "6aa20557-b0bf-424b-ec30-4725c595eec6"
      },
      "source": [
        "#Uploading an image to colab \r\n",
        "\r\n",
        "from google.colab import files\r\n",
        "files.upload()"
      ],
      "execution_count": 20,
      "outputs": [
        {
          "output_type": "display_data",
          "data": {
            "text/html": [
              "\n",
              "     <input type=\"file\" id=\"files-a3c163da-3bda-41bf-8f41-a0f33e0869d8\" name=\"files[]\" multiple disabled\n",
              "        style=\"border:none\" />\n",
              "     <output id=\"result-a3c163da-3bda-41bf-8f41-a0f33e0869d8\">\n",
              "      Upload widget is only available when the cell has been executed in the\n",
              "      current browser session. Please rerun this cell to enable.\n",
              "      </output>\n",
              "      <script src=\"/nbextensions/google.colab/files.js\"></script> "
            ],
            "text/plain": [
              "<IPython.core.display.HTML object>"
            ]
          },
          "metadata": {
            "tags": []
          }
        },
        {
          "output_type": "stream",
          "text": [
            "Saving tiger.jfif to tiger.jfif\n"
          ],
          "name": "stdout"
        },
        {
          "output_type": "execute_result",
          "data": {
            "text/plain": [
              "{'tiger.jfif': b'\\xff\\xd8\\xff\\xe0\\x00\\x10JFIF\\x00\\x01\\x01\\x00\\x00\\x01\\x00\\x01\\x00\\x00\\xff\\xdb\\x00\\x84\\x00\\t\\x06\\x07\\x13\\x13\\x12\\x15\\x13\\x13\\x14\\x16\\x15\\x15\\x17\\x18\\x1e\\x1a\\x17\\x18\\x17\\x18\\x15\\x1f\\x17\\x1b\\x17\\x1a\\x18\\x18\\x17\\x18\\x1a\\x16\\x18\\x18\\x1d( \\x18\\x1f%\\x1d\\x17\\x18!1\"%)+...\\x1a\\x1f383-7(-.+\\x01\\n\\n\\n\\x0e\\r\\x0e\\x1b\\x10\\x10\\x1b-%\\x1f%---+-+--------------------------------------------\\xff\\xc0\\x00\\x11\\x08\\x00\\xb1\\x01\\x1c\\x03\\x01\"\\x00\\x02\\x11\\x01\\x03\\x11\\x01\\xff\\xc4\\x00\\x1b\\x00\\x00\\x02\\x02\\x03\\x01\\x00\\x00\\x00\\x00\\x00\\x00\\x00\\x00\\x00\\x00\\x00\\x04\\x05\\x03\\x06\\x00\\x01\\x02\\x07\\xff\\xc4\\x00A\\x10\\x00\\x01\\x03\\x03\\x02\\x03\\x05\\x06\\x03\\x07\\x03\\x04\\x01\\x05\\x00\\x00\\x01\\x02\\x03\\x11\\x00\\x04!\\x121\\x05AQ\\x06\\x13\"aq2B\\x81\\x91\\xa1\\xb1\\xc1\\xd1\\xf0\\x07\\x14#3Rbr4\\x82\\xe1\\x15$\\x92\\xf1C5Ss\\x83\\xa2\\xff\\xc4\\x00\\x1a\\x01\\x00\\x03\\x01\\x01\\x01\\x01\\x00\\x00\\x00\\x00\\x00\\x00\\x00\\x00\\x00\\x00\\x02\\x03\\x04\\x01\\x00\\x05\\x06\\xff\\xc4\\x00,\\x11\\x00\\x02\\x02\\x02\\x02\\x02\\x02\\x01\\x02\\x05\\x05\\x00\\x00\\x00\\x00\\x00\\x00\\x01\\x02\\x11\\x03!\\x121\\x04A\"2q\\x13Q\\x14Ba\\x81\\x91Rb\\xa1\\xb1\\xf0\\xff\\xda\\x00\\x0c\\x03\\x01\\x00\\x02\\x11\\x03\\x11\\x00?\\x00\\x82\\xde\\xc1KI)\\xf6z\\xd0\\xaax\\xe9(\\xe8i\\xad\\xa5\\xe4\"\\x08\\xd3\\xe5I^p\\x95\\x921^O\\x88\\xa9h\\x9f\\x18u\\xb88\\xd3\\xcfz$\"\\x0cECj\\xb8\\xdbz\\x95\\xc7c}\\xeb\\xd2\\x1cNS\\xa6#3R\\xa5|\\x8d\\x0fn\\xe0V\\xd4K\\x80\\x01\\xac\\xf2\\xad\\xb3\\x81\\x9cR\\x13*Q\\x802I\\xa5\\x8e\\xf6\\x96\\xda`(\\x9e\\\\\\x86\\xdb\\xc4\\xef\\xbd.\\xed\\xd5\\xd9\\xee\\x93\\xa7\\t2O\\x9c`|\\xb3U.\\xca\\xf0\\xe5]\\xdc\\xa1\\x95\\xa8F<K\\x92\\x12\\x90D\\x81\\xd2f\\x99\\x0cj\\xb6u\\x9e\\x82\\xcf\\x12e\\xc8\\xd2\\xa1\\x9eGzan\\x94t\\xde\\xad|9\\xbe\\x17d\\xd2TB<@\\xe4\\x80L\\x08\\xf0\\x99\\xdb\\x7f\\xbf\\xad#\\xe2}\\xab\\xe1\\x0b\\xf0\\xb6\\n\\x07\\xf5\\xa1<\\xc1H\\x029\\x8f\\x17\\xd0\\xd0\\xbc*\\xed\\x02\\xec\\x196\\xc8;V\\xdd\\x1d\\x06\\xd4\\xb7\\x87\\xf1v\\x9c &D\\xc9\\x129S\\t;\\x8d\\xa9\\x13\\x8538\\xa3a\\xc5Mm\\xc4\\x0ecz\\xc8\\x1b\\xd2\\x8b\\x8e>\\xd2\\x16\\x948JB\\x8c\\x05\\x18\\x88\\x9d\\xcep6\\xf9\\xd2\\x9al/\\xd3lr\\xcaBN+\\xb0%R\\rU^\\xed\\n\\\\P\\xee\\x9c\\x01\\t\\xc9\\xd5\\xe1$m\"ys\\x9a$\\xf6\\x99\\xb2\\xee\\x86\\xc1pi\\x8f\\x04\\xa9ES\\xfd\\xbc\\x81;\\xfau\\xa3\\xe1~\\x82\\xfd\\x1f\\xdc\\xb0\\xdc (A\\xa5\\xc1\\xa0\\x90k\\x968\\xa4\\xa7R\\xd0\\xe3c\\xfb\\xd0\\xb8\\xe7\\x19\\x8f\\xed9\\xa9P\\xfa\\x1c\\x9d\\nJ\\xa3p\\x92\\x0f f7\\xe6>tq\\xd3\\n0h\\x81\\x0eE\\x16\\xd3\\xb3C\\xf7U3h\\xaa\\xf1\\x83\"UV\\x82ig\\x1b\\xe3\\xac\\xdb\\x01\\xadR\\xa2@\\x08\\x11\\xaa:\\x91\\xc8U\\x87\\x84\\xb5l\\xa6R\\xfb\\xcf\\x84\\xa5CPH#\\xd8;I=p>>\\x94\\xdeH\\n\\x04\\xee\\xabb\\xdf\\xca\\xab\\x1c[\\xb6\\xe8[\\xa1\\x8e\\x1e\\xd1Z\\x89#\\xbcp\\xcapcPJys\\x9fJ\\xe8\\xf0{\\x87r\\xf3\\xee)Dx\\x92\\t\\x08\\xceH\\x08L\\x08\\x1dL\\xd0K\"A(\\xb1\\xf3\\xb6\\xc2\\x96]\\xda\\xd7}\\x9c+Iy\\x85\\xabWw\\xa4\\xa6w\\tT\\xc2c\\x90\\x10\"s\\x9ab\\xfbsY(\\xa9+Gt-\\xb0D\\x1av\\x9d\\xa8\\x16\\x9a\\x83\\x8a=\\xb1\\x8a\\xe8*G\\x03=A<\\x8af\\xe2(U\\xa2\\x86H4\\x0bl\\x9a;F+\\x86\\x11F%5\\xb1GH^\\xb6kif\\x8bRk\\x8a$\\x80!\\xee\\xeb`T\\xb1[\\t\\xa2\\xa3\\x84\\xdd\\xe6\\xad\\xe8 \\x83\\xae\\'\\x02\\x8c \\x93\\x8eT5\\xc2d\\x185\\xe1\\xe3\\x7f*\\x15\\x1e\\xc6\\x1c9C&\\x8c\\xbc\\xd2Q<\\xe9o\\x0ch%;\\xe6\\x99\\x14\\xce\\xd9\\xab\\xd8\\xe6-\\xb2x\\xa5Y\\xda\\x9a\\x98;f\\x81,x\\xa8\\xebP\\x13\\xbc|Mr0G\\xfb@\\xb2*\\xb7B\\x93\\x82\\x81\\x906\\x8e\\xbb\\xe3\\xfe+\\xcf8S\\xa6LL\\xed#\\xac\\xed>bq^\\xc0\\xfb\\xc9P\\xd1\\x85\\x83)TI\\x00\\x1e\\xb2 \\xf2\\xebH\\xac;\\x18\\x19Q\\xd2\\x90\\xe1\\x9c\\x9e`\\x13\\xcb\\x98\\x81\\xe7\\xd6\\x89fQ\\xd0\\xc5\\x8d\\xc9Z\\x13\\xdavi\\xf7\\'R\\xc6\\x93\\x9c\\x99\\x12:\\x94\\x92A\\xf3<\\x81\\xf81k\\xb1\\x89I\\x92\\xb9L\\x8f\\t\\xc1\\xd31\\xc8\\x99\\x83\\x19\\xe8OL\\xd8\\xec\\x90\\xb4\\x8d0S\\xa7`\\xa0v\\xdf\\x13\\x827\\xff\\x00\\xddj\\xfa\\xf1-\\xb6V\\xa9\\xe9\\xa8$\\xe6y\\x00<\\xcc|i\\x13\\xf2\\xa5u\\x12\\x88x\\xea\\xaeB\\xdbn\\x08\\x86\\xc6\\x96\\xf2\\xa1\\xab*3\\xe3\\xc0\\x83\\x8f!D9\\xc3\\xdc-\\x84\\xbc\\xf0H\\x8d*\\xd1\\xa59V\\xda\\x96\\xa3\\x83\\x829Qv\\xd6\\xee\\xabJ2\\xc9pjJ\\x9cI>\\x00a@!\\'Z\\x8cfp\\x06\\xf9\\xa0\\x1dv\\xcd\\xa7e\\xd4\\x1b\\xad\\x83\\x8e\\xb8u%=!\\x19@\\x95\\x10 \\x0c\\x02s\\xbdt\\x7fQ\\xeeL\\xc6\\xb1\\xaf\\xaa\\x11\\xa1\\xcbV\\\\y\\xa7Q\\niZH}\\xe7U3\\x04hJ\\x01\\x1e\\xbf\\x0e\\xa6;M\\xe5\\xa9\\x92\\xd7\\xeeCN\\xe1l8\\t\\xdc\\x88Q\\x926\\x88\\x8a\\x9a\\xf7\\xb5\\xef\\xebR5\\xb4\\x90\\xa3 %(\\xd2\\x13\\x10\\x01R\\xb2\\xa3\\xca|\\xcdu\\xc3m\\x15p\\xe2rI\\x00(:\\x1b\\x00\\tJ\\xb4B\\xf4\\x0c\\x02h\\xe9%l\\xcb}#\\xa7\\xb8[\\xeb2Sh\\x84s)A\\x92\\x80\\x02\\x81N$\\x18\\xc4\\x11\\xcc\\xe2\\xa2J\\x9cc\\xd9E\\xe2\\xf5B\\xa1\\x96\\xd0\\xdat\\xc6\\x91\\xb0*\\x92S?,L\\xd4Mvz\\xe5\\xdb\\xa2\\xd5\\xc5\\xda\\x9cJ\\x00\\x82$\\x13\\xec\\xeaO@`\\xa6NNEk\\x8fp\\xeb\\xbbm:C\\xaajT\\x12\\xb6V\\xe1\\xc4\\x03\\x0b\\x12H8\\x9c\\xe3\\x1f\\n\\x18\\xf7VkZ\\xba\\x1b7\\xda\\x07\\xa5EH\\xbbj6K\\xad%iR\\x82\\x90\\x12\\x90P\\x90\\xa9#V7\\xe7R\\xb1\\xc7m\\x16U\\xde\\xe8\\x04(\\x83\\xde4Zq_H8Y;\\x83\\x81\\xd6\\x93\\xf0\\x9e\\xd08\\xa5\\x1e\\xf1\\x7f\\xbc\\x04\\x80Bp\\x97\\x86\\x95\\x05@\"$(H3\\xbcU\\xa2\\xdb\\xb4\\x0e)\\tv\\xd9\\xc6\\xd6\\x80\\x0c\\xb3r\\x99$\\x88\\xf0\\x87wN\\x01\\xdezt\\x8ct\\x9e\\xf4\\x16\\xda\\xd1\\x1b\\x89i\\x00\\xac:;\\xa1\\xd5@\\x9fP\\xa9\\xdbcP_\\x05h)J\\x88\\'\\x05B0\\x08\\xdc|b\\x8c\\xb2\\xe2\\xb6\\xd7 *\\xef\\x86\\xa1\\xb7A%:B\\x14\\x9221\\xd4\\xe4\\xe0N\\xc0\\xd3U\\xd9\\xb0\\xf8\\xf0\\x02\\xd2\\x93\\x88\"<\\xc2Dc\\xa6\\xd5\\xd2\\xe6\\xbe\\xac\\xc5\\xc1\\xfd\\x91\\xe1=\\xa0\\xe1\\xcaB\\x8a\\x89\\xd5\\'rI\\'\\xcc\\x93\\xedI\\xa9\\xb87\\x06\\xb9\\xb8\\t\\x92\\xb4\\xb10TN\"A\\x84\\x83\\xbec\\xcb\\x1eU~\\xbd\\xe0\\x88+\\xd2\\xef\\x88\\xa3=\\xda\\xb05r\\xd4\\x06\\xe3\\xcb\\xca\\xb7ou)\\x0b>\\x04\\x91\\x03\\xc3\\x88\\xe4\\x12\\'\\xe9\\x8f\\xbdr\\xce\\xda\\xfe\\xa6<)?\\xe8\\x13\\xd9\\xee\\x02\\xcd\\xb0%\\x10\\x16p\\t\\xc9\\x93\\xe6w1\\xe9\\xe9\\xb5Z\\xd5\\xc5[i=\\xda\\x02\\x96\\xb8\\xf1\\x15)\"\\'\\xe3#\\xe7\\xf1\\xaa\\xfd\\x82J\\x8e\\xadj\\x03lhN\\xfb\\xca\\xc9% \\xe3l\\xe3s](wk\\x86\\xd5lV\\xa0`w\\xe5K\\x9c\\xee#m\\xe4\\xc8\\xf44\\xfclL\\xd1\\xae\\x1a\\xd1.>\\xb8\\x00\\x12\\x94\\x80:\\x89Q\\xf3>\\xd0\\xc9\\xa2\\x9cMn\\xd9\\xa0\\xdaB\\x04s&\\x04J\\x89$\\x98\\xf3$\\xd6\\x9cUV\\xb4\\x84\\xf6\\xceA\\x8a\\x99\\x0ePN.\\xb4\\x87\\xab\\x1b4=j\\xa1\\xd6+a\\xca\\xc5\\x1a\\x16\\xec$D\\x15\\x15:\\x1e\\xa0\\x9f]qn\\xf5\\x07*f\\xb1\\x8c\\xd7$V5R\\x84\\xd3\\x90\\x0c\\x8c\\n\\xdcT\\x9ak\\x93Da^C\\xdeQXsP0\\xb3)\\xa2\\xf4d\\xd7\\xcf\\xe3\\x7f!I\\x84\\xda7\\x19\\xa2\\xd2#\"\\x87\\xe1\\xdbG*5\\xd4\\x08\\xc5z]\\xab\\x1e\\x0bp\\x01\\xc85\\xa6\\x94\\x0e+\\xa4\\xb1\\xa8\\xe2\\xb7\\xfb\\xa9O\\xade\\x02FY (\\xa4\\x81\\xf9\\xf5\\xe9DX\\xdd\\xac\\xe4)$\\x01\\xe2\\x8e|\\xa2\\x04\\x92s\\xcb\\xf1\\x9a\\xe6\\xe5\\x85)\\x1f\\x95\\x1d\\xc2Y.\\x14\\xa4$h\\x1e\\xdc\\xc9\\xdb\\xe5K\\x94-\\x8f\\xc7:\\xd0\\xf3\\x85Y\\x05\\x8dn\\xf8S\\xfd\\xc3\\xc4c\\x9es\\x11Bq\\x9e&\\xd0A\\r{)\\xce\\xbd\\x03RH\\xc7\\xf0\\xf1\\xbe\\xe3\\xe3Cq>:\\x9f\\xe4\\'R\\x89\\xc2`g\\xfe~T\\x0fg\\x14\\x97n\\x15n\\xac\\x96\\xe0\\xa8L\\x82z\\x139\\x8e~~\\x95\\x91\\xff\\x00j\\x1c\\xd7\\xfa\\x99\\xc3\\x05f\\xdc\\xad\\xa6\\xd5\\xdf\\xbe4\\xa3Q:\\xb4\\x82`\\xb8Nz\\xe3\\xe5\\xbek\\x1cG\\x86\\xd9\\xf0\\xf1\\xa6\\xf1\\xf5\\xba\\xec\\x03\\xdc5\\x8c\\xee\\x9dGq\\xbe\\x0c\\xf5\\xafm\\x16a\\xa6\\x94\\xb2P\\x95\\x00HZ\\xfd\\x94\\x8d\\xe5^\\x91>q^j\\xf5\\xa7\\x0eB\\x8a\\xed\\xed\\x97\\xc6.\\x97\\x95.\\tgTd\\xa9Q\\xa1\\x1c\\x8co\\x91TG\\x1b}\\x89\\x94\\xcf?k\\xb6\\xc9B\\xbf\\xedlm\\x9b3\\xe1QA[\\x9b\\x88\\xce\\xe4\\xe2\\xac\\xc8\\xe2<N\\xe9\\x90\\x85%6\\xed,\\xabS\\x9b,\\'P\\xf0\\x84\\x9fd\\x00`zU\\xa2\\xd7\\xb2\\xb7\\xee(<m\\xac\\xed\\x123\\xa1\\xb6\\xd2]\\xcc\\xce\\x95\\x03\\xa4{\\xa2\\xaa\\xbd\\xa3aJ{B\\xd9\\nYL \\xb8\\xea\\xd4\\x02\\x8a\\xa3\\xc4\\xd2F\\x81\\x89\\'\\xd0Rr\\xb5\\x17T7\\x1a\\xe4\\xae\\xc08\\xbb\\xee\\x15\\xab\\xf7B{\\xc6\\xde\\x94\\x10\\x00\\'RV\\xe2\\x86q\\x1at\\xf9b\\x82\\xe2\\xa8\\xe2M\\x1e\\xfd\\xa4<\\xd8p\\x85-\\r\\x9dIJ\\xe0I\\xd0\\'\\x04\\x89\\xc8\\x8aqq\\xc3\\x16{\\xee\\xf1\\x84\\xb8\\x02\\xfb\\xc1\\xa5D(\\xa0\\x85 \\x91\\xa4\\x82\\nR\\x84\\xe3\\x9c\\x91V\\xde\\xc9vQo\\xb5\\x08R\\xed\\x93\\xb8R\\x1cR\\x94<\\x8a\\\\\\x06\\x01\\x8d\\xbf*\\\\rm%\\xb0\\xe5\\nM\\xbd\\x1ea\\xc3\\xf8\\xd5\\xf1T\\xbbfn\\xb7\\x82\\xa6\\x15\\xac\\x12=\\xc5\\xa12\\x0f\\xcfj\\xf4>\\xcc\\xd8[q+e2\\x92\\xb6\\x9d\\t\\xd4\\xa6\\x97\\xfc\\xc4I0\\xa4\\x12<I8\\xcf0sO\\x93\\xd9\\xde)h\\xe0\\xee\\xb8\\x9a\\x16\\x93:\\x1b}\\xb1\\xe39\\xc1)\\xdb*\\x1bt\\xa7\\xfc/\\x8bw\\x8b\\r_\\xb0\\x9b{\\xa4\\x90PFP\\xbd\\x80,\\xbb\\x192`\\xa7|\\x8a\\xa9\\xe2R\\xdb\\'Y\\x1a\\xe8\\xa2\\xb3\\xc1\\x1fi\\xb0\\xcd\\xc2\\x00\\xd3\\x01.\\xa1F\\x08\\xd2\\x08*N\\xe9P\"\\'nu\\xabn(\\xa6\\x14\\x13q\\xe2\\x13(sd\\xef\\x8d\\xb11\\x19\\xaf[\\xbf\\xb1K\\x89\\x83\\x13\\xe7\\xf9W\\x84v\\xb3\\x8c\\xb9\\xc3\\xefV\\xcb\\xa8\\x0eZ:d \\x8fd\\x18\\x0b(<\\xf3&<\\xeaibi\\xe9\\x8e\\x8eD\\xd6\\xcbE\\xdd\\xaao\\x12\\x0e\\x9e\\xedC)T\\x01\\xaf\\xd6rG\\xaf\\x97*\\xabq^\\xc9\\xb8\\x92\\x99q\\x02\\x0e\\xca\\x82\\x7f\\xdaL\\x01\\xe7OxC\\xc3\\xbaM\\xc5\\xa9S\\xedt1\\xad\\x1f\\xdb\\xd4\\xc1\\xc6i\\xaa;\\xbb\\xe6\\xe0\\xa9\\x08Q\\xdbH\\xd4\\xa1\\xd7& \\xd0\\xc7OaIZ\\xd1FO\\n8\\xefIW!\\xa4\\xc09\\xdbY$\\x0f\\\\\\xf4\\xc5XX\\xb4\\r\\x8eRF=:\\x0f\\xcf\\x9dH\\xab\\x05\\xda\\x12\\x84-k\\xc7\\x84\\x95\\x91\\xf4\\x93J\\x9c.J\\x8a\\xd2\\xb2yx\\x94j\\xdcr\\x8fd\\xb2\\x8b\\x18\\xadF\\xa2S\\x95\\x12\\x1fn!KR\\x0f\\x98\\xe7P\\xdc\\xd9->&\\xc9q<\\xc8\\xfc\\xa9\\x9f\\xa8\\x81\\xe0\\xc9\\x14\\xba\\xe5\\n\\xcdwn\\xc9#PX\\xf3\\x1c\\xc5s\\xa1IQ \\x85\\x0e\\x86\\x83\\x91\\xbcB\\x9b]mk\\xa1\\x85\\xea\\x0f\\xb6\\x92\\xdf\\x9f*\\x9d\\xd6\\xccH\\xc8\\xea+\\xac\\xda\\x03|\\x99\\xae\\xad\\x9b3R%4[M\\xd6%\\xb3\\tXM\\x10\\x05F\\x93]k\\xa7\\xa7@3\\xa8\\xae\\rr\\xb7j#p+\\x9c\\x8d\\xa2\\xaf\\xc3\\xd4\\x0ey\\xd1\\xcc\\xac\\x9fj\\x97\\xd9\\x88\\x95 `\\xd1\\x8d\\x19\\x12k\\xe6\\xa2\\xeaD\\x89\\x8d8df\\x8apG\\xc6\\xa2\\xb1F&\\x89[z\\x85{P\\xfa\\xa2\\xb8\\xf4\\x0c\\xc3\\xdaUM\\x0b\\x12&\\x96\\x14m;\\x8akgq\\xa8i8\\xa6B\\xba`\\xc9lH\\xfd\\xdb\\x89p#A)=\\x04\\xfe\\x85K\\xc5\\xfb@\\x96\\x82mm\\xd3\\xde\\xba\\xa2\\x01\\xd1:\\xa4\\x98\\xf1\\x14\\x89H\\x1dOJa\\xda\\xab\\xe4Z0{\\xb5J\\xd47\\xd9y\\xfe\\x9c}\\xaa\\xa9\\xc3\\x9f\\x16\\x96n]\\x83\\xad\\xd5\\x1f\\x0e\\xa4\\xa6@$O\\x88u\\xdf\"\\x95%c\\xa1\\xa2\\xd2\\xae\\x14l\\xac\\xde\\xb8R\\xc2\\xeeT\\x82\\x02\\xa6t\\xc8\\xc2Q\\xb7\\xdbzS\\xfb\\x19\\xb0Quo\\xa8x\"\\x02\\x8e\\xe5Rd\\x9e\\xbc\\xf3\\xebE\\xf6g\\x8f*\\xe5\\x87.\\x16\\xadA!P\\x8c\\x82\\x98\\x19\\xd63\\xab\\xc8\\x8cG!\\xb5)\\xec\\xc7\\x1b\\xb7z\\xd0\\xdb\\xbe\\xa50\\x87\\x14\\xa0\\x16\\x90@**\\xd4\\nV\\x01\\x138\\x82s\\xd2\\x8a\\x1a\\xb4\\x14\\xb7\\xb3\\xd1x\\xa7nl\\x92\\xfb\\xb6\\xd7I!((\\x95+IjT\\x01\\x12I\\x81\\xbc\\xc6\\xf88\\xc52\\xe3w\\xe9m-\\xb2\\xc8@\\x0e\\x0fwH\\x11\\x88\\x13\\xb0\\x99\\xaf7c\\x81\\xf0\\xbdz;\\xe5\\\\\\x16\\xc7\\xf1\\x03\\xc3mbu\\x05\\xa2\\nU\\xb7\\xc0\\x01\\xc8AW\\xdc9\\xfbfP\\xab7{\\xd42\\xadm\\x05((\\x16\\xe2\\x0bJ#\\xdaLlyc\\xa4\\x9ax/B\\x1b=\\x1b\\xb5\\xf7\\x8e1\\xc3\\x9fu\\x93\\xfcF\\xda\\xd4\\x83\\x13\\x91\\x1c\\xbd+\\xca\\x14\\xb7\\x16\\x02\\x89\\xd2W\\xee\\xa4\\x82R\\x0c\\xc6H\\xde\\t\\'\\x9d4\\xed\\x7fm\\x94\\xed\\xae\\x94\\xf8J\\x90D\\x19\\xf6\\xe3es\\xc1\\xaa\\xe7\\x0e\\xbf\\x10\\x84\\x95j\\x80\\x009\\x92\\xa0 \\x93;\\xeez\\xd7\\x95\\xe6\\xb7\\xd2=\\x0f\\x0e>\\xc3\\x91f\\xa1\\xa1E\\xc2\\x1dJcP\\xd8\\x93\\xbe\\xa4\\xf3L\\x93\\xf34\\xf3\\x85\\xdf\\x0b{\\xbbGRJ\\x10\\xb5\\x96\\x1fH\\'L)\\x07\\xba*OP\\xb4\\xa4j\\xf3\\xa4\\xe6\\xe6F&z\\x8d\\xe3q\\xf0\\xc7\\xd2\\x97\\xf17\\x02\\xca\\x0c\\xc4\\x19\\x03\\xfa\\xb9s\\xe8\\xad*\\xf5\\x02\\xa4\\xc1\\x92Ji\\xb2\\xac\\xd0R\\x8bG\\xb4\\xf6\\xa6\\xdc-\\x9dc*FRz\\x03\\x83\\x1f\\x03T\\x1e\\xdfq~\\xff\\x00\\x84\\xdb\\x86\\xc7yt\\xea\\xd3\\xfb\\xb8D)jRN\\\\N6\\xd3\\x99\\x1c\\x8fL\\xd1Wn]?f-\\x9cZ\\x9a.\\'\\xc4\\xa4\\xc0!\\xb3\\xbeN\\xd21\\xe54\\x8d\\xce\\xdb\\xf0\\xab}L\\xa5\\xc5\\xa9E\\x01\\xbe\\xf9\\xa4\\x98J\\x04x\\x1bX\\x92\\x91\\xfe85\\xefF:\\xb6x\\xad\\xee\\x80x/\\xed\\x03\\x8b\\x0e\"\\xdb\\x0f\\xdb\\x95\\xa9H\\x08,\\x88\\x04@$\\xb9\\xab`\\x7f\\xaaq\\x8eT\\x97\\xf6\\xbfl\\xe2\\xb8\\x83E\\xc2{\\x95\\x94\\xa5=F@^:\\xe6\\xaf\\x9d\\x9e\\xbf\\xe1\\xcd!w\\x16-\\xa5kJ\\tv\\xe1k\\x9d\\t\\x00\\x13\\xadj\\x1a\\xfc\\xe29zW\\x9b9\\xae\\xf1J\\xbcO|KN\\x07\\x02\\x9c$\\xf7\\x81*\\xd4\\xae\\xed\\x1e\\xe6\\x06 G*N_\\x8bM\\x8d\\xc6\\x9c\\x95#\\xd5;+\\xd9\\xb6\\xac\\x18X\\x0bR\\xdbW\\x8a\\nr>\\x13\\xe7\\xbe+\\xcfx\\x8f\\x17Sew6\\xc8JZ+\\x82\\n\\xa0bs\\xb9\\x12O13V>\\xdb\\xf1\\xf5\\xb7i-\\xab\\x0b)\\x02\\x01\\x98VI\\xf9u\\xa0;\\x08\\xcan,^e\\xc1\\xa8\\x15\\x1ey\\x927\\x1d\\x0fH\\x14\\x98\\xab\\x8f69\\xba|P\\xc7\\x82\\xf1D\\xde\\xb6Ka=\\xe8\\x19\\xf1\\x15/ns\\xb8\\xa8\\xcb\\xce\\xb6dxR\\x0c-+\\x07\\xc2\\xae\\x83\\x9a\\x81\\xe4D\\xd2\\x9e\\xc5\\xf0e\\xda]\\x12\\xb5\\xa4&a-\\xa9l\\x87JG\\xbc\\xa0U\\xa9 m\\xb0$\\xf2\\x00\\xcdz\\xb7\\x15\\xe1\\r>\\xdc(\\x08\"$\\xc8\\x8f\\x8cdQ8\\xd0*Z(\\xcar\\xd9\\xc5\\x00\\xb4\\xe9Y\\xc7\\x8b\\x13\\xf0\\xa0\\xff\\x00tv\\xddjR\\x0c\\xb6zmE\\xb9\\xc3\\xd0\\x95)\\x97\\xddh\\xc7\\xb1\\n\\x85\\xc7_\\x1e\\x91\\xe5\\xb9\\xda\\xa4\\xef\\x15j\\x9f\\xe2!n0vp\\x14\\x90=b~\\xf5\\xd4\\xd7AZ}\\x81[2\\x8b\\x9dDji\\xc4\\xf3\\x1c\\xff\\x00:\\xd8\\xbeJOsp\\x98\\xe8\\xe0\\xc0>\\xb5-\\xcd\\xa8)\\x0f[\\x15\\x0e{\\x82>Q\\\\\\xa6\\xf5\\xbb\\x84\\x96\\xd4\\x9c\\x8fh\\x11\\xf5\\x14<\\xbf\\xc1\\xbc\\x7f\\xcf\\xfd\\x85\\\\4\\xdf\\xbe\\x06\\x9fui\\xdb\\xfd\\xd4\\xbd\\xe6\\x1ch\\x85#c\\xb0\\x9f\\x02\\x87\\x97CQ\\xb5s\\xfb\\x97\\xf0\\xde\\xf1\\xb0\\xe6\\x01\\xe6<\\x8d\\x1a\\x94\\xc24\\xa5Z\\xed\\xd4%*\\xdc\\xa0\\xfeU\\xa9\\xd0-_\\xe4\\tJ\\xf0\\xf7\\x89\\x18\\x1e\\xda=\\xe4\\xfc*F.\\x81\\x12\\x0e(W/KnN\\x90V\\x06\\xe3g\\x13\\xf9\\xd6\\xafX\\x02.\\x1a\\x07\\xbb_\\xb6?\\xa4\\xf5\\xf2\\xa3S\\xae\\xc0q\\xbe\\x83\\x95uQ.\\xf3\\xce\\x93\\xbfpA\\x8a\\x8b\\xbe&\\x8f\\x90\\xba\\x1b.\\xf2k\\x8f\\xde<\\xe9r\\t4BS]f\\x95\\xb7\\xb8\\x83\\x96\\xce%\\x11)\\'\\x9d[Yy\\n\\x88\\xf0\\xcf\\xa9O\\xe6>\\xb4\\xa7\\x8f\\xda\\x07\\x10\\x15\\xcc\\x19\\x14W\\x0et-\"\\x0c\\xc0\\xaf\"T\\xe9\\xc5~I\\x0b\\x0b\\riNN\\x0e\\xc4d\\x1f\\x88\\xfbT\\x88\\\\P\\xd6\\x81Z|\\xfe\\x84y\\x8eu4N\\xdb\\x8d\\xd3\\xd3\\xccu\\x1fQ\\xe7\\xbdz\\x91Z\\x1f\\x13\\xa5\\x89\\xa6<\\x05\\x99\\\\\\x90L\\t\\xe4@\\xf5\\x1c\\xe8\\x1bb\\xa0!<\\xf2f#\\xd4\\xce>&\\x9d\\xf0\\xb7\\x1bCj\\xd4\\xa0Ty5*\\x8e\\x9a\\x802O\\x96E21\\xb0\\x99\\xe7_\\xb4\\xae)\\xa9a&\\x08\\x9c\\xc6>\\x18\\x9c\\xfe\\xa6\\x84\\xed\\x9a;\\xbe\\x18\\xd2G\\xbc\\xb4\\x99\\x13\\xb1\\x05@\\x9eC\\x03j\\x9b\\x8e\\xf0\\xb7.\\xae\\x0b\\x96\\xebi\\xfe\\xe9CZ!IZN\\xf0\\xae\\xf4wd\\x0cL/\\xadY\\xbbm\\xd9\\xbb\\x87\\xect%\\x92V\\nT\\x94\\xcb`\\xef\\x99\\xd4G)\\xff\\x00\\x9a\\xd7\\x03l\\xa8vE\\xc57`\\xb5\\x05\\xc6\\xadq\\x98\\xcc@\\x8223\\xe9G;\\xc3\\x1d\\x1d\\xd3\\x88X+L\\x02\\xd9\\x90\\xd3\\xc6%R\\x13\\x80\\xb3\\x93\\xb6zN\\xf6\\xae\\xc9\\xf69=\\xcbM<\\xdaR;\\xbc\\x85-\\xb2u\\xa8\\x92F\\x0ew\\xe4*\\xb5m\\xc2\\xael\\xdfv\\xd9A\\xc4\\xa1$\\x96\\x9cZT\\xa4)\\x1e\\xe8\\x05 \\x89\\xf8\\xf2\\xa4\\xca3\\x8d\\xc9\\r\\x8c\\xa2\\xf4\\xc5\\xfd\\xbb\\xb4.!\\xbb\\x8bE)\\x08P\\xfe3@\\xe9(RD$\\xacNDO\\x8bm\\x8f:\\xadZ\\xb5sl\\x92\\xea\\x1d\\xd0Q\\x91\\x0b9\\x1f\\xd2\\xa4\\xcc\\x11\\x9d\\xa2\\xbd\"\\xedEp\\\\\\xda<X\\x03>\\x8a\\xcf\\x88I\\xdbp\\xaa_\\xc5\\xb8\\xaf\\xfd\\xb2\\xed\\xd0\\xb5w*\\xf0\\x94\\xa4\\'I\\xf4\\xf8\\xd0\\xbf*\\x9e\\xd0_\\xc3_LN\\xbe\\xd4\\xb5v\\xda\\xd9q\\xb0\\xd3\\x8a\\x00\\x85n5`\\x92><\\xbc\\xe8&-_\\n\\x1b\\x10G\\xb4\\x08 \\xfc\\'\\xe3A\\xd8\\xf0\\x04\\x80V\\xf2U\\xa7>\\xcc\\xc0\\x1dqO\\xf83\\x1aT\\x1b$-*\\x04\\xb6\\xb4\\xf3\\x02%+\\xe8c \\x8d\\xf3J\\xcd\\x91I\\xb6\\x87\\xe1\\x83\\x82\\xa60\\xb7\\x05h\\x1bO?kT\\x8f/w\\x97>`\\xd4\\x0b\\x1d\\xda\\xb5-h\\x84\\x90O\\xf5`\\x83\\x83\\x03\\xa55S\\x1a\\x01\\'1\\x9c\\x1d\\xfamA^Y$\\xac)\\xc5jY\\xcaP\\x90\\x0cu\\x92y\\x0f\\xd1\\xa8\\xae\\x8a{\\x14v\\xab\\xb6\\xf7w\\x85\\xe4\\xa5\\xd4\\x86\\xd5\\xa5\\tm\\xb4\\xf8\\xd4\\x92D\\x8d[\\x83\\x8f\\x91\"\\xb6{\\x06\\xea\\x12\\x02\\x1c\\x0e\\xa5PHB\\xd5\\xa5\\'\\xa9J\\x92\\x04\\x8a2\\xe3\\x86B\\xb5k\\xee\\x8fP\\x02\\x88\\xe9\\xbe\\'\\xd2\\x9cX\\xda^,\\x00\\xcb\\xc1J\\xe8\\xb0\\x13?\\x14\\xfb?\\xf8\\x9a\\xb1ynU\\xc7\\xfeI\\x1f\\x8b\\x15m\\x9d\\xa3\\x85\\x06\\xad\\x13f\\xd1-\\xb2\\x16\\x1c|\\x98\\xd6\\xf2\\xc1\\x10\\x15\\x06\\x12\\x81\\x03\\x19&\\x07\\xc4+\\xee(\\xb48\\x9bKv\\xfb\\xc7\\xdc\\xda2\\x12\\t\\xc9RS\\x9c\\x031\\x14\\xc5v\\xf7@\\xf7e\\x97\\x12\\xa9:\\x0c\\xa7J\\xd4\\x0eR\\xd9_\\x87Y\\x93\\x83\\x8c\\x10\\x0e\\x0cZ\\xbb-\\xc0BP\\xb7\\xadR\\xdbO\\x99\\x0e\\x17Z%\\xc0\\xad\\xc8\\xd5\"D\\xe7W\\x89\\'\\x963F\\xb1\\xcf$\\xb9d\\x05\\xce0\\x8d@\\xae\\xf6\\x8b\\xb3N\\xfe\\xe2\\xb4:\\x85/\\xb9)XJ4\\xebZg\\x00(\\xc8A\\x99\\x18\\xd4c\\x96h\\x8f\\xd9\\xe2\\x1c\\xee\\x1f\\ni\\x0ciP\\x86\\xdb#\\xbcH)\\x1f\\xcd\\xcf\\x85g\\xa1\\x8f4\\xe7.\\xbb)\\xda\\x87\\xae\\x16\\xf5\\xad\\xea\\x02\\x14\\x12\\xa4\\xa4\\xebIY\\x19\\xcb\\x81\\x00\\x06\\xc1\\x19\\x05A3\\x88\\x07z\\x13\\xf6/h\\xdaZ\\xbai\\x01!\\x1a\\xc6\\xce\\x87\\x14L\\x11*R\\x06\\x84\\x98\\x03\\xc229\\x92sV((\\xc5\\xa2g6\\xdd\\x94\\x07\\xdcSW\\x9a\\x9bm\\x16\\xad\\x95\\x99p\\xe9\\x0bY\\':J\\x81q@\\x98\\xc3x\\x1b\\x109{\\x87\\x07#\\xb9\\x19\\xd5#\\xfa\\x7f\\x0e\\x7f\\n\\xf0\\xae\\xdc\\xf0`\\xd7\\x10s\\xfe\\xde\\xea\\xe5Z\\xb5jJ\\xa10b\\x04\\x06\\xd4\\xaf\\xff\\x00\\xa1\\xe5^\\xcf\\xd8\\x1b\\x8dV\\xa9\\nJ\\x90\\x7f\\xa5A`\\x83\\xe8\\xa2k\\xb8\\x99b\\x9e?j\\x97\\x01\\xd4t\\xe9\\'\\xd9\\x00\\xc8\\xe9\\x99?:\\xa9Z^*\\xd9bI-/e\\t\\x82\\x0f\\xe3V\\xbe \\x94*\\xe1yI\\xf3\\x85\\'\\xeapj\\xbaxz|V\\xee\\x02\\x12I(*=s\\xe1$\\t\\xdf`*Wq\\x93^\\x8a\\x16\\xd5\\xfb$yE\\xb1\\xdf6\\x10\\xb6NH\\x03J\\x84\\xeeF\\x9f\\t\\xf8\\xa4\\x9f:\\x1e\\xf6\\xd1\\x02.X_\\x84\\xe4\\xe2`\\xfc?*\\x8b\\x83\\xdd\\xa9\\x87\\r\\xb3\\x9e \\xad\\x8eb<\\xa6\\xb4m\\xff\\x00tt\\xa8\\x19e\\xc3\\x94\\xff\\x00I\\xa1oaz\\xff\\x00\\xda\\x08t7x\\xd4\\x10#\\x9cn\\x95u\\x14\\x9a\\xd1\\xf7\\xac\\x95\\xa0\\xf8\\xdb?\\xf8\\x91\\xf8\\x1ak|\\xd1e\\xc4\\xdc5\\xfc\\xb3\\xfc\\xc06\\x83\\xce\\x9c\\x95\\xa1\\xc4\\x8d@\\x14(`\\xe3\\xebB\\xa7\\xc7\\xf0\\x13\\x87/\\xc8\\xad\\xc6\\x10\\xebr\\x88\\t;\\x1eiU\\x0f\\xc0T\\x12\\xa5\\xdb/\\xde\\xeb\\xb4\\xf3\\xa8\\xdeh\\xd9\\xb82T\\xc3\\x86\\x0f\\xf6\\x93\\xb6zT\\xbci\\x1d\\xda\\xdbw\\xdd\\xc0\\'\\xed[\\'\\xa0b\\xb7\\xb1C\\xf6*\\nq\\xa5{M\\xe5\\'\\xaa(6\\xc5X\\xbbG\\t\\r\\xdc\\x8fs\\n\\xf3B\\xb0\\x7f?\\x85%\\xbcoK\\x90=\\x95e?\\x1a,y,\\x1c\\x90\\xa2F@\\xa9f\\xa2a\\x06\\xa5\\xd3O\\x10E~\\xde\\xb1\\xa4bD\\x1a\\xa82\\xfb\\xd6\\xcf\\x14$\\xe2~\\x95\\x7f\\xba\\xb4\\x85m\\x9aI\\xc4\\xf8XS\\x89sc\\xb1\\xaf/\\x03p\\xc9\\xc1\\xf4M\\x15R.\\x1c\\x01z\\x9b\\x93\\xbcT.\\xbcZV\\xa5\\x10`\\xc8\\xd5\\x90<\\xc79\\xdb\\x9dqh\\xe2\\x19BB\\xe4\\x1ei\\x1b\\xff\\x00\\xb8\\xfb\\xbfS\\xe5L\\nI\\\\\\xf8P\\xa3\\xb4\\xa5$\\xb6\"J\\x94W\\xefD\\xe2@L{$\\xfb>\\xcf\\xf2\\xa49 \\xee\\x1e\\xca^H=\\xda\\x12\\x0eLk\\x04\\x83\\xb2\\x90\\x02\\xa1=\\x06\\xa0\\x01\\x9f\\t\\xe5LQ\\xdc4\\xc2\\xd4\\x10\\xa1$\\x81\\xdfs\\xf2>\\xc9H\\x9eD\\xf5\\x9c\\xd2v\\x1e\\xc0\\n%h\\xe5\\xadn\\x15\\x19\\xddJYZ\\x02\\x89\\xea\\x92\\xae\\x83\\x00S\\x07\\xf8\\x93imM\\xad$\\x10\\x00B\\x1aya\\xc06\\x05edh\\xe7\\t%[mZ\\x91\\xcc\\xa1\\xa3\\x8f:\\xed\\xd2m\\xcal@\\x0b\\x82\\x8d7m8\\x94nB\\x02\\xd4\\x94\\x8f\\x0e`\\x18\\xabWi\\xae\\xed\\x95j\\xea\\\\aE\\x98\\x03\\x05zNd\\x00\\xb6\\xd2\\xb5& \\x19JM,Oh,\\x1ay\\xa4\\xbe\\x1c\\xd4\\x80t\\x87\\x03o\\x1f\\xf6\\xbc\\xe2\\x14\\xa8\\xce\\xc9X\\x19\\xda\\x9a\\xf1\\xcb\\xeb\\x05\\xb1\"\\xe9\\xebmDx\\xdb+d\\xc9\\xe4V\\x94))\\x07c \\x0c\\x8c\\xe4I6o\\xb1W\\x0c\\xe3\\xef%\\xa4\\x1b7[\\xee\\xd0\\x9d\\x10\\xfau\\xb6\\xa8\\x03*}\\x82t\\x18\\x8f\\n\\x90\\xd9=:M\\xc4P\\xf0\\xb7r\\xee\\xed\\xe0\\x10\\x84\\xea,Z\\xca4\\xa8\\x13\\x1a\\\\J\\x81\\x04\\xc8\\x90\\xb0GQEp\\x8buh\\x05\\xae,V\\xdcD:\\xa5\\x93\\x9ea\\xf5\\xa93\\xfe)\\x8d\\xf0F\\xd4\\xdb\\xb9}\\x94\\x00\\xb7\\x9ax\\x0c\\xa3\\xc4\\x96\\xd6\\x07\\xf6w\\x9a\\xd4Ls+#\\xca\\xba\\xce\\xa2\\xb8\\xc7\\x04Z\\x9b+\\x16\\xe5\\xf0\\xb3+\\x12\\x94\\x14\\xc6B\\x96\\n\\x8e\\xa26\\x94\\x939\\xc8\\x98\\t\\xb8+F\\xe7Z\\xd7\\x08na\\xa2\\x99\\xd5\\x03\\x06B\\x89\\x11\"6\\xe5G\\xab\\xb4\\xc8e\\xe6/Rt\\xa3_t\\xf6\\xfb(A+-\\xa8\\xb6s\\x06q\\xb6<\\xf3\\xb4V\\x85\\xb7\\x83\\xc9\\x05\\xdbk\\x99+ xR\\xa3\\xec\\x9d\\xfc(\\x02r<\\xa4\\xd4\\xd9\\xb1E\\xad\\r\\xc7\\x91\\xa6C\\xff\\x00LR\\x08\\x1a\\x813\\x04\\x80r\\x9e\\xb1\\xf8R\\xef\\xdc\\x83w\\x08\\x00@\\xd5\\xa8\\x01\\x00IJ\\x82\\x84z\\xc1\\x8f:w\\xc5l\\x96\\xdaY~@@PJ\\xb7\\x82\\x14 \\x00?\\xca7\\xa9\\x19\\xe1(u)RV5\\x0f\\x12I\\xdaF2>\\x95\\x0c\\xb18tW\\x1c\\xbc\\xbb7\\xc5\\x19\\x86\\xba\\xc2\\x92y\\xed\\xa93\\x14\\xb9\\xb6\\x94\\t)\\x00\\x15`\\xa9@\\xe4NF9G*\\xb0\\xb0\\x8e\\xf1\\xa8$\\x13\\xf0\\xa0n\\x19\\x08B\\xc2U\\x92\\x92\\x90\\x7f\\xbd^\\x14\\x8fY\\x8a_\\x07\\'T\\x1f5\\x15g\\x16\\x96hI\\xd4F\\xa5\\x0fd\\x9f?\\xe8\\x07c\\xf5\\xa1;1\\xc1\\xd8\\xb9\\xb8}!ki\\x94\\xa8\\xb8\\xf6\\x8d@8\\xa2\\x08)C\\xa9W\\x84\\x02\\x0e\\xa078\\xf5e\\xc4\\xb82\\xdbBY\\x13\\xdf/\\r*5\\x14\\xaa#\\\\\\x1e\\x93\\'\\x95\\x05\\xc6/\\x85\\x8b?\\xf4\\xdbD\\xeb\\xb8ZaP\\x0e;\\xc2\\xadJ\\xc9\\x95{\\xc4\\x801U\\xf8\\xf8x=\\x93g\\xcb\\xc9hl\\xcf\\x1fel\\xce\\x94\\xb5hIm\\x06U\\xecF\\x17$\\xc02=\\x98\\x13\\x07p)\\x97\\x0e\\xe2\\xe9\\xb6\\x01\\xa7\\x14\\xa5(\\xa4\\x04<\\xe1@u\\xd9\\xd8\\x14&\\x0b\\x84I\\xc8\\xcco\\xd4\\xd4\\xaf\\xf87u\\xdc\\xdb\\xad/-\\xb44\\x0f\\xf0\\x90\\xda\\xc90I.6\\x0c\\xab)\\x03)\\xe7\\x893M\\xaf\\xee\\x1b[e%\\xc5\\xa1\\xcd\\x82\\x1bw\\xc6\\xa3\\x98\\x9e\\xec6\\xa2\\xace\\t3^\\x8f\\xa2J\\x03\\xe2]\\x87+\\xf1\\xad\\xe7\\x9cYT\\xb6\\xd3\\x90\\x86\\x13\\'$4\\x95\\xb50\\'!C\\xcc\\x1ag\\xfb2m,\\\\8\\xd2n\\x1bP\"\\x14\\xdbV\\xe8F\\x95\\'\\xfa\\x94\\xda\\xd5&?\\xaa\\xa0\\x7f\\x88w\\n\\xd4Z\\x95wp\\x8f\\x0b\\xcb_xpr\\xe4\\x84\\r\\xa7\\xc3\\xeb1K{?k\\xc4\\x10\\xfa\\x1e\\xb8u)G&\\xdbC`&}\\xd2P\\x91\\xf4\\xc7\\x97MkFX\\xef\\xf6\\xad\\xc0Y\\xb9)u}\\xf8\\xd24\\x9e\\xe9-\\x9d\\xb2=\\xa7\\x13\\x1c\\xf6\\x07\\xce\\x8e\\xfd\\x94\\xb6\\x842[O~\\x10\\x0e\\x03\\xe9HP>Zq\\x14\\xa7\\xf6\\x85\\xda\\x03\\xdc\\xac6\\xa5jH\\'\\xc0\\xe1J\\xbc$\\x02`n\\x07\\xdb\\x9d\\x01\\xfb%\\xe2\\xaf\\x10T\\xe3\\x8aPR\\xbf\\xa9FGXQ\\x81\\x80d\\x08\\xf4\\xae\\xe3\\xaa\\x07\\x96\\x8b\\xd7\\x14BE\\xc6\\x00B\\x8eJ\\xb4\\xa8\\x05\\x1f\\xf2L\\x83\\xe61U.5d\\\\2\\x8d\\x1d\\xeaLBW$\\x1d\\xc6\\x0c(\\xcfH\\xe7Nn/\\x88\\xbfP:\\xb4i\\x12\"S\\'\\xde\\x18\\xe6\"})G\\x1by-\\xde\\x96\\xf0\\x03\\x89\\x94\\xe0i*\\x1d\\x0e\\xff\\x00\\x85E\\x9bN\\xca\\xf0\\xedP\\xb7\\x89Z\\xa9\\xe6B\\xa0\\xa1\\xf6\\xb2\\x02\\x81\\x06G\"\\x0f#\\xd6\\xa5\\xb6p]\\xdbA\\x91\\xa8A\\x93\\xb2\\x85\\x14\\xf3\\xaaiAi$\\xa0\\xe1I9H\\xe8\\xa0\\x95H\\x1e\\xa2\\x97\\xdd%\\x96^\\n*\\xee\\x92\\xf6\\x0cIk_%O\\xb4\\x83\\xff\\x00\\x90>T\\x8d>\\xbf\\xb0\\xf7\\xae\\xff\\x00\\xb9\\x1ff.TB\\xed\\xdc\\x12\\xa4b\\x0f1]\\x05~\\xea\\xe8\\x13-+\\xdd;\\n\\xd5\\xfb\\x1d\\xcb\\x89\\xb8\\x8d\\xb0\\xef\\x9aN\\x02\\xd2F\\x08\\xf3\\x14\\xdb\\x89Z\\x07\\x9a\"g\\x1a\\x92h[\\xa7\\xbfg%k^\\x82.\\xed\\x12\\xebe$JH\\xc7\\xfcUsWz\\xcb\\xb6\\xcb\\xf6\\x93:z\\xe3j?\\xb3\\x17\\xa6\\x0bJ\\xf6\\x93\\xec\\xfas\\x15\\x0f\\x16F\\x87\\xd2\\xb8\\xf6\\x87\\xd4oX\\xb4\\xe8\\xd7\\xbd\\x91pw\\xbfx\\xb4Sn\\x0f\\x12AI\\xf5\\x15_\\xb1\\x92\\xc2s*ie\\n\\xeb\\x00\\xc7\\xe5O82\\xc3wn\\xb7\\xc9`,|w\\xa1\\x90\\xc2Sqp\\xde\\xc1`*<\\xf6\\xac\\xbafU\\xd13m\\xf3\\xae\\xcb5\\xc3*\\x80\\x05K\\xacU\\xb1v\\xac\\x96J\\x9d\\x0c\\xdfNs\\xd2\\x85[D\\x0c|\\xc6\\xff\\x00\\x03\\xb8\\xa9\\xae\\x810Rr7\\xf4\\xae\\x86S \\xe2\\x93(\\'+\\x12\\xd6\\xc085\\x89BT\\xb2r\\x15\\xe1\\x9eGy\\x1e\\x9fr)\\x9fy\\xe0\\xd0\\x8cj\\xf6\\x8f=;\\x89<\\xa4\\xc1\\xf4\\x03\\xadt\\xb6\\x8c\\t\\xdc{\\xa7i9\\x95\\x0f\\x90\\x8f,\\xf9\\x8a\\x80P\\xb2\\xa3\\x99\\xc8\\x07\\xde=O\\x97\\xdfn\\xb1J\\xd2\\x08\\x99\\r\\x16\\xe0\\xa7\\xf9\\x873\\xfd \\xf3\\xff\\x00#\\xd7\\x90\\xf38\\x16\\xca\\xdd)t\\xea\\x1e\\xd1\\x95\\x19\\'\\xac\\xcc\\xe1#\\t\\x10>\\x9c\\xcdB\\xc9T\\xf3;\\x93\\xd4\\xeej\\x1b\\xc0\\x96\\xd6\\x1cR\\x82P\\x9c\\x95+\\xea@\\x198\\x98\\xf4\\x8a%\\xd9\\x92\\xe8\\xa5\\xfe\\xd0,T\\x15\\xde\\xa6\\x12I\\x82\\xac\\xc8\\xce\\xd1\\xb2F\\t\\xc0\\x9cVp\\x7f\\xe2\\xb4\\x86\\xdcN\\xb4\\x14\\x80J\\x8c\\x0cD\\x08\\xdc\\xf8\\xfcRNbv\\x89\\xb2\\xf6\\xa1\\x01V\\xc9RP\\x8d\\xc1\\x05\\xf9\\t\\x12d\\x18\\x19Q\\xdb\\xc25\\x1aCm\\xc5R[\\r[\\xb8\\xe2\\xd7\\x02;\\xb4\\x06\\xd2\\xa3\\x80\\x03h\\x01\"LO\\x89\\n\\x11\\xd0S$\\xac\\x18\\x9a\\xe2\\x1c\\x1d\\xd6\\xdfi\\xeb[w%CJ\\xb4\\xa5i\\x81\\xd6DG\\xc7\\xa55E\\xad\\xf10\\xd3\\x89\\tT\\xa5z\\xd4\\xdcH\\x12J\\x8aOx\\xa29\\x81#\\xa8\\xa1\\xee\\xee-\\xc1\\r\\xdc\\x84\\xdc\\xbe\\x81\\xab\\xb9/+\\xba\\x07\\x04w\\xca@B\\x15\\x98\\xf0\\x84\\x91\\x9e`\\xd4\\xa7\\x8b=p\\x9d%\\r&0\\x96\\xc3m\\xe9H\\x1b\\x11\\xa90\\x00\\x1c\\xe3\\x02\\x94\\xe9\\x0cG<:\\xc9\\x86\\x1d\\xeeWp\\x9d\\x0f\\x9f\\x19YkA\\xdc`\\xb6\\nR\\xa1;%K\\'\\xfbi\\xf7\\x0f\\xe1\\xea\\xe1\\xc7\\xb9t\\x07\\xb8{\\xb3\\x92%-$\\xc9\\xc1&`\\xceI\\x9a\\xad\\xb6\\xf0\\xb6\\x86\\xeeU\\xa9*2\\x02\\x82\\x95pT\\xa3\\x03\\xba@\\xcbI\\xe99VgN\\x12\\x1fp\\xae \\x1b\\x1aZu.\\xb4\\xa8\\xd2\\xdb\\x87d\\x83\\x0b\\x85\\x00\\x04G\\xbb\\x91#&\\x9a\\x92}\\x80\\xdbE\\xcf\\xb4\\x1d\\x9em\\xde\\x1e\\xa6\\x18P\\t\\xd3-\\x91\\x98P\\x82\\x93\\xf0 W\\x92p\\xce5\\xa5\\xd5$jm\\xd4\\x9f\\xe2!D\\xee7\"w\\xcf?LU\\xea\\xce\\xf5\\xb6I-%\\xc4$\\xff\\x00\\xf1\\xa1AHP1\\xe2Jd\\xe9\\x03\\xca\\x06\\xf5R\\xed\\x7fg\\x93p\\xa3qo\\xe0td\\xc8)\\n\\x8e\\xb3\\xb7\\xad\\x0e\\\\W\\x1d\\x1b\\x8b\\'\\x17\\xbe\\x83\\xed\\xb8\\xe9Q2\\xa8\\x1b\\x9c\\xfa\\xc9\\'\\xd3z3\\xb1\\x8f\\'\\x89]\\xa7\\xbbIM\\xbd\\xb2\\xb5\\x15I\\x01n{\\xb0:s\\xeaq\\xf1\\xf2\\xcb;\\x95\\xad}\\xce\\x90\\x9d^\\x12H\\x01#0uyys\\xafi\\xec\\xaa[\\xb3i-0\\x99\\x8c\\xa9R\\x91\\xa8\\xceL\\x8d\\xccr\\x8f\\xf8\\x0c0m\\xdb\\x1b\\x97\"\\xaa\\x89q\\xed\\x13\\xe9o\\xf9\\r%\\xcb\\xc5$\\xa5\\xbcl:\\xb8\\xac\\xe8@<\\xce\\xe6\\xaa\\r\\xd8\\x8e\\x1e\\xdb\\x84)7\\x17n\\xafQoZ@IY\\xdcd\\x04\\xa0u\\x8d\\x852w\\x89\\x18X@\\xd0\\x15\\x90S\\x01rw%fs\\xf0\\xfc\\xaa\\xab\\xc6\\xbbP\\xdb\\x02R\\x1bm\\xc7%+u$)\\xc9\\x88IQV\\x0cy\\xc6\\xf3\")\\xdcT{\\x10\\x9bf\\xf8\\xab,\\xb6\\xa2\\xbb\\xc5\\xb7\\xfb\\xd3\\xc9\\xd1\\xde\\xa3Rt$\\xfb\\xaaR\\x94\\xa6\\x81\\x1223\\xcfI\\xaexhPt\\x85\\\\;\\t\\x10\\x13p\\xc3q\\x10#K\\xad\\xe6<\\xd2\\x94\\xf3\\x9d\\xab\\xcf\\x13\\xc4Kn\\x15\\x05jR\\xce\\x87\\x16\\x91\\x85\\x90b\\x1eex>\\x80$\\x810T6\\xf4\\x8bv\\xc3l\\x80\\x94\\x8c\\x8c6\\t\\xd2N\\xe7\\xba&t\\x1f-\\xa0yWZf\\xdd\\x13\\xde!\\x00\\xa1OiZ\\x86\\x10\\x94\\x92\\xb4j\\xfe\\xc5\\xb9\\xa4\\xa1_\\xfe\\xcfPq[O\\rKG\\xbc\\x05KyY\\x00*W\\x1bH\\x06$\\x01\\xb6\\x00\\x9d\\xa7\\x9d^\\xe7\\x89\"\\xd5K\\x7f\\xbc\\x97@$\\x8c\\x83\\x1e\\x11\\xa0\\x80q\\x92\\x9clfF)\"\\xbbZ]mn\\xdc  \\x12\\x03jld\\xb8\\nL\\x86\\x94t\\x9d\\t\\xd45$\\xa0\\x8d`Nkm{;\\xb1\\xcfm\\xaf\\xd0\\x1a\\x80IR\\x08\\x89\\x1e$\\xa8\\x82\\x08R`\\x10\\x08\\x90A\\xf2\\xf5\\xab\\x0f\\xec\\xbd\\xa0\\x8bq\\x98\\xc0\\xf48\\x90\\xa0N\\xdec\\xe3\\xcb4[;\\xf7\\xddRR\\xf2[\\xbda^\\x10\\xe9\\x12\\xe2@\\xc8OxF\\xb4\\x11\\x93\\xa1{\\xe6\\x0f\\xbd^\\xab\\xc2P\\x1bj\\x10\\x02dH\"dz\\x85\\x13\\x07\\xe9\\xbeLM\\x12v\\xec\\x06\\xabGiej\\xba*P\\xf0\\x004\\xfb2\\x9e~\\x15\\x0fi&v\\xf2\\xe7\\xbd \\xedS\\n\\x1f\\xc4\\x06{\\xa5Ln\\nw>\\x9dj\\xd5\\xc0R\\xadJ*\\x00\\x13\\xbf\\x91\\xe7\\x11\\xee\\xcf\\xdf\\xd2\\x92\\xdd\\x80T\\xe0\"rA\\x07\\xa7B+\\xcd\\xf2\\xe5N\\xcb\\xbch\\xda\\xa3\\x86_K\\x8d\\x85\\r\\x94>\\x87z\\\\\\xdb!\\xf6\\x9d\\xb5s\\x97\\xb2\\xa8\\x1b{\\xa4W\\\\\\x14\\xc2\\x16\\xcc\\xfb\\n)\\x1b\\xfb\\')\\xfa\\x1a\\x86\\xf4\\x94\\x048\\x0c\\x94\\xabB\\xbex\\x9f\\xd7:\\x96/\\xd1D\\x97\\xb3\\x8e\\x1fy\\r\\x96\\xdc\\x83\\xa3\\xc0\\xea\\x150\\xa4\\x9c\\x05\\x8e`\\xc71L\\xf8B;\\xb2Y\\x04\\xa9\\x00Ke^\\xd6\\x93\\xee\\x9e\\xb1\\xd7\\x9d-\\xe3\\x0e\\x06\\xddf\\xe5>\\xca\\xfc\\x0b\\x1c\\xb3\\xb4\\xfch\\xc7u&H9l\\xebF=\\xa6\\xcf\\xb4\\x9f1No\\x92\\x16\\xb4\\xc0\\xf8\\xa3e\\x87\\xfb\\xc4\\xfb\\'#\\xd7\\x98\\xf8\\xd1\\xfcY\\xc4\\xb8\\xc0u#\\xcf\\xd3\\xadI\\xc6\\xed\\xc3\\xd6\\xfa\\x91\\x9cjH?j_\\xd9\\xb7J\\x98R\\x15\\x98\\x9f\\x95\\x05j\\xff\\x00`\\xafu\\xfb\\x8b.\\x9e\\xd3sl\\xe4{R\\x92~\\xd4G\\x19!\\x17hP\\xf7\\x90A\\xfb\\xd2\\xfe,a6\\xe6vp\\n+\\xb4f^d\\xed\\x85}\\xab\\xa4\\x8c^\\xce\\xafU\\t*\\x1dG\\xd6\\xa3m\\xecQ\\r\\xa0,\\x14\\x9ei\\x04T-\\xdb\\xe2\\x9f\\x81\\xdcD\\xe6_!\\xe1cR\\x02Rw\\x195\\x05\\xa3\\nk\\t;nN\\xff\\x00\\xed\\xe9\\xf7\\xf3\\xa28k\\xa9 A\\x98\\xe5\\xd0T\\xcb\\x12\\xb8\\xf8\\xd1\\xd5\\xec\\x9c\\x89\\xb7c\\x1dk\\x8b\\x86\\xca\\xa0\\x8d\\xeb\\x8b\\xc7!B9\\xefE\\xa1b)\\xabh\\xd3\\x1bP\\x114\\x1f\\x18O\\xf0\\xd4\\xafh\\x8c\\x89\\xc8\\x9fC\\xbf\\xeb\\xd6\\x8d\\x04ECr\\xd8Se\\x11\\xbf.\\xb3\\x88\\xaeF0\\x0e)n\\xb7\\xed\\xc2#R\\x94w10\\x0e\\xa3$\\xe2b$\\xed\\xf0\\xaac\\xb6\\xab\\xb4ICDw\\x8a\\x10\\xe3\\xdc\\xce\\x07\\x81\\xa4\\x9d\\x91\\xcaNTw\\x81\\xe16\\x1b\\xeb\\xe7\\xd1\\xff\\x00n\\xdf(\\x0e9\\x8d\\xa6J\\x12y\\xff\\x00r\\xb9\\x93\\x03\\x02NZ\\xd9%\\xc7A^\\x12\\x8c\\x99\\xf2\\xc9&\\x8aR\\xde\\x81Z*\\xb7=\\x98\\xb8R\\xd7p\\x83$\\xabZ\\x04\\xf8\\xbcFRI\\'\\x102gm&i\\xaf\\x0e\\xed\\x17u\\xfc\\x14\\xc1se\\xbd\\x18\\'\\xa3 \\xe4\\x80g\\xc4z`dC\\x9e9\\xc6P\\x86\\xc0Y\\x8dF@\\x11\\x02}\\x94\\xab\\x9e\\xf0Lm\\xd0\\xc5T\\xb8\\xff\\x00\\x0c\\x05E\\xd6\\xc8*\\x130\\x0cJA\\xda\\x7fX\\xa1n\\x8d\\x18q\\xf9\\xee\\x8b\\x89\\xca\\xe7s\\x98\\x9c\\x12z\\x9d\\xf1\\xe7\\x99\\xd8\\xd5,;H\\xfbEE*2\\xa2$\\x90\\x0f\\x84r\\xcf_\\xc2\\x99\\xf0\\x8e&\\\\IifdA$\\xc7\\xd23U\\x9b\\xd64-I\\xe8k\\x11\\xa7\\xa4\\xf0\\x1e\\xd0\\\\<\\xd8Y\\xd3\\x92F\\x13\\xd0\\xff\\x00\\xea\\xa2\\xe1\\xdcr\\xee\\xef\\xbfJ\\x16\\x94\\xe8\\xda\\x10=\\x9c\\xc1\\xcf<P\\xff\\x00\\xb3\\xa5ka\\xc4sJ\\x8cz\\x14\\x82>\\xa0\\xd5F\\xcc\\xad:\\x82T\\xa4\\xea\\x05+\\x82F\\xa4\\xeeB\\xa3qIN\\\\\\x9a\\xb2\\x85\\x18\\xf1Z\\x1d\\xb9\\xd9\\xbb\\xa49:F\\'\\xc5 `\\x00\\xad\\x8a\\x87\\x97:\\xb2\\xf1W\\x9dj\\xd1\\xd7R\\xf1*F\\x94\\x88T\\xc1QNN\\x93\\x13\\x06EPnm\\xca\\xb2rz\\x9c\\x9f\\x895\\x1d\\x9bd\\x02$\\x80w\\x12`\\xc6\\xd29\\xc4\\x9a7\\x7f\\xb9\\xaa\\x14\\xea\\x8fA\\xec\\x92\\xd7r\\x80\\xa5\\xadJ3\\n\\x95\\x1fhs\\xdf\\x1b\\x83\\x8a\\xf3\\x97\\xdd\\x84(\\x13:\\x950=\\xd2\\x0cm\\xcaG/!\\xd2\\xbd7\\xf6x\\x80\\x90zL\\xfc\\xb7\\xfaEy\\xa7\\x10Ju\\x84\\x80A\\x03\\xc7?\\xd5\\xb9\\x8f\\xa5\\x0e?\\xb37:\\xa4\\x88\\x19Z\\x94\\xb0&J\\x88\\x07\\xcf\\x90\\xafc\\xbe\\xba\\xfd\\xd6\\xcd*TH\\x1e\\xf1\\xe7\\x1c\\x88\\xd8\\xfe\\xb3^C\\xc3\\x1b\\xd4\\xfbi8\\x95\\x81\\xf5\\xfc\\xeb\\xd0{i\\xc5@-2\\x939\\t8\\x07O\\xf8\\x18\\x8d@\\xf2?\\xfa\\xa6.\\x88\\xd8\\x07g{:\\xe5\\xd6\\xb7\\xae\\t\\x08P\\x1e\\x00|jN\\xa0\\xa13\\x90\\x9f\\x0e\\x0cI\\x03\\x1dj\\xd9q\\xd8F\\x8b\\x89*\\x1e\\x18\\x84N\\x12\\x04{ \\x0ff%G\\xcf$\\xc9\\x93L\\xb8u\\xb9i\\x03A\\xd8\\'|\\x95s\\x95\\x13\\xb9 \\x93\\x9e\\x82\\x9b5q\\xad\\xb0\\x95\\x00H\\x04|\\xf3\\xf8\\xfd(\\x93F;\\x15\\xf0n\\xcf6\\xc2\\x89\\t\\tI\\x91\\x88\\xeb9\\x1c\\xc7\\x97\\x97\\x95N\\xfd\\xd2\\x82\\x92\\x94\\xc83\\x826\\x89\\x12\\x92\\x0e\\x08\\x883\\x83\\x8e\\xb3]_\\x15\\x06\\xd4B\\xb2Rc\\xa4\\x84\\x98\\xf9\\xc4|i/\\t\\xbbZ\\xf4\\xac\\xc8\\x88%0 \\x89\\x89\\x1d\\x0e\\xf3\\xd2h\\xb9$\\x8c\\xe3l\\xbc.\\xf9-&s$r\\xdf\\xf2=*\\xb2\\xab\\xadN\\xa9D\\xef[\\xe2WAj\\xd8\\x81\\xf1\\x8f_/\\xd7I\\xa0X\\\\\\xac\\x81\\xff\\x00;W\\x91\\xe5e\\xe5*G\\xab\\xe3\\xe3\\xe2\\xad\\x92\\xb4\\x91\\xdf\\xab\\xfb\\x90\\x0f\\xc4\\x18?\\x85F\\xeb\\x1a\\xfb\\xe6\\xb9\\x91\\xa8z\\xf2#\\xe3R*C\\x8d\\x91\\xbc\\x91\\xe7\\x04~i\\x15\\nn\"\\xe8\\x0c\\x99G\\xc2\\'jT6\\x86H\\xee\\xcd\\x1d\\xfd\\xba\\xdaX\\x12F<\\x8f_\\x98\\xa0\\xad_Q\\xb6\\x0e\\x19+`\\x94+\\xcd#\\n\\x9a\\x9f\\x85\\xae\\x1d\\xc1\\xc7\\x8d1\\xe8\\xa9\\xfckid%\\xf7\\x9a\\xdc<\\x82\\xa8\\x18\\xf1\\x01\\x07\\x1f*d$*K\\xd8wfn56\\xa4\\x1c\\xe9Q\\x8f\\xf1;P\\x9c1=\\xd5\\xdb\\x8d\\xfb\\xaa\\xccz\\xd4]\\x8erP\\x95\\x1d\\xc1-\\xa8t \\xe2h\\xbe2\\x9e\\xed\\xf6\\xd6\\x06N\\x15\\xf8S+\\xe5@_\\xc51\\x07h\\xd9\\x01\"wK\\xc3\\xefSv\\x84B\\xd2\\xae\\x8d\\x9f\\xacT\\xfd\\xa7d\\x19\\x9f\\xfe\\xeaH\\xf9\\x8a\\xe3\\xb4\\x80hQ\\xe8\\xdd\\x0c\\xba5v\\xce\\x9a:\\\\o\\xcd\\x14qj\\x80\\xbaF\\x19s\\xc8|\\xa2\\x9a#\"\\x99\\xe3:\\xb4\\x06tk\\x84\\x84\\x80\\xa2$(\\x18\\x8e\\xb5\\x9d\\xe7\\xbcp|\\xe8n\\x1a\\xa3+\\xd2f`\\x89\\xe9D\\xa0\\x87S*\\x81\\x06\\x9a\\xba$F[=\\xaaRS0w\\xa8x\\xd5\\xcfv\\x80yO*1\\x80@1Z\\xb9\\xb7\\x0e$\\x83\\x9ab\\xe8\\xdfDvOk@P\\xa0x\\xcf\\x10S?\\xc4\\x13;\\x0e\\x89\\xea\\xaf3\\xc8t\\x99\\xdc\\n\\xcbId(+\\xd9\\x14\\x1f\\x11\\xe2m8\\xca\\xa0\\x83\\xd2\\x87\\x9f\\xc4\\x1b\\xd0]\\xa5\\xe2\\x16\\xd0V\\'\\xa7\\x9d,C\\xa46\\xb4\\x93\\x95o\\x1c\\xf7\\xc4\\xf4\\xff\\x00\\x8a\\xe7\\x83p\\xc2\\xb6\\xf5\\n\\x92\\xf2\\xd0\\xb6\\xd2\\x972\\xa8 \\x0f>T\\x0b#\\xed\\x99\\x1b\\x90\\x0b<5O,8\\xeeD\\xf8\\x13\\xd3\\x1aA\\xf5\\x8a\\x97\\x8b%M7\\x08L\\x8c\\xcf]0\\x06\\xfeg\\xe2f\\xa3\\xe1\\x97\\nZ\\xd0W\\x84\\xa1\\x04\\xf9l\\x00\\xf5;\\xd3\\x17/\\x12\\xb3\\xa7y\\xf9\\x01\\xcb\\xefF\\xa5a\\xb8\\xb5\\xd9\\xe5\\x8d\\xeaJ\\xb5G9=+\\xae\"\\xe1\\\\.\\x06D\\x18\\x18\\xfdy\\xd5\\xfb\\x8b[\\xb0a\\xb1\\x12|8\\xcc\\x01\\x92~f=H\\xaa\\xbf\\x1a\\xe0\\xe4\\rI\\xf6@\\xc0\\xe7\\x03\\x02h\\x930\\xeb\\xb0\\x9cm6\\xd7\\x1f\\xc4$4\\xe0\\xd2\\xb3\\xd0\\xfb\\xaa\\xf8d|j.\\x14\\xd6\\xb5-S!2\\x90q\\x918\\xdb\\xca\\x90$M<\\xec\\xd5\\xd0\\x04\\xb6q\\xab#\\xd7\\x9ds^\\xc7a\\x7f$\\x98\\xc9\\x16\\xf3P5k\\x04\\x83\\xe7OP\\xc5A\\xfb\\xbeN+x\\xe8\\xbd\\xc3gv7\\xebf\\xce\\xe4\\xa4x\\x82\\ny\\xe0.\\x10H\\xf3\\x1a\\x81\\xaaU\\xbac~\\x7f:\\xb8_\\xac6\\xc3\\x89\\x00\\xa9N\\'HOA)\\x95(\\x8d\\x80\\xc6O8\\xaa\\xcd\\xd0\\x05jP\\x10<J\\x00\\xf2\\x06`|0+\\xa2\\x89<\\x9a\\xe6C\\xc1^)}+\\x12T\\x0c\\x809\\x9e\\x87\\xcb5pg\\x81w\\xce\\x07\\x96\\xad\\n\\x90\\xa2\\x0fPy\\x1f\\x96>T\\x9b\\xb1\\x16\\xa9.\\x15+N6\\xd4$y\\xc0\\xafB\\xfd\\xe1\\xb4\\xa7\\xc6\\x91\\x04\\xc0)\\xc8\\x9eC\\x1bOZ\\xe7d\\xa3\\x9b@#\\x94\\xef]*\\xe7@\\x07\\x7f\\xf9\\xda\\xab.\\xf1\"\\x91\\xa9\\xbeX \\xe3\\x07h\\xfdmDp[\\xdf\\xde\\xc6\\xad\\x84\\xc1\\xe8c\\xc8\\xfc\\xab\\xac\\xda$\\xbf\\xb8S\\x88\\tD\\x83\\xa8\\x89\\xce=G@N~\\x1dh\\xf6\\xad\\xcbl\\xb6\\x923 \\x19\\x1fs\\xbf\\x950\\xb3\\xb7\\x03h\\x98\\x13\\xb1\\x06*\\x0e\"\\xe7\\xf1\\x9bG-\\xe0\\x8f,f3\\xf0\\x9aT\\xf26\\x87B\\t2\\'\\x99\\x8ct<\\xf7\\xfaP\\xcc\"\\x1c<\\xe9\\x85\\xe3`\\xd4\\nk\\xd9;\\x18\\xfbW\\x9a\\xfb=\\x05\\xd1\\xdd\\xcb{\\x1e\\x8a\\x07\\xe1\\xfa4\\xa9\\xd2E\\xda:\\x14\\x9f\\x9d9\\xba\\x1e\\x1e\\x87\\x1fqI\\xdcX\\xfd\\xe5\"=\\xd2h\\xa3\\xa0dp\\x95\\x14\\xb8\\xb3\"\\x12\\xf0 s\\x01I\\x00\\xfdh\\xce.\\xde\\x97Yx\\x0c\\x85h$\\x7fJ\\xba\\xfcb\\x97\\xba\\xb1\\xff\\x00r\\xa8\\x92\\nH\\xc71\\x14\\xef\\x89\\xb4Wo\\xa9&\\x0c\\x05\\x0f\\x86h\\xe3\\xdd\\x8b}\\x0b8C:n\\x1cD\\x81\\xac\\x92\\x07\\xf7\\x034\\xe7\\xb4,\\xcbHW0Fj\\xb5t\\xea\\x93v\\xda\\x84{bz\\x9dC\\x95\\\\\\xb8\\xbae\\x95\\xceq0)\\xeb\\xb4\\xc5zh\\xaaq\\x85j(\\x1dT\\x99\\xf8W\\x1c}\\x92\\xa4;\\xfe\\x15\\x8fe\\xe6\\xc7\\xc7\\xe9E:\\xde\\xae\\xf8\\x7fo\\xe1C?\\xb0Q\\xe9\\x99jC\\x96IP\\xc9\\t\\x1f:\\xcb\\x17\\xe5\\x02w\\xa8{\\'\\x9bB\\x93\\xcaE\\x08\\xc2\\xf1Y\\x1f\\x8c\\x99\\xcf\\xe5\\x14\\tw\\xc5B\\x03kA\\xf7`\\x8a7\\x82\\xf1}IH8%F*\\xb5\\xc5\\xc6\\xdas\\xa6\\x98\\xf6x\\x85 m\\xa9*\\x9at^\\x8f22e\\xe9\\x02H\\xc6+\\x12\\x02LT6\\xcb21\\xeb[\\xb8O\\x88\\x1a\\xa2,q\\x05\\xf27\\x1dEWxW\\x05I*\\x91\\xb1\\xabE\\xca$O:\\t\\xb4\\x90|;\\x9aVH\\xec\\tF\\xce\\xed[\\xd2\\nS\\x8a_\\xc7\\x0f\\xf0\\xe3\\xa9\\xa3\\x98\\xd4\\t4\\xb7\\x8f\\xba\\x0e\\x91\\x14\\xbc\\xae\\xb1\\x8f\\xc1\\x1f\\x92\\x154\\xe0A\\x00\\x88\\x18\\x98\\x14?\\x19\\x7f\\xba\\x01I\\xe6\\xae\\xbdMtW\\x95d\\x1cH\\x04b\\x85\\xedJ\\x82\\xedR\\xa1\\xb8\"co\\x9d\\x06\\x0e\\x86\\xe7\\xecb\\xc5\\xabN\\xa6P@Q#<\\xc0\\x19\\xc7\\xacmH\\xf8\\xff\\x00\\x0fy\\xa6\\xe2d\\xad\\\\\\xba\\x0eD\\x9fSKX\\xba!\\xb0\\xa0\\xb8);\\x0e\\x9c\\xea\\xd7a\\xc7C\\x8dd\\r@\\xe3\\xcbl\\xfa\\xd5\\x17D\\xd4y\\xd2\\x90P\\xa1\\xa8\\x1c\\x19\\x8a\\xbev[\\xb3\\xd6\\xb7\\x96\"%\\xab\\x86\\x9cT\\xb8\\x93\\x95\\x02d\\x05\\x03\\x8d\\x88\\x88\\x8d\\x8f\\x9dV\\xbbO\\xe3q*J\\x08\\x07\\x1c\\xe4\\x9f\\x95\\x0f\\xc3x\\x8b\\xf6n\\x12\\x99A#\\xc4\\x95\\x03\\n\\x1c\\xa4}\\x8d\\x1b\\xb7\\x1d\\x1b\\x1aOg\\xa4\\x7f\\xd0V\\x84\\xc2^\\x95l;\\xd4\\x838\\x9fv\\x0f\\xde\\xba\\xb7\\xe0nH\\xd6\\xb4\\x11\\xef\\x04%S\\xf3\\'\\xaf\\x95U\\xac\\xfbwu*\\x84\\xb0\\t \\x85,\\'\\xc3\\x020Ts\\xbd\\x1du\\xdb+\\xad(,\\xdc\\'T\\x0e\\xf1\\n\\x0c\\xa1:\\x81\\xf7d\\x82F\\xdfZ8\\xdf\\x1d\\xa2\\xaf\\xe2k\\xa2\\xdd\\xc0\\x02\\x12\\xa7<)\\x1a\\x9aSJ;\\xca\\x0e\\xaf\\t\\xded\\x9a\\xf2\\x9b\\xa6\\x14\\x96u/\\xdaZF9\\xc6\\x08\\xf9\\xe7\\x97#D\\\\q+\\x95\\xcfz\\xe4\\x05\\xabd\\xa8A$\\xcf\\xbb8\\x1c\\x87\\xa5\\x17y\\xc0\\x9d\\xee\\xd0KjH1\\x03L\\x10\\x00\\t\\x04\\x88\\xc8\\xc1\\xf3\\x92\\xa2w\\xac\\xc3\\x8eI7\"|\\xd9\\x14\\xa5h\\x1b\\x81\\xf0\\xc5\\xad\"5&}\\xe0v\\xe8b\\'\\xebM\\xf83/\\xa1\\xe52\\xe9\\xd6#\\x9c\\xc1O_]\\xaa\\xc3cb\\x86\\x1a\\x1eBNA\\x07\\xe14\\xbe\\xc9EN\\x17\\x89>C\\xde\\x8e[{Q\\xf3\\xa1\\x93\\x01 \\x0e\\xd4\\xba\\x11\\xe1\\x92\\x01I39$\\x1e\\x93\\x9e\\x9f\\x11M\\xff\\x00e\\xed\\x9e\\xe5D\\xfb\\xca$c\\x7f<oU.={\\xdf\\xbd\\xdd\\xa4$\\xca\\xa0r9\\xf3\\x1c\\xfe|\\xab\\xd5;;\\xc3E\\xbd\\xba[\\x8dJ\\x8c\\x81\\x8f\\xbdbZ6\\xf65IN\\xf3$o\\x88\\xf9\\xf5\\x14\\x917!\\xcb\\xa2t\\x91\\xa0G\\x8bT\\x82N\\xe9;\\x10i\\x95\\xdb\\xbd\\xdbjZ\\xf1\\x89\\x83\\x06\\x07\\xac\\xe6\\x90\\xf6mcB\\x9c\\n%*Q\\x89\\xe4<\\xbf\\xe2\\xa7\\xca\\xe9\\x14c\\xdb\\x1d\\xdfm\\xc8t#\\xf5\\x8a\\xe0\\x8dI\\x07\\xa7\\xeb\\x91\\xae\\x9e\\xf6f>C\\xed\\x14/\\t\\xca\\x159\\x95\\x18\\x9d\\xf1Q\\xd5\\xec\\xb2\\xc9\\xee\\x0f\\x83s\\xf1\\xf5\\xaa\\xf3M\\x93z\\xa3\\xd1\\x10>&f\\x9dq\\x17\\x00JA\\x8c\\xaa\\x07Y\\xa5\\xf6Bn\\\\\\xe4R\\x907\\xdf\\x9f\\xe3[\\x14\\x0c\\x99\\x13\\xac\\xean\\xe4F\\xe3|\\xef\\x14\\xeb\\x87\\x7f\\x12\\xccu\\xd1\\xf5\\x8a_t\\xc4\\xb2\\xff\\x00)\\x06\\xa6\\xecb\\x8fpRL\\xc1\\xde\\x9d\\x15\\xa1m\\xecQ\\xc6\\x94;\\xc6\\x15\\xd0\\xa0\\x9f\\x81\\x8a\\xbe\\\\&[W\\x9a\\x7f\\n\\xa0\\xf6\\xc4\\x84:\\x94\\x80d\\xa4GOj\\xaf\\xd7&\\x18G\\x9ac\\xe9N\\x8ct%\\xcbl\\xa7\\xdb3/\\x83\\xc8&\\x88\\xb3\\xfes\\xe9=\\x07\\xda\\xa4\\xe1\\xcc\\xc2\\x89\\xdey\\xd4Vf_|\\x9f/\\xb5-\\xed\\xb1\\xabI\\x03\\xf6G\\x01\\xe4tY\\xa0\\xd4 \\x91\\xe7FvS\\xda~?\\xac\\xd0\\xcf$j>\\xb5\\x8f\\xecd~\\xa2>(\\x94\\x97\\x16\\x13\\xb1\\xf1|\\xe8\\x0e\\rs\\xdc\\xbe\\x0e\\x088P\\xfcki\\xe1\\xae\\x10\\xa7\\x1a\\x1a\\x8a$-2u@1 s\\xa0\\x98}(RV\\xa0 \\x1f\\x8d9#\\xc9Og\\xa1&\\xf4\\xa5\\xc4h\\xf6\\x15\\xf4\\xa7g\"\\r!\\xb2}*HP\\x189\\x14\\xe1^$\\x831M\\x83)F\\xda\\x03\"\\x83S\\xa5\\x06(\\xbb4s&\"\\xa1\\xbdF\\xe4dQ3\\x88\\xd3\\x9a\\xafq\\xd7|q\\xd0}\\xea\\xc1l\\xf4\\xd5K\\x8d\\xbb\\xa9\\xe5\\xe7\\x9c|\\xaal\\xfb\\x88\\xff\\x00\\x1f\\xec\\x0c\\xc1\\x90I\\xc88\\xe7X\\xf5\\xb7{n\\xa4\\t\\x11\\xf3\\xc7\\xde\\xb9Y\\xf0\\x8fZq\\xc1R`\\x83\\xb6\\xe2h0v3\\xc8(6@\\xc1OLg\\xf0\\xceM\\x1f\\xc1\\xc6\\x95\\x94\\x1d\\xb7\\xcdq\\xc6-\\xcb7\\n\\xe8}\\x92y\\xfc\\xab\\xb7\\xd9V\\xb4(t\\xc9\\x8f\\xb5R\\xd1\"e\\xd7\\x85Y6\\xa5Ld{\\xc4\\x08\\x1bm\\x83?\\xa1M8\\xc7\\x08\\xb7q 8\\xd2Tv\\x05S>#\\t\\x923\\xcc\\x18\\x9d\\xcf\\xc6\\x90p\\xbb\\x8e\\xec\\x02\\xad\\xf9\\t\\xfa\\x9a\\xb3\\xb3~4\\x82\\xac\\xa8\\x9d\\x87_\\xc3&\\x99\\x8et\\xa8\\x19+)+\\xec\"\\x16\\xe6\\x96\\\\PHTJ\\x86\\xf0`\\xa8yj\\xc0\\x1eD\\xd6\\xed\\xfb\\x07\\x80\\xa5\\xb9\\x88\\x06 lBs\\x9d\\xe2r:\\x0cU\\xeb\\xbeG\\x85r\\x04\\x8c\\x0e\\x92\\x08\\xfa\\x04\\x9f\\x9dJ]@\\x07Q\\x94\\xccG,O\\xe0>\\xd4\\xdeq\\x06\\x99\\xc7fxE\\xb3\\n\\t\\xee\\x84\\x94H[\\x81&dA\\x00\\xf2\\xdf\\x96>t\\xde\\xe1\\x94\\xf8\\x81H\\xd3\\xe5\\xee\\x9eD\\xf5?\\xdc\"Dt\\xa5\\xa8\\xbf\\tF\\x90\\'N\\xd3\\xfd8\\xdb\\xf5\\xf6\\xae\\x97v\\x9c\\x19\\x81\\xc8\\xfda]G\\xdb\\xe9G\\xfa\\x89\\xaaFq\\xa2\\xab\\xda2\\xb5,6\\x80\\x14\\x13\\xbc+\\x97H\\x19\\x1f:I\\xc6n\\xd3\\xdd%\\t\\x13\\xc8\\x1c\\x05$\\xf2\\x9f\\xd0\\xeb\\xd4S\\xbb\\xc4\\x84)\\xd7\\xa32`\\x8e\\x91\\x8f\\xc3\\xd6\\xa8L<\\xb7\\xeeR\\x0f\\x8aU\\x93\\x89\\xdep|\\xbc\\xfc\\xeayv1\\x17.\\xc6\\xf6zO~\\xe1\\xd4}\\xd0G\\xe3;\\xd5\\xf1AC3>@m\\xf3\\xa1\\xb8}\\xa8J\\x04~G\\xe1\\xca\\x8b*\\x81\\x92G<\\xfeC\\xf0\\xaej\\x95\\x1a\\x84\\x9d\\xa6\\xb8_t\\x12\\x80u\\xa8\\xc01\\x04\\x03\\xfd$\\xe3\\xf5\\xce\\xb7f\\n\\x10\\x94\\xf4\\x19\\x91\\xcf\\x9c\\x91\\x82g\\xca\\xa1\\xb7Hy\\xf2\\xe9\\x03Kr\\x01L\\x89?\\x0e\\\\\\xf64\\xcd\\xf4\\x82uL\\xfe\\xbdb\\xa3\\xf2:+\\xc1\\xdd\\x9b\\x19Lyl\\xa9\\xfc\\xb1B\\xf0\\x07IdH\\x83\\'\\x9f\\x99\\x8c\\xff\\x00\\xcde\\xd3\\xe1\\xb4(\\x90H\\x8eY\\xdf\\xa8\\xae8;E-\\xa4yu\\xc6sH\\xfeR\\x8b\\xf9\\x10q\\xf7\\x0e\\xb6\\x87\\xf7\\t?0\\x01\\x157\\x0cdw\\xaf+\\x99#\\xedCqW2\\x93\\xfd\\xe8O\\xd6\\x7f\\x1a7\\x85\\xaaJ\\xd49\\xaa>U\\xb1\\xe8\\x19vO\\xc4Q\\xfc%\\xc8\\x90A\\xda\\xb8\\xece\\xbf\\xf0Ds5\\x07hnt\\xb2\\xa9\\x818\\x12q\\x9ag\\xd8\\xb6\\xa1\\x84\\xfd\\xf3O\\x82\\xd0\\x99\\xcb\\xe4V\\xff\\x00hM\\x14\\xa9\\xb5\\x8c\\x1d$\\x12|\\x8f*\\xb4\\xbe\\xa9\\xb5`\\xc6\\x08\\xf8\\xedH?j\\x08\\x94\\xb49\\xea1\\xf24\\xf5\\xf5E\\x95\\xbc\\xe0\\x9d\\xbeT\\xfe\\xa2#\\xb9\\x0123A\\xdb\\x1f\\x13\\xe7\\xf5\\xb5\\x14\\x0coI\\x9as\\xf8/\\xaepI\\xcdI\\x07vW-Q7e\\x1b!\\x97\\x14y\\xa9T2V\\rO\\xc0U\\xa6\\xcbW,\\xd0\\\\1\\x1a\\xd2\\xa5\\x01\\x82\\xa3\\x1fJ\\'\\xdb\\x05t\\x89\\xfb%\\xfe\\xa5\\xefEU\\x0b\\xb4\\x1e\\xdb\\x9f\\xe6~\\xf5\\xba\\xcat\\x0f\\x16?v\\\\\\xbb=\\xfe\\x9d\\x15g\\xb5\\xf6\\x05j\\xb2\\x8a%\\x88\\xdb{\\x1a\\x18\\xfb&\\xb2\\xb2\\x86_c\\x9f`|#\\x9f\\xa9\\xaa\\xad\\xf7\\xf3\\x15\\xea\\xaa\\xd5e+\\'\\xd5\\x14x\\xdd\\x83=\\xcb\\xe1O\\xb8?\\xb4\\xbfAYY]\\x80? \\xaf\\xf6\\xdf\\xf9\\xad\\xfaV\\xdc\\xf6\\x07\\xa8\\xad\\xd6U,\\x95\\x13\\xdb\\xf2\\xf4\\xfc*\\xc4\\xc7\\xb6=\\x07\\xddu\\x95\\x94\\x1e\\xcd\\x08s\\xff\\x00\\x8f\\xfc\\x7f:\\xc7?\\x96?\\xcd_t\\xd6VQ\\x98L9~\\xb9\\x1a\\xed\\xdf\\xe5\\xaf\\xfc\\x0f\\xde\\xb5YG\\x13\\x99^\\xe2?\\xe9\\xc7\\xf8\\x9f\\xc6\\xaa\\xbd\\x8e\\xff\\x00T=k++=\\x9d\\xe8\\xf6\\x9b\\x1f{\\xd4\\xfe\\x15\\x0f\\x1f\\xfeJ\\xab+(\\xd9\\x8b\\xa1wc\\xff\\x00\\x97\\xf2\\xa3n9\\x7f\\x95eeE\\x9c\\xaf\\x00\\xb7\\x8c{\\x0b\\xf8}\\xc5OgYYS\\xbf\\xa1B\\xfb\\x01qM\\xd3\\xff\\x00\\xe6\\x14w\\n\\xf6U\\xfeF\\xb2\\xb2\\xb6?S\\x1f\\xd8W\\xdb\\x9f\\xf4\\xe3\\xfc\\xc5[{%\\xfe\\x9d\\x1e\\x95\\x95\\x95^>\\x89g\\xf6+\\xff\\x00\\xb5?f\\xdf\\xfc\\x8f\\xd8\\xd3{\\xbf\\xf4\\xb6\\xde\\x9f\\x85ee2\\x7fV.\\x1fa{\\xfe\\xc9\\xf4\\xa4\\x8c\\x7f\\xa2_\\xc6\\xb2\\xb2\\xa2\\xc6Y>\\xc3xg\\xff\\x00O\\xf8P\\xfd\\x96\\xff\\x00N=O\\xde\\xb7YF\\n\\xed~\\x0f\\xff\\xd9'}"
            ]
          },
          "metadata": {
            "tags": []
          },
          "execution_count": 20
        }
      ]
    },
    {
      "cell_type": "code",
      "metadata": {
        "colab": {
          "base_uri": "https://localhost:8080/",
          "height": 193
        },
        "id": "oANPKBnxfngj",
        "outputId": "04670863-e6a4-4a60-cf67-0e0d6ad013e9"
      },
      "source": [
        "#Displaying the image first\r\n",
        "\r\n",
        "from IPython.display import Image\r\n",
        "Image(filename ='/content/tiger.jfif',format='png')"
      ],
      "execution_count": 21,
      "outputs": [
        {
          "output_type": "execute_result",
          "data": {
            "image/png": "[encoded data removed]",
            "text/plain": [
              "<IPython.core.display.Image object>"
            ]
          },
          "metadata": {
            "tags": []
          },
          "execution_count": 21
        }
      ]
    },
    {
      "cell_type": "code",
      "metadata": {
        "colab": {
          "base_uri": "https://localhost:8080/"
        },
        "id": "Kv9Vtsg0Z8U5",
        "outputId": "aa7df423-d3ff-4038-8474-2576a9b8336f"
      },
      "source": [
        "processed_image = preprocessing_for_mobilenet('tiger.jfif')\r\n",
        "prediction = mobilenet_model.predict(processed_image) #This return the prediction class according to image net dataset.\r\n",
        "\r\n",
        "print(\"No of classes predicted :\",len(prediction[0]))"
      ],
      "execution_count": 25,
      "outputs": [
        {
          "output_type": "stream",
          "text": [
            "No of classes predicted : 1000\n"
          ],
          "name": "stdout"
        }
      ]
    },
    {
      "cell_type": "code",
      "metadata": {
        "colab": {
          "base_uri": "https://localhost:8080/"
        },
        "id": "ax5rvmjCZ8Xu",
        "outputId": "ec983967-3e85-4db3-e030-0893248e7fcb"
      },
      "source": [
        "# Check the class of prediction from imagenet utils. \r\n",
        "tf.keras.applications.imagenet_utils.decode_predictions(preds= prediction, top=5)"
      ],
      "execution_count": 26,
      "outputs": [
        {
          "output_type": "execute_result",
          "data": {
            "text/plain": [
              "[[('n02129604', 'tiger', 0.9908529),\n",
              "  ('n02123159', 'tiger_cat', 0.0077086566),\n",
              "  ('n02127052', 'lynx', 0.00084201363),\n",
              "  ('n02128385', 'leopard', 0.00035875343),\n",
              "  ('n02128925', 'jaguar', 0.00016727668)]]"
            ]
          },
          "metadata": {
            "tags": []
          },
          "execution_count": 26
        }
      ]
    },
    {
      "cell_type": "markdown",
      "metadata": {
        "id": "84NWQfgzlG1-"
      },
      "source": [
        "### RESNET prediction - Residual Network"
      ]
    },
    {
      "cell_type": "code",
      "metadata": {
        "colab": {
          "base_uri": "https://localhost:8080/"
        },
        "id": "-Oh9HX21lFk5",
        "outputId": "3ebcc8d8-9819-4aa4-c724-3c6969f84da7"
      },
      "source": [
        "resnet_model = tf.keras.applications.resnet.ResNet50()\r\n",
        "\r\n",
        "resnet_model.summary()"
      ],
      "execution_count": 49,
      "outputs": [
        {
          "output_type": "stream",
          "text": [
            "Downloading data from https://storage.googleapis.com/tensorflow/keras-applications/resnet/resnet50_weights_tf_dim_ordering_tf_kernels.h5\n",
            "102973440/102967424 [==============================] - 1s 0us/step\n",
            "Model: \"resnet50\"\n",
            "__________________________________________________________________________________________________\n",
            "Layer (type)                    Output Shape         Param #     Connected to                     \n",
            "==================================================================================================\n",
            "input_7 (InputLayer)            [(None, 224, 224, 3) 0                                            \n",
            "__________________________________________________________________________________________________\n",
            "conv1_pad (ZeroPadding2D)       (None, 230, 230, 3)  0           input_7[0][0]                    \n",
            "__________________________________________________________________________________________________\n",
            "conv1_conv (Conv2D)             (None, 112, 112, 64) 9472        conv1_pad[0][0]                  \n",
            "__________________________________________________________________________________________________\n",
            "conv1_bn (BatchNormalization)   (None, 112, 112, 64) 256         conv1_conv[0][0]                 \n",
            "__________________________________________________________________________________________________\n",
            "conv1_relu (Activation)         (None, 112, 112, 64) 0           conv1_bn[0][0]                   \n",
            "__________________________________________________________________________________________________\n",
            "pool1_pad (ZeroPadding2D)       (None, 114, 114, 64) 0           conv1_relu[0][0]                 \n",
            "__________________________________________________________________________________________________\n",
            "pool1_pool (MaxPooling2D)       (None, 56, 56, 64)   0           pool1_pad[0][0]                  \n",
            "__________________________________________________________________________________________________\n",
            "conv2_block1_1_conv (Conv2D)    (None, 56, 56, 64)   4160        pool1_pool[0][0]                 \n",
            "__________________________________________________________________________________________________\n",
            "conv2_block1_1_bn (BatchNormali (None, 56, 56, 64)   256         conv2_block1_1_conv[0][0]        \n",
            "__________________________________________________________________________________________________\n",
            "conv2_block1_1_relu (Activation (None, 56, 56, 64)   0           conv2_block1_1_bn[0][0]          \n",
            "__________________________________________________________________________________________________\n",
            "conv2_block1_2_conv (Conv2D)    (None, 56, 56, 64)   36928       conv2_block1_1_relu[0][0]        \n",
            "__________________________________________________________________________________________________\n",
            "conv2_block1_2_bn (BatchNormali (None, 56, 56, 64)   256         conv2_block1_2_conv[0][0]        \n",
            "__________________________________________________________________________________________________\n",
            "conv2_block1_2_relu (Activation (None, 56, 56, 64)   0           conv2_block1_2_bn[0][0]          \n",
            "__________________________________________________________________________________________________\n",
            "conv2_block1_0_conv (Conv2D)    (None, 56, 56, 256)  16640       pool1_pool[0][0]                 \n",
            "__________________________________________________________________________________________________\n",
            "conv2_block1_3_conv (Conv2D)    (None, 56, 56, 256)  16640       conv2_block1_2_relu[0][0]        \n",
            "__________________________________________________________________________________________________\n",
            "conv2_block1_0_bn (BatchNormali (None, 56, 56, 256)  1024        conv2_block1_0_conv[0][0]        \n",
            "__________________________________________________________________________________________________\n",
            "conv2_block1_3_bn (BatchNormali (None, 56, 56, 256)  1024        conv2_block1_3_conv[0][0]        \n",
            "__________________________________________________________________________________________________\n",
            "conv2_block1_add (Add)          (None, 56, 56, 256)  0           conv2_block1_0_bn[0][0]          \n",
            "                                                                 conv2_block1_3_bn[0][0]          \n",
            "__________________________________________________________________________________________________\n",
            "conv2_block1_out (Activation)   (None, 56, 56, 256)  0           conv2_block1_add[0][0]           \n",
            "__________________________________________________________________________________________________\n",
            "conv2_block2_1_conv (Conv2D)    (None, 56, 56, 64)   16448       conv2_block1_out[0][0]           \n",
            "__________________________________________________________________________________________________\n",
            "conv2_block2_1_bn (BatchNormali (None, 56, 56, 64)   256         conv2_block2_1_conv[0][0]        \n",
            "__________________________________________________________________________________________________\n",
            "conv2_block2_1_relu (Activation (None, 56, 56, 64)   0           conv2_block2_1_bn[0][0]          \n",
            "__________________________________________________________________________________________________\n",
            "conv2_block2_2_conv (Conv2D)    (None, 56, 56, 64)   36928       conv2_block2_1_relu[0][0]        \n",
            "__________________________________________________________________________________________________\n",
            "conv2_block2_2_bn (BatchNormali (None, 56, 56, 64)   256         conv2_block2_2_conv[0][0]        \n",
            "__________________________________________________________________________________________________\n",
            "conv2_block2_2_relu (Activation (None, 56, 56, 64)   0           conv2_block2_2_bn[0][0]          \n",
            "__________________________________________________________________________________________________\n",
            "conv2_block2_3_conv (Conv2D)    (None, 56, 56, 256)  16640       conv2_block2_2_relu[0][0]        \n",
            "__________________________________________________________________________________________________\n",
            "conv2_block2_3_bn (BatchNormali (None, 56, 56, 256)  1024        conv2_block2_3_conv[0][0]        \n",
            "__________________________________________________________________________________________________\n",
            "conv2_block2_add (Add)          (None, 56, 56, 256)  0           conv2_block1_out[0][0]           \n",
            "                                                                 conv2_block2_3_bn[0][0]          \n",
            "__________________________________________________________________________________________________\n",
            "conv2_block2_out (Activation)   (None, 56, 56, 256)  0           conv2_block2_add[0][0]           \n",
            "__________________________________________________________________________________________________\n",
            "conv2_block3_1_conv (Conv2D)    (None, 56, 56, 64)   16448       conv2_block2_out[0][0]           \n",
            "__________________________________________________________________________________________________\n",
            "conv2_block3_1_bn (BatchNormali (None, 56, 56, 64)   256         conv2_block3_1_conv[0][0]        \n",
            "__________________________________________________________________________________________________\n",
            "conv2_block3_1_relu (Activation (None, 56, 56, 64)   0           conv2_block3_1_bn[0][0]          \n",
            "__________________________________________________________________________________________________\n",
            "conv2_block3_2_conv (Conv2D)    (None, 56, 56, 64)   36928       conv2_block3_1_relu[0][0]        \n",
            "__________________________________________________________________________________________________\n",
            "conv2_block3_2_bn (BatchNormali (None, 56, 56, 64)   256         conv2_block3_2_conv[0][0]        \n",
            "__________________________________________________________________________________________________\n",
            "conv2_block3_2_relu (Activation (None, 56, 56, 64)   0           conv2_block3_2_bn[0][0]          \n",
            "__________________________________________________________________________________________________\n",
            "conv2_block3_3_conv (Conv2D)    (None, 56, 56, 256)  16640       conv2_block3_2_relu[0][0]        \n",
            "__________________________________________________________________________________________________\n",
            "conv2_block3_3_bn (BatchNormali (None, 56, 56, 256)  1024        conv2_block3_3_conv[0][0]        \n",
            "__________________________________________________________________________________________________\n",
            "conv2_block3_add (Add)          (None, 56, 56, 256)  0           conv2_block2_out[0][0]           \n",
            "                                                                 conv2_block3_3_bn[0][0]          \n",
            "__________________________________________________________________________________________________\n",
            "conv2_block3_out (Activation)   (None, 56, 56, 256)  0           conv2_block3_add[0][0]           \n",
            "__________________________________________________________________________________________________\n",
            "conv3_block1_1_conv (Conv2D)    (None, 28, 28, 128)  32896       conv2_block3_out[0][0]           \n",
            "__________________________________________________________________________________________________\n",
            "conv3_block1_1_bn (BatchNormali (None, 28, 28, 128)  512         conv3_block1_1_conv[0][0]        \n",
            "__________________________________________________________________________________________________\n",
            "conv3_block1_1_relu (Activation (None, 28, 28, 128)  0           conv3_block1_1_bn[0][0]          \n",
            "__________________________________________________________________________________________________\n",
            "conv3_block1_2_conv (Conv2D)    (None, 28, 28, 128)  147584      conv3_block1_1_relu[0][0]        \n",
            "__________________________________________________________________________________________________\n",
            "conv3_block1_2_bn (BatchNormali (None, 28, 28, 128)  512         conv3_block1_2_conv[0][0]        \n",
            "__________________________________________________________________________________________________\n",
            "conv3_block1_2_relu (Activation (None, 28, 28, 128)  0           conv3_block1_2_bn[0][0]          \n",
            "__________________________________________________________________________________________________\n",
            "conv3_block1_0_conv (Conv2D)    (None, 28, 28, 512)  131584      conv2_block3_out[0][0]           \n",
            "__________________________________________________________________________________________________\n",
            "conv3_block1_3_conv (Conv2D)    (None, 28, 28, 512)  66048       conv3_block1_2_relu[0][0]        \n",
            "__________________________________________________________________________________________________\n",
            "conv3_block1_0_bn (BatchNormali (None, 28, 28, 512)  2048        conv3_block1_0_conv[0][0]        \n",
            "__________________________________________________________________________________________________\n",
            "conv3_block1_3_bn (BatchNormali (None, 28, 28, 512)  2048        conv3_block1_3_conv[0][0]        \n",
            "__________________________________________________________________________________________________\n",
            "conv3_block1_add (Add)          (None, 28, 28, 512)  0           conv3_block1_0_bn[0][0]          \n",
            "                                                                 conv3_block1_3_bn[0][0]          \n",
            "__________________________________________________________________________________________________\n",
            "conv3_block1_out (Activation)   (None, 28, 28, 512)  0           conv3_block1_add[0][0]           \n",
            "__________________________________________________________________________________________________\n",
            "conv3_block2_1_conv (Conv2D)    (None, 28, 28, 128)  65664       conv3_block1_out[0][0]           \n",
            "__________________________________________________________________________________________________\n",
            "conv3_block2_1_bn (BatchNormali (None, 28, 28, 128)  512         conv3_block2_1_conv[0][0]        \n",
            "__________________________________________________________________________________________________\n",
            "conv3_block2_1_relu (Activation (None, 28, 28, 128)  0           conv3_block2_1_bn[0][0]          \n",
            "__________________________________________________________________________________________________\n",
            "conv3_block2_2_conv (Conv2D)    (None, 28, 28, 128)  147584      conv3_block2_1_relu[0][0]        \n",
            "__________________________________________________________________________________________________\n",
            "conv3_block2_2_bn (BatchNormali (None, 28, 28, 128)  512         conv3_block2_2_conv[0][0]        \n",
            "__________________________________________________________________________________________________\n",
            "conv3_block2_2_relu (Activation (None, 28, 28, 128)  0           conv3_block2_2_bn[0][0]          \n",
            "__________________________________________________________________________________________________\n",
            "conv3_block2_3_conv (Conv2D)    (None, 28, 28, 512)  66048       conv3_block2_2_relu[0][0]        \n",
            "__________________________________________________________________________________________________\n",
            "conv3_block2_3_bn (BatchNormali (None, 28, 28, 512)  2048        conv3_block2_3_conv[0][0]        \n",
            "__________________________________________________________________________________________________\n",
            "conv3_block2_add (Add)          (None, 28, 28, 512)  0           conv3_block1_out[0][0]           \n",
            "                                                                 conv3_block2_3_bn[0][0]          \n",
            "__________________________________________________________________________________________________\n",
            "conv3_block2_out (Activation)   (None, 28, 28, 512)  0           conv3_block2_add[0][0]           \n",
            "__________________________________________________________________________________________________\n",
            "conv3_block3_1_conv (Conv2D)    (None, 28, 28, 128)  65664       conv3_block2_out[0][0]           \n",
            "__________________________________________________________________________________________________\n",
            "conv3_block3_1_bn (BatchNormali (None, 28, 28, 128)  512         conv3_block3_1_conv[0][0]        \n",
            "__________________________________________________________________________________________________\n",
            "conv3_block3_1_relu (Activation (None, 28, 28, 128)  0           conv3_block3_1_bn[0][0]          \n",
            "__________________________________________________________________________________________________\n",
            "conv3_block3_2_conv (Conv2D)    (None, 28, 28, 128)  147584      conv3_block3_1_relu[0][0]        \n",
            "__________________________________________________________________________________________________\n",
            "conv3_block3_2_bn (BatchNormali (None, 28, 28, 128)  512         conv3_block3_2_conv[0][0]        \n",
            "__________________________________________________________________________________________________\n",
            "conv3_block3_2_relu (Activation (None, 28, 28, 128)  0           conv3_block3_2_bn[0][0]          \n",
            "__________________________________________________________________________________________________\n",
            "conv3_block3_3_conv (Conv2D)    (None, 28, 28, 512)  66048       conv3_block3_2_relu[0][0]        \n",
            "__________________________________________________________________________________________________\n",
            "conv3_block3_3_bn (BatchNormali (None, 28, 28, 512)  2048        conv3_block3_3_conv[0][0]        \n",
            "__________________________________________________________________________________________________\n",
            "conv3_block3_add (Add)          (None, 28, 28, 512)  0           conv3_block2_out[0][0]           \n",
            "                                                                 conv3_block3_3_bn[0][0]          \n",
            "__________________________________________________________________________________________________\n",
            "conv3_block3_out (Activation)   (None, 28, 28, 512)  0           conv3_block3_add[0][0]           \n",
            "__________________________________________________________________________________________________\n",
            "conv3_block4_1_conv (Conv2D)    (None, 28, 28, 128)  65664       conv3_block3_out[0][0]           \n",
            "__________________________________________________________________________________________________\n",
            "conv3_block4_1_bn (BatchNormali (None, 28, 28, 128)  512         conv3_block4_1_conv[0][0]        \n",
            "__________________________________________________________________________________________________\n",
            "conv3_block4_1_relu (Activation (None, 28, 28, 128)  0           conv3_block4_1_bn[0][0]          \n",
            "__________________________________________________________________________________________________\n",
            "conv3_block4_2_conv (Conv2D)    (None, 28, 28, 128)  147584      conv3_block4_1_relu[0][0]        \n",
            "__________________________________________________________________________________________________\n",
            "conv3_block4_2_bn (BatchNormali (None, 28, 28, 128)  512         conv3_block4_2_conv[0][0]        \n",
            "__________________________________________________________________________________________________\n",
            "conv3_block4_2_relu (Activation (None, 28, 28, 128)  0           conv3_block4_2_bn[0][0]          \n",
            "__________________________________________________________________________________________________\n",
            "conv3_block4_3_conv (Conv2D)    (None, 28, 28, 512)  66048       conv3_block4_2_relu[0][0]        \n",
            "__________________________________________________________________________________________________\n",
            "conv3_block4_3_bn (BatchNormali (None, 28, 28, 512)  2048        conv3_block4_3_conv[0][0]        \n",
            "__________________________________________________________________________________________________\n",
            "conv3_block4_add (Add)          (None, 28, 28, 512)  0           conv3_block3_out[0][0]           \n",
            "                                                                 conv3_block4_3_bn[0][0]          \n",
            "__________________________________________________________________________________________________\n",
            "conv3_block4_out (Activation)   (None, 28, 28, 512)  0           conv3_block4_add[0][0]           \n",
            "__________________________________________________________________________________________________\n",
            "conv4_block1_1_conv (Conv2D)    (None, 14, 14, 256)  131328      conv3_block4_out[0][0]           \n",
            "__________________________________________________________________________________________________\n",
            "conv4_block1_1_bn (BatchNormali (None, 14, 14, 256)  1024        conv4_block1_1_conv[0][0]        \n",
            "__________________________________________________________________________________________________\n",
            "conv4_block1_1_relu (Activation (None, 14, 14, 256)  0           conv4_block1_1_bn[0][0]          \n",
            "__________________________________________________________________________________________________\n",
            "conv4_block1_2_conv (Conv2D)    (None, 14, 14, 256)  590080      conv4_block1_1_relu[0][0]        \n",
            "__________________________________________________________________________________________________\n",
            "conv4_block1_2_bn (BatchNormali (None, 14, 14, 256)  1024        conv4_block1_2_conv[0][0]        \n",
            "__________________________________________________________________________________________________\n",
            "conv4_block1_2_relu (Activation (None, 14, 14, 256)  0           conv4_block1_2_bn[0][0]          \n",
            "__________________________________________________________________________________________________\n",
            "conv4_block1_0_conv (Conv2D)    (None, 14, 14, 1024) 525312      conv3_block4_out[0][0]           \n",
            "__________________________________________________________________________________________________\n",
            "conv4_block1_3_conv (Conv2D)    (None, 14, 14, 1024) 263168      conv4_block1_2_relu[0][0]        \n",
            "__________________________________________________________________________________________________\n",
            "conv4_block1_0_bn (BatchNormali (None, 14, 14, 1024) 4096        conv4_block1_0_conv[0][0]        \n",
            "__________________________________________________________________________________________________\n",
            "conv4_block1_3_bn (BatchNormali (None, 14, 14, 1024) 4096        conv4_block1_3_conv[0][0]        \n",
            "__________________________________________________________________________________________________\n",
            "conv4_block1_add (Add)          (None, 14, 14, 1024) 0           conv4_block1_0_bn[0][0]          \n",
            "                                                                 conv4_block1_3_bn[0][0]          \n",
            "__________________________________________________________________________________________________\n",
            "conv4_block1_out (Activation)   (None, 14, 14, 1024) 0           conv4_block1_add[0][0]           \n",
            "__________________________________________________________________________________________________\n",
            "conv4_block2_1_conv (Conv2D)    (None, 14, 14, 256)  262400      conv4_block1_out[0][0]           \n",
            "__________________________________________________________________________________________________\n",
            "conv4_block2_1_bn (BatchNormali (None, 14, 14, 256)  1024        conv4_block2_1_conv[0][0]        \n",
            "__________________________________________________________________________________________________\n",
            "conv4_block2_1_relu (Activation (None, 14, 14, 256)  0           conv4_block2_1_bn[0][0]          \n",
            "__________________________________________________________________________________________________\n",
            "conv4_block2_2_conv (Conv2D)    (None, 14, 14, 256)  590080      conv4_block2_1_relu[0][0]        \n",
            "__________________________________________________________________________________________________\n",
            "conv4_block2_2_bn (BatchNormali (None, 14, 14, 256)  1024        conv4_block2_2_conv[0][0]        \n",
            "__________________________________________________________________________________________________\n",
            "conv4_block2_2_relu (Activation (None, 14, 14, 256)  0           conv4_block2_2_bn[0][0]          \n",
            "__________________________________________________________________________________________________\n",
            "conv4_block2_3_conv (Conv2D)    (None, 14, 14, 1024) 263168      conv4_block2_2_relu[0][0]        \n",
            "__________________________________________________________________________________________________\n",
            "conv4_block2_3_bn (BatchNormali (None, 14, 14, 1024) 4096        conv4_block2_3_conv[0][0]        \n",
            "__________________________________________________________________________________________________\n",
            "conv4_block2_add (Add)          (None, 14, 14, 1024) 0           conv4_block1_out[0][0]           \n",
            "                                                                 conv4_block2_3_bn[0][0]          \n",
            "__________________________________________________________________________________________________\n",
            "conv4_block2_out (Activation)   (None, 14, 14, 1024) 0           conv4_block2_add[0][0]           \n",
            "__________________________________________________________________________________________________\n",
            "conv4_block3_1_conv (Conv2D)    (None, 14, 14, 256)  262400      conv4_block2_out[0][0]           \n",
            "__________________________________________________________________________________________________\n",
            "conv4_block3_1_bn (BatchNormali (None, 14, 14, 256)  1024        conv4_block3_1_conv[0][0]        \n",
            "__________________________________________________________________________________________________\n",
            "conv4_block3_1_relu (Activation (None, 14, 14, 256)  0           conv4_block3_1_bn[0][0]          \n",
            "__________________________________________________________________________________________________\n",
            "conv4_block3_2_conv (Conv2D)    (None, 14, 14, 256)  590080      conv4_block3_1_relu[0][0]        \n",
            "__________________________________________________________________________________________________\n",
            "conv4_block3_2_bn (BatchNormali (None, 14, 14, 256)  1024        conv4_block3_2_conv[0][0]        \n",
            "__________________________________________________________________________________________________\n",
            "conv4_block3_2_relu (Activation (None, 14, 14, 256)  0           conv4_block3_2_bn[0][0]          \n",
            "__________________________________________________________________________________________________\n",
            "conv4_block3_3_conv (Conv2D)    (None, 14, 14, 1024) 263168      conv4_block3_2_relu[0][0]        \n",
            "__________________________________________________________________________________________________\n",
            "conv4_block3_3_bn (BatchNormali (None, 14, 14, 1024) 4096        conv4_block3_3_conv[0][0]        \n",
            "__________________________________________________________________________________________________\n",
            "conv4_block3_add (Add)          (None, 14, 14, 1024) 0           conv4_block2_out[0][0]           \n",
            "                                                                 conv4_block3_3_bn[0][0]          \n",
            "__________________________________________________________________________________________________\n",
            "conv4_block3_out (Activation)   (None, 14, 14, 1024) 0           conv4_block3_add[0][0]           \n",
            "__________________________________________________________________________________________________\n",
            "conv4_block4_1_conv (Conv2D)    (None, 14, 14, 256)  262400      conv4_block3_out[0][0]           \n",
            "__________________________________________________________________________________________________\n",
            "conv4_block4_1_bn (BatchNormali (None, 14, 14, 256)  1024        conv4_block4_1_conv[0][0]        \n",
            "__________________________________________________________________________________________________\n",
            "conv4_block4_1_relu (Activation (None, 14, 14, 256)  0           conv4_block4_1_bn[0][0]          \n",
            "__________________________________________________________________________________________________\n",
            "conv4_block4_2_conv (Conv2D)    (None, 14, 14, 256)  590080      conv4_block4_1_relu[0][0]        \n",
            "__________________________________________________________________________________________________\n",
            "conv4_block4_2_bn (BatchNormali (None, 14, 14, 256)  1024        conv4_block4_2_conv[0][0]        \n",
            "__________________________________________________________________________________________________\n",
            "conv4_block4_2_relu (Activation (None, 14, 14, 256)  0           conv4_block4_2_bn[0][0]          \n",
            "__________________________________________________________________________________________________\n",
            "conv4_block4_3_conv (Conv2D)    (None, 14, 14, 1024) 263168      conv4_block4_2_relu[0][0]        \n",
            "__________________________________________________________________________________________________\n",
            "conv4_block4_3_bn (BatchNormali (None, 14, 14, 1024) 4096        conv4_block4_3_conv[0][0]        \n",
            "__________________________________________________________________________________________________\n",
            "conv4_block4_add (Add)          (None, 14, 14, 1024) 0           conv4_block3_out[0][0]           \n",
            "                                                                 conv4_block4_3_bn[0][0]          \n",
            "__________________________________________________________________________________________________\n",
            "conv4_block4_out (Activation)   (None, 14, 14, 1024) 0           conv4_block4_add[0][0]           \n",
            "__________________________________________________________________________________________________\n",
            "conv4_block5_1_conv (Conv2D)    (None, 14, 14, 256)  262400      conv4_block4_out[0][0]           \n",
            "__________________________________________________________________________________________________\n",
            "conv4_block5_1_bn (BatchNormali (None, 14, 14, 256)  1024        conv4_block5_1_conv[0][0]        \n",
            "__________________________________________________________________________________________________\n",
            "conv4_block5_1_relu (Activation (None, 14, 14, 256)  0           conv4_block5_1_bn[0][0]          \n",
            "__________________________________________________________________________________________________\n",
            "conv4_block5_2_conv (Conv2D)    (None, 14, 14, 256)  590080      conv4_block5_1_relu[0][0]        \n",
            "__________________________________________________________________________________________________\n",
            "conv4_block5_2_bn (BatchNormali (None, 14, 14, 256)  1024        conv4_block5_2_conv[0][0]        \n",
            "__________________________________________________________________________________________________\n",
            "conv4_block5_2_relu (Activation (None, 14, 14, 256)  0           conv4_block5_2_bn[0][0]          \n",
            "__________________________________________________________________________________________________\n",
            "conv4_block5_3_conv (Conv2D)    (None, 14, 14, 1024) 263168      conv4_block5_2_relu[0][0]        \n",
            "__________________________________________________________________________________________________\n",
            "conv4_block5_3_bn (BatchNormali (None, 14, 14, 1024) 4096        conv4_block5_3_conv[0][0]        \n",
            "__________________________________________________________________________________________________\n",
            "conv4_block5_add (Add)          (None, 14, 14, 1024) 0           conv4_block4_out[0][0]           \n",
            "                                                                 conv4_block5_3_bn[0][0]          \n",
            "__________________________________________________________________________________________________\n",
            "conv4_block5_out (Activation)   (None, 14, 14, 1024) 0           conv4_block5_add[0][0]           \n",
            "__________________________________________________________________________________________________\n",
            "conv4_block6_1_conv (Conv2D)    (None, 14, 14, 256)  262400      conv4_block5_out[0][0]           \n",
            "__________________________________________________________________________________________________\n",
            "conv4_block6_1_bn (BatchNormali (None, 14, 14, 256)  1024        conv4_block6_1_conv[0][0]        \n",
            "__________________________________________________________________________________________________\n",
            "conv4_block6_1_relu (Activation (None, 14, 14, 256)  0           conv4_block6_1_bn[0][0]          \n",
            "__________________________________________________________________________________________________\n",
            "conv4_block6_2_conv (Conv2D)    (None, 14, 14, 256)  590080      conv4_block6_1_relu[0][0]        \n",
            "__________________________________________________________________________________________________\n",
            "conv4_block6_2_bn (BatchNormali (None, 14, 14, 256)  1024        conv4_block6_2_conv[0][0]        \n",
            "__________________________________________________________________________________________________\n",
            "conv4_block6_2_relu (Activation (None, 14, 14, 256)  0           conv4_block6_2_bn[0][0]          \n",
            "__________________________________________________________________________________________________\n",
            "conv4_block6_3_conv (Conv2D)    (None, 14, 14, 1024) 263168      conv4_block6_2_relu[0][0]        \n",
            "__________________________________________________________________________________________________\n",
            "conv4_block6_3_bn (BatchNormali (None, 14, 14, 1024) 4096        conv4_block6_3_conv[0][0]        \n",
            "__________________________________________________________________________________________________\n",
            "conv4_block6_add (Add)          (None, 14, 14, 1024) 0           conv4_block5_out[0][0]           \n",
            "                                                                 conv4_block6_3_bn[0][0]          \n",
            "__________________________________________________________________________________________________\n",
            "conv4_block6_out (Activation)   (None, 14, 14, 1024) 0           conv4_block6_add[0][0]           \n",
            "__________________________________________________________________________________________________\n",
            "conv5_block1_1_conv (Conv2D)    (None, 7, 7, 512)    524800      conv4_block6_out[0][0]           \n",
            "__________________________________________________________________________________________________\n",
            "conv5_block1_1_bn (BatchNormali (None, 7, 7, 512)    2048        conv5_block1_1_conv[0][0]        \n",
            "__________________________________________________________________________________________________\n",
            "conv5_block1_1_relu (Activation (None, 7, 7, 512)    0           conv5_block1_1_bn[0][0]          \n",
            "__________________________________________________________________________________________________\n",
            "conv5_block1_2_conv (Conv2D)    (None, 7, 7, 512)    2359808     conv5_block1_1_relu[0][0]        \n",
            "__________________________________________________________________________________________________\n",
            "conv5_block1_2_bn (BatchNormali (None, 7, 7, 512)    2048        conv5_block1_2_conv[0][0]        \n",
            "__________________________________________________________________________________________________\n",
            "conv5_block1_2_relu (Activation (None, 7, 7, 512)    0           conv5_block1_2_bn[0][0]          \n",
            "__________________________________________________________________________________________________\n",
            "conv5_block1_0_conv (Conv2D)    (None, 7, 7, 2048)   2099200     conv4_block6_out[0][0]           \n",
            "__________________________________________________________________________________________________\n",
            "conv5_block1_3_conv (Conv2D)    (None, 7, 7, 2048)   1050624     conv5_block1_2_relu[0][0]        \n",
            "__________________________________________________________________________________________________\n",
            "conv5_block1_0_bn (BatchNormali (None, 7, 7, 2048)   8192        conv5_block1_0_conv[0][0]        \n",
            "__________________________________________________________________________________________________\n",
            "conv5_block1_3_bn (BatchNormali (None, 7, 7, 2048)   8192        conv5_block1_3_conv[0][0]        \n",
            "__________________________________________________________________________________________________\n",
            "conv5_block1_add (Add)          (None, 7, 7, 2048)   0           conv5_block1_0_bn[0][0]          \n",
            "                                                                 conv5_block1_3_bn[0][0]          \n",
            "__________________________________________________________________________________________________\n",
            "conv5_block1_out (Activation)   (None, 7, 7, 2048)   0           conv5_block1_add[0][0]           \n",
            "__________________________________________________________________________________________________\n",
            "conv5_block2_1_conv (Conv2D)    (None, 7, 7, 512)    1049088     conv5_block1_out[0][0]           \n",
            "__________________________________________________________________________________________________\n",
            "conv5_block2_1_bn (BatchNormali (None, 7, 7, 512)    2048        conv5_block2_1_conv[0][0]        \n",
            "__________________________________________________________________________________________________\n",
            "conv5_block2_1_relu (Activation (None, 7, 7, 512)    0           conv5_block2_1_bn[0][0]          \n",
            "__________________________________________________________________________________________________\n",
            "conv5_block2_2_conv (Conv2D)    (None, 7, 7, 512)    2359808     conv5_block2_1_relu[0][0]        \n",
            "__________________________________________________________________________________________________\n",
            "conv5_block2_2_bn (BatchNormali (None, 7, 7, 512)    2048        conv5_block2_2_conv[0][0]        \n",
            "__________________________________________________________________________________________________\n",
            "conv5_block2_2_relu (Activation (None, 7, 7, 512)    0           conv5_block2_2_bn[0][0]          \n",
            "__________________________________________________________________________________________________\n",
            "conv5_block2_3_conv (Conv2D)    (None, 7, 7, 2048)   1050624     conv5_block2_2_relu[0][0]        \n",
            "__________________________________________________________________________________________________\n",
            "conv5_block2_3_bn (BatchNormali (None, 7, 7, 2048)   8192        conv5_block2_3_conv[0][0]        \n",
            "__________________________________________________________________________________________________\n",
            "conv5_block2_add (Add)          (None, 7, 7, 2048)   0           conv5_block1_out[0][0]           \n",
            "                                                                 conv5_block2_3_bn[0][0]          \n",
            "__________________________________________________________________________________________________\n",
            "conv5_block2_out (Activation)   (None, 7, 7, 2048)   0           conv5_block2_add[0][0]           \n",
            "__________________________________________________________________________________________________\n",
            "conv5_block3_1_conv (Conv2D)    (None, 7, 7, 512)    1049088     conv5_block2_out[0][0]           \n",
            "__________________________________________________________________________________________________\n",
            "conv5_block3_1_bn (BatchNormali (None, 7, 7, 512)    2048        conv5_block3_1_conv[0][0]        \n",
            "__________________________________________________________________________________________________\n",
            "conv5_block3_1_relu (Activation (None, 7, 7, 512)    0           conv5_block3_1_bn[0][0]          \n",
            "__________________________________________________________________________________________________\n",
            "conv5_block3_2_conv (Conv2D)    (None, 7, 7, 512)    2359808     conv5_block3_1_relu[0][0]        \n",
            "__________________________________________________________________________________________________\n",
            "conv5_block3_2_bn (BatchNormali (None, 7, 7, 512)    2048        conv5_block3_2_conv[0][0]        \n",
            "__________________________________________________________________________________________________\n",
            "conv5_block3_2_relu (Activation (None, 7, 7, 512)    0           conv5_block3_2_bn[0][0]          \n",
            "__________________________________________________________________________________________________\n",
            "conv5_block3_3_conv (Conv2D)    (None, 7, 7, 2048)   1050624     conv5_block3_2_relu[0][0]        \n",
            "__________________________________________________________________________________________________\n",
            "conv5_block3_3_bn (BatchNormali (None, 7, 7, 2048)   8192        conv5_block3_3_conv[0][0]        \n",
            "__________________________________________________________________________________________________\n",
            "conv5_block3_add (Add)          (None, 7, 7, 2048)   0           conv5_block2_out[0][0]           \n",
            "                                                                 conv5_block3_3_bn[0][0]          \n",
            "__________________________________________________________________________________________________\n",
            "conv5_block3_out (Activation)   (None, 7, 7, 2048)   0           conv5_block3_add[0][0]           \n",
            "__________________________________________________________________________________________________\n",
            "avg_pool (GlobalAveragePooling2 (None, 2048)         0           conv5_block3_out[0][0]           \n",
            "__________________________________________________________________________________________________\n",
            "predictions (Dense)             (None, 1000)         2049000     avg_pool[0][0]                   \n",
            "==================================================================================================\n",
            "Total params: 25,636,712\n",
            "Trainable params: 25,583,592\n",
            "Non-trainable params: 53,120\n",
            "__________________________________________________________________________________________________\n"
          ],
          "name": "stdout"
        }
      ]
    },
    {
      "cell_type": "code",
      "metadata": {
        "id": "wdXdpiAjlx01"
      },
      "source": [
        "# In order to pass the images to Mobilenet we have to do some preprocessing first.\r\n",
        "\r\n",
        "def preprocessing_for_RESNET(image_file):\r\n",
        "  image_path = '/content/'\r\n",
        "  image = load_img(image_path + image_file, target_size=(224, 224))\r\n",
        "  image_array = img_to_array(image)\r\n",
        "  image_array_expanded_dim = image_array.reshape((1, 224, 224, 3))\r\n",
        "  processed_per_resnet = tf.keras.applications.resnet.preprocess_input(image_array_expanded_dim)\r\n",
        "  #For VGG19 the preprocessing is subtracting the mean value of every channel to each pixel from the channel.\r\n",
        "\r\n",
        "  return processed_per_resnet\r\n"
      ],
      "execution_count": 50,
      "outputs": []
    },
    {
      "cell_type": "code",
      "metadata": {
        "colab": {
          "base_uri": "https://localhost:8080/"
        },
        "id": "8PNJSOrXm0zH",
        "outputId": "c20239f8-261e-4735-dbbc-9a55d624dceb"
      },
      "source": [
        "processed_image_resnet = preprocessing_for_RESNET('tiger.jfif')\r\n",
        "prediction_resnet = resnet_model.predict(processed_image_resnet) #This return the prediction class according to image net dataset.\r\n",
        "\r\n",
        "# Check the class of prediction from imagenet utils. \r\n",
        "tf.keras.applications.imagenet_utils.decode_predictions(preds= prediction_resnet, top=5)"
      ],
      "execution_count": 53,
      "outputs": [
        {
          "output_type": "execute_result",
          "data": {
            "text/plain": [
              "[[('n02129604', 'tiger', 0.9757051),\n",
              "  ('n02123159', 'tiger_cat', 0.024273314),\n",
              "  ('n02128925', 'jaguar', 1.3280746e-05),\n",
              "  ('n02127052', 'lynx', 5.7400516e-06),\n",
              "  ('n02128385', 'leopard', 1.4260089e-06)]]"
            ]
          },
          "metadata": {
            "tags": []
          },
          "execution_count": 53
        }
      ]
    }
  ]
}