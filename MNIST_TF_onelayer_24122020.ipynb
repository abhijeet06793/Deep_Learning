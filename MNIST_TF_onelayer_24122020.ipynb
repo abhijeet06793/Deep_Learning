{
  "nbformat": 4,
  "nbformat_minor": 0,
  "metadata": {
    "colab": {
      "name": "MNIST_TF_onelayer_24122020.ipynb",
      "provenance": [],
      "collapsed_sections": []
    },
    "kernelspec": {
      "name": "python3",
      "display_name": "Python 3"
    }
  },
  "cells": [
    {
      "cell_type": "markdown",
      "metadata": {
        "id": "6HCIeXptOxup"
      },
      "source": [
        "# Softmax Classifier using TensorFlow - MNIST\r\n"
      ]
    },
    {
      "cell_type": "markdown",
      "metadata": {
        "id": "ouVdfQCoO5Sp"
      },
      "source": [
        "\r\n",
        "**Architecture (No Hidden layer) -input(784)-output(10)**\r\n",
        "\r\n",
        "n_input = 784 # MNIST data input (img shape: 28*28)\r\n",
        "\r\n",
        "n_classes = 10 # MNIST total classes (0-9 digits)\r\n",
        "\r\n"
      ]
    },
    {
      "cell_type": "code",
      "metadata": {
        "id": "hMsObO_8xWTt"
      },
      "source": [
        "%tensorflow_version 1.x\r\n",
        "import tensorflow as tf\r\n",
        "import numpy as np\r\n",
        "import pandas as pd\r\n",
        "import matplotlib.pyplot as plt\r\n",
        "import tensorflow_datasets as tfds"
      ],
      "execution_count": 9,
      "outputs": []
    },
    {
      "cell_type": "code",
      "metadata": {
        "colab": {
          "base_uri": "https://localhost:8080/"
        },
        "id": "ALj-3VDm0rsP",
        "outputId": "6bab17fe-adf9-45e7-a7b1-2cc734a13eb4"
      },
      "source": [
        "import warnings\r\n",
        "warnings.filterwarnings(\"ignore\")\r\n",
        "\r\n",
        "from tensorflow.examples.tutorials.mnist import input_data\r\n",
        "print(input_data)\r\n",
        "type(input_data)\r\n",
        "mnist = input_data.read_data_sets(\"MNIST_data/\", one_hot=True)"
      ],
      "execution_count": 17,
      "outputs": [
        {
          "output_type": "stream",
          "text": [
            "<module 'tensorflow.examples.tutorials.mnist.input_data' from '/tensorflow-1.15.2/python3.6/tensorflow_core/examples/tutorials/mnist/input_data.py'>\n",
            "Extracting MNIST_data/train-images-idx3-ubyte.gz\n",
            "Extracting MNIST_data/train-labels-idx1-ubyte.gz\n",
            "Extracting MNIST_data/t10k-images-idx3-ubyte.gz\n",
            "Extracting MNIST_data/t10k-labels-idx1-ubyte.gz\n"
          ],
          "name": "stdout"
        }
      ]
    },
    {
      "cell_type": "code",
      "metadata": {
        "colab": {
          "base_uri": "https://localhost:8080/"
        },
        "id": "SZTYd9FG07EK",
        "outputId": "3d79d616-d616-4615-c53d-512732792593"
      },
      "source": [
        "print(\"The shape of x_train is\",mnist.train.images.shape)\r\n",
        "print(\"The shape of y_train is\",mnist.train.labels.shape)\r\n",
        "print(\"The shape of x_test is\",mnist.test.images.shape)\r\n",
        "print(\"The shape of y_test is\",mnist.test.labels.shape)"
      ],
      "execution_count": 18,
      "outputs": [
        {
          "output_type": "stream",
          "text": [
            "The shape of x_train is (55000, 784)\n",
            "The shape of y_train is (55000, 10)\n",
            "The shape of x_test is (10000, 784)\n",
            "The shape of y_test is (10000, 10)\n"
          ],
          "name": "stdout"
        }
      ]
    },
    {
      "cell_type": "code",
      "metadata": {
        "colab": {
          "base_uri": "https://localhost:8080/"
        },
        "id": "xfpsHUeH2X7z",
        "outputId": "7f018685-872c-4b1a-fa47-c35e154ca80e"
      },
      "source": [
        "print(\"The type of x_train is\",type(mnist.train.images))\r\n",
        "print(\"The type of y_train is\",type(mnist.train.labels))\r\n",
        "print(\"The type of x_test is\",type(mnist.test.images))\r\n",
        "print(\"The type of y_test is\",type(mnist.test.labels))"
      ],
      "execution_count": 19,
      "outputs": [
        {
          "output_type": "stream",
          "text": [
            "The type of x_train is <class 'numpy.ndarray'>\n",
            "The type of y_train is <class 'numpy.ndarray'>\n",
            "The type of x_test is <class 'numpy.ndarray'>\n",
            "The type of y_test is <class 'numpy.ndarray'>\n"
          ],
          "name": "stdout"
        }
      ]
    },
    {
      "cell_type": "code",
      "metadata": {
        "id": "_v5ltd4uro9Z",
        "colab": {
          "base_uri": "https://localhost:8080/"
        },
        "outputId": "1c738ced-3a72-47b9-84c9-18f7f7236a1f"
      },
      "source": [
        "print(\"number of data points : \", mnist.train.images.shape[0],\"number of pixels in each image :\",mnist.train.images.shape[1])"
      ],
      "execution_count": 20,
      "outputs": [
        {
          "output_type": "stream",
          "text": [
            "number of data points :  55000 number of pixels in each image : 784\n"
          ],
          "name": "stdout"
        }
      ]
    },
    {
      "cell_type": "code",
      "metadata": {
        "id": "IwEk7I3iro9k",
        "colab": {
          "base_uri": "https://localhost:8080/"
        },
        "outputId": "41bc3a7f-7608-45f6-e26f-b7cdd134f821"
      },
      "source": [
        "print(\"number of data points : \", mnist.test.labels.shape[0],\" length of the one hot encoded label vector :\",mnist.test.labels.shape[1])"
      ],
      "execution_count": 21,
      "outputs": [
        {
          "output_type": "stream",
          "text": [
            "number of data points :  10000  length of the one hot encoded label vector : 10\n"
          ],
          "name": "stdout"
        }
      ]
    },
    {
      "cell_type": "code",
      "metadata": {
        "colab": {
          "base_uri": "https://localhost:8080/"
        },
        "id": "Kh3dEJL1xxuq",
        "outputId": "83ac3848-7c62-42bb-f4c2-77685c12e43b"
      },
      "source": [
        "# Get a list of devices like GPUs and CPUs available to TF\r\n",
        "\r\n",
        "from tensorflow.python.client import device_lib\r\n",
        "print(device_lib.list_local_devices())"
      ],
      "execution_count": 22,
      "outputs": [
        {
          "output_type": "stream",
          "text": [
            "[name: \"/device:CPU:0\"\n",
            "device_type: \"CPU\"\n",
            "memory_limit: 268435456\n",
            "locality {\n",
            "}\n",
            "incarnation: 15068864818783595275\n",
            ", name: \"/device:XLA_CPU:0\"\n",
            "device_type: \"XLA_CPU\"\n",
            "memory_limit: 17179869184\n",
            "locality {\n",
            "}\n",
            "incarnation: 7568621341899019309\n",
            "physical_device_desc: \"device: XLA_CPU device\"\n",
            "]\n"
          ],
          "name": "stdout"
        }
      ]
    },
    {
      "cell_type": "code",
      "metadata": {
        "id": "5RPeX-p1xxxg"
      },
      "source": [
        "# Defining Weights and biases and input and output\r\n",
        "\r\n",
        "w = tf.Variable(tf.ones(shape=[784,10], dtype=tf.float32))\r\n",
        "x = tf.placeholder(dtype=tf.float32, shape= [None, 784])\r\n",
        "b = tf.Variable(tf.ones(shape=10, dtype=tf.float32))\r\n",
        "\r\n",
        "y_pred = tf.nn.softmax(tf.matmul(x,w)+b)\r\n",
        "y_actual = tf.placeholder(dtype=tf.float32, shape=[None,10])"
      ],
      "execution_count": 23,
      "outputs": []
    },
    {
      "cell_type": "code",
      "metadata": {
        "id": "MvKUsGmwxx1r"
      },
      "source": [
        "loss = tf.reduce_mean(-tf.reduce_sum(y_actual*tf.log(y_pred), axis=1))\r\n",
        "optimizer = tf.train.AdamOptimizer().minimize(loss)"
      ],
      "execution_count": 26,
      "outputs": []
    },
    {
      "cell_type": "code",
      "metadata": {
        "id": "D1N1yhZl-LEB"
      },
      "source": [
        "ses = tf.Session()\r\n",
        "init = tf.global_variables_initializer()\r\n",
        "ses.run(init)"
      ],
      "execution_count": 27,
      "outputs": []
    },
    {
      "cell_type": "code",
      "metadata": {
        "colab": {
          "base_uri": "https://localhost:8080/"
        },
        "id": "0wvwE8QC8qJo",
        "outputId": "f1a36901-b397-4055-cf5e-039191ed1982"
      },
      "source": [
        "#Running the optimizer for 15 epochs on train data\r\n",
        "\r\n",
        "from tqdm import tqdm\r\n",
        "batch_size = 1000\r\n",
        "n_epochs = 15\r\n",
        "\r\n",
        "loss_list = []\r\n",
        "for i in tqdm(range(n_epochs)):\r\n",
        "  for j in range(int(mnist.train.num_examples/batch_size)):\r\n",
        "    batch_x, batch_y = mnist.train.next_batch(batch_size)\r\n",
        "    _ ,c = ses.run([optimizer, loss], feed_dict={x:batch_x, y_actual:batch_y})\r\n",
        "    loss_list.append(c)"
      ],
      "execution_count": 29,
      "outputs": [
        {
          "output_type": "stream",
          "text": [
            "100%|██████████| 15/15 [00:04<00:00,  3.17it/s]\n"
          ],
          "name": "stderr"
        }
      ]
    },
    {
      "cell_type": "code",
      "metadata": {
        "colab": {
          "base_uri": "https://localhost:8080/",
          "height": 282
        },
        "id": "EWY-emRXxx59",
        "outputId": "dfd377fc-e8d5-4894-b41c-984ba7547f65"
      },
      "source": [
        "plt.plot(loss_list)"
      ],
      "execution_count": 31,
      "outputs": [
        {
          "output_type": "execute_result",
          "data": {
            "text/plain": [
              "[<matplotlib.lines.Line2D at 0x7f82c048b208>]"
            ]
          },
          "metadata": {
            "tags": []
          },
          "execution_count": 31
        },
        {
          "output_type": "display_data",
          "data": {
            "image/png": "[encoded data removed]",
            "text/plain": [
              "<Figure size 432x288 with 1 Axes>"
            ]
          },
          "metadata": {
            "tags": [],
            "needs_background": "light"
          }
        }
      ]
    },
    {
      "cell_type": "code",
      "metadata": {
        "colab": {
          "base_uri": "https://localhost:8080/"
        },
        "id": "uyy3nf34xx-f",
        "outputId": "d837e39f-0e03-4aa4-a2e4-d0c45afd4844"
      },
      "source": [
        "print(\"The loss on train data for the Adam optimizer is\")\r\n",
        "print(ses.run(loss, feed_dict={x:mnist.train.images, y_actual:mnist.train.labels}))\r\n",
        "\r\n",
        "print(\"The loss on test data for the Adam optimizer is\")\r\n",
        "ses.run(loss, feed_dict={x:mnist.test.images, y_actual:mnist.test.labels})"
      ],
      "execution_count": 34,
      "outputs": [
        {
          "output_type": "stream",
          "text": [
            "The loss on train data for the Adam optimizer is\n",
            "0.3106072\n",
            "The loss on test data for the Adam optimizer is\n"
          ],
          "name": "stdout"
        },
        {
          "output_type": "execute_result",
          "data": {
            "text/plain": [
              "0.30156994"
            ]
          },
          "metadata": {
            "tags": []
          },
          "execution_count": 34
        }
      ]
    },
    {
      "cell_type": "code",
      "metadata": {
        "colab": {
          "base_uri": "https://localhost:8080/"
        },
        "id": "DXnnUBeDxyCD",
        "outputId": "731cd01f-5d33-413b-bd47-83619cdbb899"
      },
      "source": [
        "correct_pred = tf.equal(tf.argmax(y_pred, axis=1), tf.argmax(y_actual, axis=1))\r\n",
        "print(\"The correct prediction on test data is :\")\r\n",
        "ses.run(correct_pred, feed_dict={x:mnist.test.images, y_actual:mnist.test.labels})"
      ],
      "execution_count": 36,
      "outputs": [
        {
          "output_type": "stream",
          "text": [
            "The correct prediction on test data is :\n"
          ],
          "name": "stdout"
        },
        {
          "output_type": "execute_result",
          "data": {
            "text/plain": [
              "array([ True,  True,  True, ...,  True,  True,  True])"
            ]
          },
          "metadata": {
            "tags": []
          },
          "execution_count": 36
        }
      ]
    },
    {
      "cell_type": "code",
      "metadata": {
        "colab": {
          "base_uri": "https://localhost:8080/"
        },
        "id": "6CEUrj1eBSOL",
        "outputId": "7c0f4486-dcc4-429e-ebbc-06328d1338ba"
      },
      "source": [
        "accuracy = tf.reduce_mean(tf.cast(correct_pred, dtype=tf.float32))\r\n",
        "print(\"The accuracy on test data is :\")\r\n",
        "ses.run(accuracy, feed_dict={x:mnist.test.images, y_actual:mnist.test.labels})"
      ],
      "execution_count": 37,
      "outputs": [
        {
          "output_type": "stream",
          "text": [
            "The accuracy on test data is :\n"
          ],
          "name": "stdout"
        },
        {
          "output_type": "execute_result",
          "data": {
            "text/plain": [
              "0.9178"
            ]
          },
          "metadata": {
            "tags": []
          },
          "execution_count": 37
        }
      ]
    },
    {
      "cell_type": "markdown",
      "metadata": {
        "id": "7z0jW3WFCRXH"
      },
      "source": [
        "**#Summarizing everythin in one place**"
      ]
    },
    {
      "cell_type": "code",
      "metadata": {
        "id": "1ZZSZ1xaBtd2"
      },
      "source": [
        "# 1. Defining Weights and biases and input and output\r\n",
        "\r\n",
        "w = tf.Variable(tf.ones(shape=[784,10], dtype=tf.float32))\r\n",
        "x = tf.placeholder(dtype=tf.float32, shape= [None, 784])\r\n",
        "b = tf.Variable(tf.ones(shape=10, dtype=tf.float32))\r\n",
        "\r\n",
        "y_pred = tf.nn.softmax(tf.matmul(x,w)+b)\r\n",
        "y_actual = tf.placeholder(dtype=tf.float32, shape=[None,10])\r\n",
        "\r\n",
        "loss = tf.reduce_mean(-tf.reduce_sum(y_actual*tf.log(y_pred), axis=1))\r\n",
        "optimizer = tf.train.AdamOptimizer().minimize(loss)\r\n",
        "\r\n",
        "ses = tf.Session()\r\n",
        "init = tf.global_variables_initializer()\r\n",
        "ses.run(init)"
      ],
      "execution_count": 40,
      "outputs": []
    },
    {
      "cell_type": "code",
      "metadata": {
        "colab": {
          "base_uri": "https://localhost:8080/"
        },
        "id": "1ziDKf1YCePg",
        "outputId": "cd5a60c2-a5c5-4c6a-8950-8c4f93f34922"
      },
      "source": [
        "from tqdm import tqdm\r\n",
        "batch_size = 1000\r\n",
        "n_epochs = 15\r\n",
        "\r\n",
        "xs, train_loss, test_loss = [], [], []\r\n",
        "\r\n",
        "for i in tqdm(range(n_epochs)):\r\n",
        "  train_error = 0.0\r\n",
        "  test_error = 0.0\r\n",
        "  for j in range(int(mnist.train.num_examples/batch_size)):\r\n",
        "    batch_x, batch_y = mnist.train.next_batch(batch_size)\r\n",
        "    _ ,c = ses.run([optimizer, loss], feed_dict={x:batch_x, y_actual:batch_y})\r\n",
        "    train_error = train_error+c\r\n",
        "    c_pred = ses.run(loss, feed_dict={x:mnist.test.images, y_actual:mnist.test.labels})\r\n",
        "    test_error = test_error+c_pred\r\n",
        "  \r\n",
        "  train_loss.append(train_error)\r\n",
        "  test_loss.append(test_error)\r\n"
      ],
      "execution_count": 42,
      "outputs": [
        {
          "output_type": "stream",
          "text": [
            "\n",
            "  0%|          | 0/15 [00:00<?, ?it/s]\u001b[A\n",
            "  7%|▋         | 1/15 [00:00<00:11,  1.24it/s]\u001b[A\n",
            " 13%|█▎        | 2/15 [00:01<00:10,  1.26it/s]\u001b[A\n",
            " 20%|██        | 3/15 [00:02<00:09,  1.29it/s]\u001b[A\n",
            " 27%|██▋       | 4/15 [00:03<00:08,  1.29it/s]\u001b[A\n",
            " 33%|███▎      | 5/15 [00:03<00:07,  1.30it/s]\u001b[A\n",
            " 40%|████      | 6/15 [00:04<00:06,  1.31it/s]\u001b[A\n",
            " 47%|████▋     | 7/15 [00:05<00:06,  1.33it/s]\u001b[A\n",
            " 53%|█████▎    | 8/15 [00:06<00:05,  1.31it/s]\u001b[A\n",
            " 60%|██████    | 9/15 [00:06<00:04,  1.32it/s]\u001b[A\n",
            " 67%|██████▋   | 10/15 [00:07<00:03,  1.32it/s]\u001b[A\n",
            " 73%|███████▎  | 11/15 [00:08<00:03,  1.33it/s]\u001b[A\n",
            " 80%|████████  | 12/15 [00:09<00:02,  1.32it/s]\u001b[A\n",
            " 87%|████████▋ | 13/15 [00:09<00:01,  1.33it/s]\u001b[A\n",
            " 93%|█████████▎| 14/15 [00:10<00:00,  1.33it/s]\u001b[A\n",
            "100%|██████████| 15/15 [00:11<00:00,  1.32it/s]\n"
          ],
          "name": "stderr"
        }
      ]
    },
    {
      "cell_type": "code",
      "metadata": {
        "colab": {
          "base_uri": "https://localhost:8080/"
        },
        "id": "IwXoKICxLs0x",
        "outputId": "7eae3294-4c4a-49bd-867d-4d8cea89b9f2"
      },
      "source": [
        "correct_pred = tf.equal(tf.argmax(y_pred, axis=1), tf.argmax(y_actual, axis=1))\r\n",
        "print(\"The correct prediction on test data is :\")\r\n",
        "print(ses.run(correct_pred, feed_dict={x:mnist.test.images, y_actual:mnist.test.labels}))\r\n",
        "accuracy = tf.reduce_mean(tf.cast(correct_pred, dtype=tf.float32))\r\n",
        "print(\"The accuracy on test data is :\")\r\n",
        "ses.run(accuracy, feed_dict={x:mnist.test.images, y_actual:mnist.test.labels})"
      ],
      "execution_count": 44,
      "outputs": [
        {
          "output_type": "stream",
          "text": [
            "The correct prediction on test data is :\n",
            "[ True  True  True ...  True  True  True]\n",
            "The accuracy on test data is :\n"
          ],
          "name": "stdout"
        },
        {
          "output_type": "execute_result",
          "data": {
            "text/plain": [
              "0.9172"
            ]
          },
          "metadata": {
            "tags": []
          },
          "execution_count": 44
        }
      ]
    },
    {
      "cell_type": "code",
      "metadata": {
        "colab": {
          "base_uri": "https://localhost:8080/",
          "height": 294
        },
        "id": "zauK_zsAMQFD",
        "outputId": "91f44459-5493-48fc-ebf1-9b3d6b77429e"
      },
      "source": [
        "import matplotlib.pyplot as plt\r\n",
        "plt.plot(range(1,16),train_loss , label = \"training loss\")\r\n",
        "plt.plot(range(1,16), test_loss, label='test loss')\r\n",
        "plt.legend()\r\n",
        "plt.title(\"Cross_entropy Loss vs Epochs\")\r\n",
        "plt.xlabel(\"No of epochs\")\r\n",
        "plt.ylabel(\"Loss\")\r\n",
        "plt.show()"
      ],
      "execution_count": 49,
      "outputs": [
        {
          "output_type": "display_data",
          "data": {
            "image/png": "[encoded data removed]",
            "text/plain": [
              "<Figure size 432x288 with 1 Axes>"
            ]
          },
          "metadata": {
            "tags": [],
            "needs_background": "light"
          }
        }
      ]
    }
  ]
}